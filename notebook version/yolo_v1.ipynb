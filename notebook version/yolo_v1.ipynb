{
  "nbformat": 4,
  "nbformat_minor": 0,
  "metadata": {
    "colab": {
      "name": "yolo v1.ipynb",
      "provenance": [],
      "collapsed_sections": [],
      "machine_shape": "hm"
    },
    "kernelspec": {
      "name": "python3",
      "display_name": "Python 3"
    },
    "language_info": {
      "name": "python"
    },
    "accelerator": "GPU"
  },
  "cells": [
    {
      "cell_type": "markdown",
      "metadata": {
        "id": "267uy3-cu8NK"
      },
      "source": [
        "# data preprocessing\n",
        "This class did 2 things:\n",
        "\n",
        "1.read & normalize the images, store them into a list.\n",
        "\n",
        "2.read the label information from xml annotation file, convert the information into our required shape [num_samples, width, height, channels]. Since we split each image into 7*7 cells and each cells contain boxes, the width and height here represents the location of cell. the shape of chennels is [5+num_classes] which represents the location information of the ground truth box and the class information.\n"
      ]
    },
    {
      "cell_type": "code",
      "metadata": {
        "id": "LHKgbKrO6stQ"
      },
      "source": [
        "import cv2\n",
        "import numpy as np\n",
        "import os\n",
        "from xml.etree import cElementTree as ET\n",
        "import math\n",
        "import torchvision\n",
        "import matplotlib.pyplot as plt\n",
        "\n",
        "\n",
        "class data_preprocessing:\n",
        "    def __init__(self, data_path, annotation_path, cls=3, target_image_size=448, cell_size=7):\n",
        "        self.data_path = data_path\n",
        "        self.annotation_path = annotation_path\n",
        "        self.cell_size = cell_size  # the number of cells we want to split an image into\n",
        "        self.target_image_size = target_image_size\n",
        "        self.num_cls = cls\n",
        "\n",
        "    def load_image(self, image_path):\n",
        "        img = cv2.imread(image_path)  # read image\n",
        "        img = cv2.resize(img, (self.target_image_size, self.target_image_size))\n",
        "        return img/255\n",
        "\n",
        "    def image_prepare(self):\n",
        "        data = os.listdir(self.data_path)\n",
        "        data_set = []\n",
        "        data.sort()\n",
        "        for filename in data:\n",
        "            img = self.load_image(os.path.join(self.data_path, filename))\n",
        "            data_set.append(img)\n",
        "        return data_set\n",
        "\n",
        "    def load_annotation(self, annotation_obj):\n",
        "        data = np.array(os.listdir(self.data_path))\n",
        "        original_data_size = cv2.imread(os.path.join(self.data_path, data[0])).shape\n",
        "        height_ratio = original_data_size[0] / self.target_image_size\n",
        "        width_ratio = original_data_size[1] / self.target_image_size\n",
        "        # the label for training, the shape is (cell_size, cell_size, )\n",
        "        label = np.zeros((self.cell_size, self.cell_size,\n",
        "                          5 + self.num_cls))  # 1 confidence value + 4 position info + number of classes\n",
        "        annotation_path = os.path.join(self.annotation_path, annotation_obj)\n",
        "        tree = ET.parse(annotation_path)\n",
        "        objs = tree.findall('object')\n",
        "        for obj in objs:\n",
        "            bbox = obj.find('bndbox')\n",
        "            x_min = float(bbox.find('xmin').text)\n",
        "            x_max = float(bbox.find('xmax').text)\n",
        "            y_min = float(bbox.find('ymin').text)\n",
        "            y_max = float(bbox.find('ymax').text)\n",
        "            # calculate the center of this image\n",
        "            x_center = (x_min + x_max) / 2\n",
        "            y_center = (y_min + y_max) / 2\n",
        "            width = x_max - x_min\n",
        "            height = y_max - y_min\n",
        "            # to determine which grid cell the center point locate at\n",
        "            x_cell = int(x_center * self.cell_size / self.target_image_size)\n",
        "            y_cell = int(y_center * self.cell_size / self.target_image_size)\n",
        "            # if the center is out of bound, set the limit\n",
        "            if x_cell > 6:\n",
        "                x_cell = 6\n",
        "            if y_cell > 6:\n",
        "                y_cell = 6\n",
        "            if label[x_cell, y_cell, 4] == 1:\n",
        "                continue\n",
        "            label[x_cell, y_cell, 4] = 1\n",
        "            bndbox_new = [x_center, y_center, width, height]\n",
        "            label[x_cell, y_cell, 0:4] = bndbox_new\n",
        "            # we have three classes in total, with_mask, without_mask and mask_weared_incorrect.\n",
        "            cls2index = {'with_mask': 1, 'without_mask': 2,\n",
        "                         'mask_weared_incorrect': 3}\n",
        "            # find the according class for the bounding box\n",
        "            cls_info = cls2index[obj.find('name').text.lower().strip()]\n",
        "            label[x_cell, y_cell, 5 + cls_info - 1] = 1\n",
        "        return label\n",
        "\n",
        "    def annotation_prepare(self):\n",
        "        annotation_list = os.listdir(self.annotation_path)\n",
        "        labels = []\n",
        "        annotation_list.sort()\n",
        "        print(annotation_list)\n",
        "        for annotation_obj in annotation_list:\n",
        "            label = self.load_annotation(annotation_obj)\n",
        "            labels.append(label)\n",
        "        return np.array(labels)\n",
        "\n",
        "    def one_stop(self):\n",
        "        data = np.array(self.image_prepare())\n",
        "        labels = np.array(self.annotation_prepare())\n",
        "        print('shape of the data :{}'.format(data.shape))\n",
        "        print('shape of the label :{}'.format(labels.shape))\n",
        "        return data, labels\n",
        "\n",
        "    # def draw_box(self, img_name, labels):\n",
        "    #     img = cv2.imread(self.data_path + \"JPEGImages/\" + img_name)\n",
        "    #     h, w = img.shape[:2]\n",
        "    #     for label in labels:\n",
        "    #         label = label.split(' ')\n",
        "    #         label = [float(x.strip()) for x in label]\n",
        "    #         pt1 = (int(label[1] * w - label[3] * w / 2), int(label[2] * h - label[4] * h / 2))\n",
        "    #         pt2 = (int(label[1] * w + label[3] * w / 2), int(label[2] * h + label[4] * h / 2))\n",
        "    #         cv2.putText(img, CLASSES[int(label[0])], pt1, cv2.FONT_HERSHEY_SIMPLEX, 0.5, (0, 0, 255))\n",
        "    #         cv2.rectangle(img, pt1, pt2, (0, 0, 255, 2))\n",
        "    #     cv2.imshow(\"img\", img)\n",
        "    #     cv2.waitKey(0)"
      ],
      "execution_count": null,
      "outputs": []
    },
    {
      "cell_type": "markdown",
      "metadata": {
        "id": "S8v0Bcn6oJqQ"
      },
      "source": [
        "# Test data preparation result"
      ]
    },
    {
      "cell_type": "code",
      "metadata": {
        "colab": {
          "base_uri": "https://localhost:8080/"
        },
        "id": "8LO3lNawSzat",
        "outputId": "2f2beb53-3c66-40f5-c212-ab24480ba6d5"
      },
      "source": [
        "test = data_preprocessing(data_path=\"/content/images_train\",annotation_path=\"/content/annotations_train\")\n",
        "data, labels = test.one_stop()"
      ],
      "execution_count": null,
      "outputs": [
        {
          "output_type": "stream",
          "name": "stdout",
          "text": [
            "['maksssksksss0.xml', 'maksssksksss1.xml', 'maksssksksss10.xml', 'maksssksksss100.xml', 'maksssksksss101.xml', 'maksssksksss102.xml', 'maksssksksss103.xml', 'maksssksksss104.xml', 'maksssksksss105.xml', 'maksssksksss106.xml', 'maksssksksss107.xml', 'maksssksksss108.xml', 'maksssksksss109.xml', 'maksssksksss11.xml', 'maksssksksss110.xml', 'maksssksksss111.xml', 'maksssksksss112.xml', 'maksssksksss113.xml', 'maksssksksss114.xml', 'maksssksksss115.xml', 'maksssksksss116.xml', 'maksssksksss117.xml', 'maksssksksss118.xml', 'maksssksksss119.xml', 'maksssksksss12.xml', 'maksssksksss120.xml', 'maksssksksss121.xml', 'maksssksksss122.xml', 'maksssksksss123.xml', 'maksssksksss124.xml', 'maksssksksss125.xml', 'maksssksksss126.xml', 'maksssksksss127.xml', 'maksssksksss128.xml', 'maksssksksss129.xml', 'maksssksksss13.xml', 'maksssksksss130.xml', 'maksssksksss131.xml', 'maksssksksss132.xml', 'maksssksksss133.xml', 'maksssksksss134.xml', 'maksssksksss135.xml', 'maksssksksss136.xml', 'maksssksksss137.xml', 'maksssksksss138.xml', 'maksssksksss139.xml', 'maksssksksss14.xml', 'maksssksksss140.xml', 'maksssksksss141.xml', 'maksssksksss142.xml', 'maksssksksss143.xml', 'maksssksksss144.xml', 'maksssksksss145.xml', 'maksssksksss146.xml', 'maksssksksss147.xml', 'maksssksksss148.xml', 'maksssksksss149.xml', 'maksssksksss15.xml', 'maksssksksss150.xml', 'maksssksksss151.xml', 'maksssksksss152.xml', 'maksssksksss153.xml', 'maksssksksss154.xml', 'maksssksksss155.xml', 'maksssksksss156.xml', 'maksssksksss157.xml', 'maksssksksss158.xml', 'maksssksksss159.xml', 'maksssksksss16.xml', 'maksssksksss160.xml', 'maksssksksss161.xml', 'maksssksksss162.xml', 'maksssksksss163.xml', 'maksssksksss164.xml', 'maksssksksss165.xml', 'maksssksksss166.xml', 'maksssksksss167.xml', 'maksssksksss168.xml', 'maksssksksss169.xml', 'maksssksksss17.xml', 'maksssksksss170.xml', 'maksssksksss171.xml', 'maksssksksss172.xml', 'maksssksksss173.xml', 'maksssksksss174.xml', 'maksssksksss175.xml', 'maksssksksss176.xml', 'maksssksksss177.xml', 'maksssksksss178.xml', 'maksssksksss179.xml', 'maksssksksss18.xml', 'maksssksksss180.xml', 'maksssksksss181.xml', 'maksssksksss182.xml', 'maksssksksss183.xml', 'maksssksksss184.xml', 'maksssksksss185.xml', 'maksssksksss186.xml', 'maksssksksss187.xml', 'maksssksksss188.xml', 'maksssksksss189.xml', 'maksssksksss19.xml', 'maksssksksss190.xml', 'maksssksksss191.xml', 'maksssksksss192.xml', 'maksssksksss193.xml', 'maksssksksss194.xml', 'maksssksksss195.xml', 'maksssksksss196.xml', 'maksssksksss197.xml', 'maksssksksss198.xml', 'maksssksksss199.xml', 'maksssksksss2.xml', 'maksssksksss20.xml', 'maksssksksss200.xml', 'maksssksksss201.xml', 'maksssksksss202.xml', 'maksssksksss203.xml', 'maksssksksss204.xml', 'maksssksksss205.xml', 'maksssksksss206.xml', 'maksssksksss207.xml', 'maksssksksss208.xml', 'maksssksksss209.xml', 'maksssksksss21.xml', 'maksssksksss210.xml', 'maksssksksss211.xml', 'maksssksksss212.xml', 'maksssksksss213.xml', 'maksssksksss214.xml', 'maksssksksss215.xml', 'maksssksksss216.xml', 'maksssksksss217.xml', 'maksssksksss218.xml', 'maksssksksss219.xml', 'maksssksksss22.xml', 'maksssksksss220.xml', 'maksssksksss221.xml', 'maksssksksss222.xml', 'maksssksksss223.xml', 'maksssksksss224.xml', 'maksssksksss225.xml', 'maksssksksss226.xml', 'maksssksksss227.xml', 'maksssksksss228.xml', 'maksssksksss229.xml', 'maksssksksss23.xml', 'maksssksksss230.xml', 'maksssksksss231.xml', 'maksssksksss232.xml', 'maksssksksss233.xml', 'maksssksksss234.xml', 'maksssksksss235.xml', 'maksssksksss236.xml', 'maksssksksss237.xml', 'maksssksksss238.xml', 'maksssksksss239.xml', 'maksssksksss24.xml', 'maksssksksss240.xml', 'maksssksksss241.xml', 'maksssksksss242.xml', 'maksssksksss243.xml', 'maksssksksss244.xml', 'maksssksksss245.xml', 'maksssksksss246.xml', 'maksssksksss247.xml', 'maksssksksss248.xml', 'maksssksksss249.xml', 'maksssksksss25.xml', 'maksssksksss250.xml', 'maksssksksss251.xml', 'maksssksksss252.xml', 'maksssksksss253.xml', 'maksssksksss254.xml', 'maksssksksss255.xml', 'maksssksksss256.xml', 'maksssksksss257.xml', 'maksssksksss258.xml', 'maksssksksss259.xml', 'maksssksksss26.xml', 'maksssksksss260.xml', 'maksssksksss261.xml', 'maksssksksss262.xml', 'maksssksksss263.xml', 'maksssksksss264.xml', 'maksssksksss265.xml', 'maksssksksss266.xml', 'maksssksksss267.xml', 'maksssksksss268.xml', 'maksssksksss269.xml', 'maksssksksss27.xml', 'maksssksksss270.xml', 'maksssksksss271.xml', 'maksssksksss272.xml', 'maksssksksss273.xml', 'maksssksksss274.xml', 'maksssksksss275.xml', 'maksssksksss276.xml', 'maksssksksss277.xml', 'maksssksksss278.xml', 'maksssksksss279.xml', 'maksssksksss28.xml', 'maksssksksss280.xml', 'maksssksksss281.xml', 'maksssksksss282.xml', 'maksssksksss283.xml', 'maksssksksss284.xml', 'maksssksksss285.xml', 'maksssksksss286.xml', 'maksssksksss287.xml', 'maksssksksss288.xml', 'maksssksksss289.xml', 'maksssksksss29.xml', 'maksssksksss290.xml', 'maksssksksss291.xml', 'maksssksksss292.xml', 'maksssksksss293.xml', 'maksssksksss294.xml', 'maksssksksss295.xml', 'maksssksksss296.xml', 'maksssksksss297.xml', 'maksssksksss298.xml', 'maksssksksss299.xml', 'maksssksksss3.xml', 'maksssksksss30.xml', 'maksssksksss300.xml', 'maksssksksss301.xml', 'maksssksksss302.xml', 'maksssksksss303.xml', 'maksssksksss304.xml', 'maksssksksss305.xml', 'maksssksksss306.xml', 'maksssksksss307.xml', 'maksssksksss308.xml', 'maksssksksss309.xml', 'maksssksksss31.xml', 'maksssksksss310.xml', 'maksssksksss311.xml', 'maksssksksss312.xml', 'maksssksksss313.xml', 'maksssksksss314.xml', 'maksssksksss315.xml', 'maksssksksss316.xml', 'maksssksksss317.xml', 'maksssksksss318.xml', 'maksssksksss319.xml', 'maksssksksss32.xml', 'maksssksksss320.xml', 'maksssksksss321.xml', 'maksssksksss322.xml', 'maksssksksss323.xml', 'maksssksksss324.xml', 'maksssksksss325.xml', 'maksssksksss326.xml', 'maksssksksss327.xml', 'maksssksksss328.xml', 'maksssksksss329.xml', 'maksssksksss33.xml', 'maksssksksss330.xml', 'maksssksksss331.xml', 'maksssksksss332.xml', 'maksssksksss333.xml', 'maksssksksss334.xml', 'maksssksksss335.xml', 'maksssksksss336.xml', 'maksssksksss337.xml', 'maksssksksss338.xml', 'maksssksksss339.xml', 'maksssksksss34.xml', 'maksssksksss340.xml', 'maksssksksss341.xml', 'maksssksksss342.xml', 'maksssksksss343.xml', 'maksssksksss344.xml', 'maksssksksss345.xml', 'maksssksksss346.xml', 'maksssksksss347.xml', 'maksssksksss348.xml', 'maksssksksss349.xml', 'maksssksksss35.xml', 'maksssksksss350.xml', 'maksssksksss351.xml', 'maksssksksss352.xml', 'maksssksksss353.xml', 'maksssksksss354.xml', 'maksssksksss355.xml', 'maksssksksss356.xml', 'maksssksksss357.xml', 'maksssksksss358.xml', 'maksssksksss359.xml', 'maksssksksss36.xml', 'maksssksksss360.xml', 'maksssksksss361.xml', 'maksssksksss362.xml', 'maksssksksss363.xml', 'maksssksksss364.xml', 'maksssksksss365.xml', 'maksssksksss366.xml', 'maksssksksss367.xml', 'maksssksksss368.xml', 'maksssksksss369.xml', 'maksssksksss37.xml', 'maksssksksss370.xml', 'maksssksksss371.xml', 'maksssksksss372.xml', 'maksssksksss373.xml', 'maksssksksss374.xml', 'maksssksksss375.xml', 'maksssksksss376.xml', 'maksssksksss377.xml', 'maksssksksss378.xml', 'maksssksksss379.xml', 'maksssksksss38.xml', 'maksssksksss380.xml', 'maksssksksss381.xml', 'maksssksksss382.xml', 'maksssksksss383.xml', 'maksssksksss384.xml', 'maksssksksss385.xml', 'maksssksksss386.xml', 'maksssksksss387.xml', 'maksssksksss388.xml', 'maksssksksss389.xml', 'maksssksksss39.xml', 'maksssksksss390.xml', 'maksssksksss391.xml', 'maksssksksss392.xml', 'maksssksksss393.xml', 'maksssksksss394.xml', 'maksssksksss395.xml', 'maksssksksss396.xml', 'maksssksksss397.xml', 'maksssksksss398.xml', 'maksssksksss399.xml', 'maksssksksss4.xml', 'maksssksksss40.xml', 'maksssksksss400.xml', 'maksssksksss401.xml', 'maksssksksss402.xml', 'maksssksksss403.xml', 'maksssksksss404.xml', 'maksssksksss405.xml', 'maksssksksss406.xml', 'maksssksksss407.xml', 'maksssksksss408.xml', 'maksssksksss409.xml', 'maksssksksss41.xml', 'maksssksksss410.xml', 'maksssksksss411.xml', 'maksssksksss412.xml', 'maksssksksss413.xml', 'maksssksksss414.xml', 'maksssksksss415.xml', 'maksssksksss416.xml', 'maksssksksss417.xml', 'maksssksksss418.xml', 'maksssksksss419.xml', 'maksssksksss42.xml', 'maksssksksss420.xml', 'maksssksksss421.xml', 'maksssksksss422.xml', 'maksssksksss423.xml', 'maksssksksss424.xml', 'maksssksksss425.xml', 'maksssksksss426.xml', 'maksssksksss427.xml', 'maksssksksss428.xml', 'maksssksksss429.xml', 'maksssksksss43.xml', 'maksssksksss430.xml', 'maksssksksss431.xml', 'maksssksksss432.xml', 'maksssksksss433.xml', 'maksssksksss434.xml', 'maksssksksss435.xml', 'maksssksksss436.xml', 'maksssksksss437.xml', 'maksssksksss438.xml', 'maksssksksss439.xml', 'maksssksksss44.xml', 'maksssksksss440.xml', 'maksssksksss441.xml', 'maksssksksss442.xml', 'maksssksksss443.xml', 'maksssksksss444.xml', 'maksssksksss445.xml', 'maksssksksss446.xml', 'maksssksksss447.xml', 'maksssksksss448.xml', 'maksssksksss449.xml', 'maksssksksss45.xml', 'maksssksksss450.xml', 'maksssksksss451.xml', 'maksssksksss452.xml', 'maksssksksss453.xml', 'maksssksksss454.xml', 'maksssksksss455.xml', 'maksssksksss456.xml', 'maksssksksss457.xml', 'maksssksksss458.xml', 'maksssksksss459.xml', 'maksssksksss46.xml', 'maksssksksss460.xml', 'maksssksksss461.xml', 'maksssksksss462.xml', 'maksssksksss463.xml', 'maksssksksss464.xml', 'maksssksksss465.xml', 'maksssksksss466.xml', 'maksssksksss467.xml', 'maksssksksss468.xml', 'maksssksksss469.xml', 'maksssksksss47.xml', 'maksssksksss470.xml', 'maksssksksss471.xml', 'maksssksksss472.xml', 'maksssksksss473.xml', 'maksssksksss474.xml', 'maksssksksss475.xml', 'maksssksksss476.xml', 'maksssksksss477.xml', 'maksssksksss478.xml', 'maksssksksss479.xml', 'maksssksksss48.xml', 'maksssksksss480.xml', 'maksssksksss481.xml', 'maksssksksss482.xml', 'maksssksksss483.xml', 'maksssksksss484.xml', 'maksssksksss485.xml', 'maksssksksss486.xml', 'maksssksksss487.xml', 'maksssksksss488.xml', 'maksssksksss489.xml', 'maksssksksss49.xml', 'maksssksksss490.xml', 'maksssksksss491.xml', 'maksssksksss492.xml', 'maksssksksss493.xml', 'maksssksksss494.xml', 'maksssksksss495.xml', 'maksssksksss496.xml', 'maksssksksss497.xml', 'maksssksksss498.xml', 'maksssksksss499.xml', 'maksssksksss5.xml', 'maksssksksss50.xml', 'maksssksksss500.xml', 'maksssksksss501.xml', 'maksssksksss502.xml', 'maksssksksss503.xml', 'maksssksksss504.xml', 'maksssksksss505.xml', 'maksssksksss506.xml', 'maksssksksss507.xml', 'maksssksksss508.xml', 'maksssksksss509.xml', 'maksssksksss51.xml', 'maksssksksss510.xml', 'maksssksksss511.xml', 'maksssksksss512.xml', 'maksssksksss513.xml', 'maksssksksss514.xml', 'maksssksksss515.xml', 'maksssksksss516.xml', 'maksssksksss517.xml', 'maksssksksss518.xml', 'maksssksksss519.xml', 'maksssksksss52.xml', 'maksssksksss520.xml', 'maksssksksss521.xml', 'maksssksksss522.xml', 'maksssksksss523.xml', 'maksssksksss524.xml', 'maksssksksss525.xml', 'maksssksksss526.xml', 'maksssksksss527.xml', 'maksssksksss528.xml', 'maksssksksss529.xml', 'maksssksksss53.xml', 'maksssksksss530.xml', 'maksssksksss531.xml', 'maksssksksss532.xml', 'maksssksksss533.xml', 'maksssksksss534.xml', 'maksssksksss535.xml', 'maksssksksss536.xml', 'maksssksksss537.xml', 'maksssksksss538.xml', 'maksssksksss539.xml', 'maksssksksss54.xml', 'maksssksksss540.xml', 'maksssksksss541.xml', 'maksssksksss542.xml', 'maksssksksss543.xml', 'maksssksksss544.xml', 'maksssksksss545.xml', 'maksssksksss546.xml', 'maksssksksss547.xml', 'maksssksksss548.xml', 'maksssksksss549.xml', 'maksssksksss55.xml', 'maksssksksss550.xml', 'maksssksksss551.xml', 'maksssksksss552.xml', 'maksssksksss553.xml', 'maksssksksss554.xml', 'maksssksksss555.xml', 'maksssksksss556.xml', 'maksssksksss557.xml', 'maksssksksss558.xml', 'maksssksksss559.xml', 'maksssksksss56.xml', 'maksssksksss560.xml', 'maksssksksss561.xml', 'maksssksksss562.xml', 'maksssksksss563.xml', 'maksssksksss564.xml', 'maksssksksss565.xml', 'maksssksksss566.xml', 'maksssksksss567.xml', 'maksssksksss568.xml', 'maksssksksss569.xml', 'maksssksksss57.xml', 'maksssksksss570.xml', 'maksssksksss571.xml', 'maksssksksss572.xml', 'maksssksksss573.xml', 'maksssksksss574.xml', 'maksssksksss575.xml', 'maksssksksss576.xml', 'maksssksksss577.xml', 'maksssksksss578.xml', 'maksssksksss579.xml', 'maksssksksss58.xml', 'maksssksksss580.xml', 'maksssksksss581.xml', 'maksssksksss582.xml', 'maksssksksss583.xml', 'maksssksksss584.xml', 'maksssksksss585.xml', 'maksssksksss586.xml', 'maksssksksss587.xml', 'maksssksksss588.xml', 'maksssksksss589.xml', 'maksssksksss59.xml', 'maksssksksss590.xml', 'maksssksksss591.xml', 'maksssksksss592.xml', 'maksssksksss593.xml', 'maksssksksss594.xml', 'maksssksksss595.xml', 'maksssksksss596.xml', 'maksssksksss597.xml', 'maksssksksss598.xml', 'maksssksksss599.xml', 'maksssksksss6.xml', 'maksssksksss60.xml', 'maksssksksss600.xml', 'maksssksksss601.xml', 'maksssksksss602.xml', 'maksssksksss603.xml', 'maksssksksss61.xml', 'maksssksksss62.xml', 'maksssksksss63.xml', 'maksssksksss64.xml', 'maksssksksss65.xml', 'maksssksksss66.xml', 'maksssksksss67.xml', 'maksssksksss68.xml', 'maksssksksss69.xml', 'maksssksksss7.xml', 'maksssksksss70.xml', 'maksssksksss71.xml', 'maksssksksss72.xml', 'maksssksksss73.xml', 'maksssksksss74.xml', 'maksssksksss75.xml', 'maksssksksss76.xml', 'maksssksksss77.xml', 'maksssksksss78.xml', 'maksssksksss79.xml', 'maksssksksss8.xml', 'maksssksksss80.xml', 'maksssksksss81.xml', 'maksssksksss82.xml', 'maksssksksss83.xml', 'maksssksksss84.xml', 'maksssksksss85.xml', 'maksssksksss86.xml', 'maksssksksss87.xml', 'maksssksksss88.xml', 'maksssksksss89.xml', 'maksssksksss9.xml', 'maksssksksss90.xml', 'maksssksksss91.xml', 'maksssksksss92.xml', 'maksssksksss93.xml', 'maksssksksss94.xml', 'maksssksksss95.xml', 'maksssksksss96.xml', 'maksssksksss97.xml', 'maksssksksss98.xml', 'maksssksksss99.xml']\n",
            "shape of the data :(604, 448, 448, 3)\n",
            "shape of the label :(604, 7, 7, 8)\n"
          ]
        }
      ]
    },
    {
      "cell_type": "code",
      "metadata": {
        "colab": {
          "base_uri": "https://localhost:8080/"
        },
        "id": "qy_xO4PdQ3B8",
        "outputId": "82badba8-2448-48f6-f0e1-3b76d7eec4d8"
      },
      "source": [
        "labels[7]"
      ],
      "execution_count": null,
      "outputs": [
        {
          "output_type": "execute_result",
          "data": {
            "text/plain": [
              "array([[[  0. ,   0. ,   0. ,   0. ,   0. ,   0. ,   0. ,   0. ],\n",
              "        [ 54. , 124.5,  24. ,  31. ,   1. ,   0. ,   1. ,   0. ],\n",
              "        [  0. ,   0. ,   0. ,   0. ,   0. ,   0. ,   0. ,   0. ],\n",
              "        [  0. ,   0. ,   0. ,   0. ,   0. ,   0. ,   0. ,   0. ],\n",
              "        [  0. ,   0. ,   0. ,   0. ,   0. ,   0. ,   0. ,   0. ],\n",
              "        [  0. ,   0. ,   0. ,   0. ,   0. ,   0. ,   0. ,   0. ],\n",
              "        [  0. ,   0. ,   0. ,   0. ,   0. ,   0. ,   0. ,   0. ]],\n",
              "\n",
              "       [[  0. ,   0. ,   0. ,   0. ,   0. ,   0. ,   0. ,   0. ],\n",
              "        [ 89.5,  90.5,  13. ,  11. ,   1. ,   0. ,   1. ,   0. ],\n",
              "        [  0. ,   0. ,   0. ,   0. ,   0. ,   0. ,   0. ,   0. ],\n",
              "        [  0. ,   0. ,   0. ,   0. ,   0. ,   0. ,   0. ,   0. ],\n",
              "        [  0. ,   0. ,   0. ,   0. ,   0. ,   0. ,   0. ,   0. ],\n",
              "        [  0. ,   0. ,   0. ,   0. ,   0. ,   0. ,   0. ,   0. ],\n",
              "        [  0. ,   0. ,   0. ,   0. ,   0. ,   0. ,   0. ,   0. ]],\n",
              "\n",
              "       [[  0. ,   0. ,   0. ,   0. ,   0. ,   0. ,   0. ,   0. ],\n",
              "        [173.5,  99.5,  13. ,  17. ,   1. ,   0. ,   1. ,   0. ],\n",
              "        [153.5, 130. ,  41. ,  44. ,   1. ,   1. ,   0. ,   0. ],\n",
              "        [  0. ,   0. ,   0. ,   0. ,   0. ,   0. ,   0. ,   0. ],\n",
              "        [  0. ,   0. ,   0. ,   0. ,   0. ,   0. ,   0. ,   0. ],\n",
              "        [  0. ,   0. ,   0. ,   0. ,   0. ,   0. ,   0. ,   0. ],\n",
              "        [  0. ,   0. ,   0. ,   0. ,   0. ,   0. ,   0. ,   0. ]],\n",
              "\n",
              "       [[  0. ,   0. ,   0. ,   0. ,   0. ,   0. ,   0. ,   0. ],\n",
              "        [238.5, 120. ,  35. ,  38. ,   1. ,   1. ,   0. ,   0. ],\n",
              "        [  0. ,   0. ,   0. ,   0. ,   0. ,   0. ,   0. ,   0. ],\n",
              "        [  0. ,   0. ,   0. ,   0. ,   0. ,   0. ,   0. ,   0. ],\n",
              "        [  0. ,   0. ,   0. ,   0. ,   0. ,   0. ,   0. ,   0. ],\n",
              "        [  0. ,   0. ,   0. ,   0. ,   0. ,   0. ,   0. ,   0. ],\n",
              "        [  0. ,   0. ,   0. ,   0. ,   0. ,   0. ,   0. ,   0. ]],\n",
              "\n",
              "       [[  0. ,   0. ,   0. ,   0. ,   0. ,   0. ,   0. ,   0. ],\n",
              "        [  0. ,   0. ,   0. ,   0. ,   0. ,   0. ,   0. ,   0. ],\n",
              "        [317.5, 144.5,  27. ,  27. ,   1. ,   0. ,   1. ,   0. ],\n",
              "        [  0. ,   0. ,   0. ,   0. ,   0. ,   0. ,   0. ,   0. ],\n",
              "        [  0. ,   0. ,   0. ,   0. ,   0. ,   0. ,   0. ,   0. ],\n",
              "        [  0. ,   0. ,   0. ,   0. ,   0. ,   0. ,   0. ,   0. ],\n",
              "        [  0. ,   0. ,   0. ,   0. ,   0. ,   0. ,   0. ,   0. ]],\n",
              "\n",
              "       [[  0. ,   0. ,   0. ,   0. ,   0. ,   0. ,   0. ,   0. ],\n",
              "        [  0. ,   0. ,   0. ,   0. ,   0. ,   0. ,   0. ,   0. ],\n",
              "        [  0. ,   0. ,   0. ,   0. ,   0. ,   0. ,   0. ,   0. ],\n",
              "        [  0. ,   0. ,   0. ,   0. ,   0. ,   0. ,   0. ,   0. ],\n",
              "        [  0. ,   0. ,   0. ,   0. ,   0. ,   0. ,   0. ,   0. ],\n",
              "        [  0. ,   0. ,   0. ,   0. ,   0. ,   0. ,   0. ,   0. ],\n",
              "        [  0. ,   0. ,   0. ,   0. ,   0. ,   0. ,   0. ,   0. ]],\n",
              "\n",
              "       [[  0. ,   0. ,   0. ,   0. ,   0. ,   0. ,   0. ,   0. ],\n",
              "        [  0. ,   0. ,   0. ,   0. ,   0. ,   0. ,   0. ,   0. ],\n",
              "        [  0. ,   0. ,   0. ,   0. ,   0. ,   0. ,   0. ,   0. ],\n",
              "        [  0. ,   0. ,   0. ,   0. ,   0. ,   0. ,   0. ,   0. ],\n",
              "        [  0. ,   0. ,   0. ,   0. ,   0. ,   0. ,   0. ,   0. ],\n",
              "        [  0. ,   0. ,   0. ,   0. ,   0. ,   0. ,   0. ,   0. ],\n",
              "        [  0. ,   0. ,   0. ,   0. ,   0. ,   0. ,   0. ,   0. ]]])"
            ]
          },
          "metadata": {},
          "execution_count": 3
        }
      ]
    },
    {
      "cell_type": "code",
      "metadata": {
        "colab": {
          "base_uri": "https://localhost:8080/",
          "height": 287
        },
        "id": "W7ySy_zzwJpm",
        "outputId": "f0f68c6f-3ad7-4ec3-9986-647eac295857"
      },
      "source": [
        "import matplotlib.pyplot as plt\n",
        "plt.imshow(data[7])"
      ],
      "execution_count": null,
      "outputs": [
        {
          "output_type": "execute_result",
          "data": {
            "text/plain": [
              "<matplotlib.image.AxesImage at 0x7f75f1b02490>"
            ]
          },
          "metadata": {},
          "execution_count": 4
        },
        {
          "output_type": "display_data",
          "data": {
            "image/png": "[encoded data removed]",
            "text/plain": [
              "<Figure size 432x288 with 1 Axes>"
            ]
          },
          "metadata": {
            "needs_background": "light"
          }
        }
      ]
    },
    {
      "cell_type": "markdown",
      "metadata": {
        "id": "86ZyX7CiozGz"
      },
      "source": [
        "# mask dataset\n",
        "To prepare the dataset class for pytorch data loader"
      ]
    },
    {
      "cell_type": "code",
      "metadata": {
        "id": "NwKCQvBNo0wm"
      },
      "source": [
        "from torch.utils.data import Dataset\n",
        "import torchvision\n",
        "\n",
        "\n",
        "class mask_data_set(Dataset):\n",
        "    def __init__(self, is_train=True):\n",
        "        if is_train:\n",
        "            self.dataset = data_preprocessing('/content/images_train','/content/annotations_train')\n",
        "            self.image, self.label = self.dataset.one_stop()\n",
        "        else:\n",
        "            self.dataset = data_preprocessing('/content/images_val','/content/annotations_val')\n",
        "            self.image, self.label = self.dataset.one_stop()\n",
        "\n",
        "    def __len__(self):\n",
        "        return len(self.image)\n",
        "\n",
        "    def __getitem__(self, item):\n",
        "        return torchvision.transforms.ToTensor()(self.image[item]), torchvision.transforms.ToTensor()(self.label[item])"
      ],
      "execution_count": null,
      "outputs": []
    },
    {
      "cell_type": "code",
      "metadata": {
        "colab": {
          "base_uri": "https://localhost:8080/"
        },
        "id": "Ysy1Uj2o8nx8",
        "outputId": "4f4d5194-e3e6-41d5-c4e2-7c00f4c47463"
      },
      "source": [
        "dataset = mask_data_set()"
      ],
      "execution_count": null,
      "outputs": [
        {
          "output_type": "stream",
          "name": "stdout",
          "text": [
            "['maksssksksss0.xml', 'maksssksksss1.xml', 'maksssksksss10.xml', 'maksssksksss100.xml', 'maksssksksss101.xml', 'maksssksksss102.xml', 'maksssksksss103.xml', 'maksssksksss104.xml', 'maksssksksss105.xml', 'maksssksksss106.xml', 'maksssksksss107.xml', 'maksssksksss108.xml', 'maksssksksss109.xml', 'maksssksksss11.xml', 'maksssksksss110.xml', 'maksssksksss111.xml', 'maksssksksss112.xml', 'maksssksksss113.xml', 'maksssksksss114.xml', 'maksssksksss115.xml', 'maksssksksss116.xml', 'maksssksksss117.xml', 'maksssksksss118.xml', 'maksssksksss119.xml', 'maksssksksss12.xml', 'maksssksksss120.xml', 'maksssksksss121.xml', 'maksssksksss122.xml', 'maksssksksss123.xml', 'maksssksksss124.xml', 'maksssksksss125.xml', 'maksssksksss126.xml', 'maksssksksss127.xml', 'maksssksksss128.xml', 'maksssksksss129.xml', 'maksssksksss13.xml', 'maksssksksss130.xml', 'maksssksksss131.xml', 'maksssksksss132.xml', 'maksssksksss133.xml', 'maksssksksss134.xml', 'maksssksksss135.xml', 'maksssksksss136.xml', 'maksssksksss137.xml', 'maksssksksss138.xml', 'maksssksksss139.xml', 'maksssksksss14.xml', 'maksssksksss140.xml', 'maksssksksss141.xml', 'maksssksksss142.xml', 'maksssksksss143.xml', 'maksssksksss144.xml', 'maksssksksss145.xml', 'maksssksksss146.xml', 'maksssksksss147.xml', 'maksssksksss148.xml', 'maksssksksss149.xml', 'maksssksksss15.xml', 'maksssksksss150.xml', 'maksssksksss151.xml', 'maksssksksss152.xml', 'maksssksksss153.xml', 'maksssksksss154.xml', 'maksssksksss155.xml', 'maksssksksss156.xml', 'maksssksksss157.xml', 'maksssksksss158.xml', 'maksssksksss159.xml', 'maksssksksss16.xml', 'maksssksksss160.xml', 'maksssksksss161.xml', 'maksssksksss162.xml', 'maksssksksss163.xml', 'maksssksksss164.xml', 'maksssksksss165.xml', 'maksssksksss166.xml', 'maksssksksss167.xml', 'maksssksksss168.xml', 'maksssksksss169.xml', 'maksssksksss17.xml', 'maksssksksss170.xml', 'maksssksksss171.xml', 'maksssksksss172.xml', 'maksssksksss173.xml', 'maksssksksss174.xml', 'maksssksksss175.xml', 'maksssksksss176.xml', 'maksssksksss177.xml', 'maksssksksss178.xml', 'maksssksksss179.xml', 'maksssksksss18.xml', 'maksssksksss180.xml', 'maksssksksss181.xml', 'maksssksksss182.xml', 'maksssksksss183.xml', 'maksssksksss184.xml', 'maksssksksss185.xml', 'maksssksksss186.xml', 'maksssksksss187.xml', 'maksssksksss188.xml', 'maksssksksss189.xml', 'maksssksksss19.xml', 'maksssksksss190.xml', 'maksssksksss191.xml', 'maksssksksss192.xml', 'maksssksksss193.xml', 'maksssksksss194.xml', 'maksssksksss195.xml', 'maksssksksss196.xml', 'maksssksksss197.xml', 'maksssksksss198.xml', 'maksssksksss199.xml', 'maksssksksss2.xml', 'maksssksksss20.xml', 'maksssksksss200.xml', 'maksssksksss201.xml', 'maksssksksss202.xml', 'maksssksksss203.xml', 'maksssksksss204.xml', 'maksssksksss205.xml', 'maksssksksss206.xml', 'maksssksksss207.xml', 'maksssksksss208.xml', 'maksssksksss209.xml', 'maksssksksss21.xml', 'maksssksksss210.xml', 'maksssksksss211.xml', 'maksssksksss212.xml', 'maksssksksss213.xml', 'maksssksksss214.xml', 'maksssksksss215.xml', 'maksssksksss216.xml', 'maksssksksss217.xml', 'maksssksksss218.xml', 'maksssksksss219.xml', 'maksssksksss22.xml', 'maksssksksss220.xml', 'maksssksksss221.xml', 'maksssksksss222.xml', 'maksssksksss223.xml', 'maksssksksss224.xml', 'maksssksksss225.xml', 'maksssksksss226.xml', 'maksssksksss227.xml', 'maksssksksss228.xml', 'maksssksksss229.xml', 'maksssksksss23.xml', 'maksssksksss230.xml', 'maksssksksss231.xml', 'maksssksksss232.xml', 'maksssksksss233.xml', 'maksssksksss234.xml', 'maksssksksss235.xml', 'maksssksksss236.xml', 'maksssksksss237.xml', 'maksssksksss238.xml', 'maksssksksss239.xml', 'maksssksksss24.xml', 'maksssksksss240.xml', 'maksssksksss241.xml', 'maksssksksss242.xml', 'maksssksksss243.xml', 'maksssksksss244.xml', 'maksssksksss245.xml', 'maksssksksss246.xml', 'maksssksksss247.xml', 'maksssksksss248.xml', 'maksssksksss249.xml', 'maksssksksss25.xml', 'maksssksksss250.xml', 'maksssksksss251.xml', 'maksssksksss252.xml', 'maksssksksss253.xml', 'maksssksksss254.xml', 'maksssksksss255.xml', 'maksssksksss256.xml', 'maksssksksss257.xml', 'maksssksksss258.xml', 'maksssksksss259.xml', 'maksssksksss26.xml', 'maksssksksss260.xml', 'maksssksksss261.xml', 'maksssksksss262.xml', 'maksssksksss263.xml', 'maksssksksss264.xml', 'maksssksksss265.xml', 'maksssksksss266.xml', 'maksssksksss267.xml', 'maksssksksss268.xml', 'maksssksksss269.xml', 'maksssksksss27.xml', 'maksssksksss270.xml', 'maksssksksss271.xml', 'maksssksksss272.xml', 'maksssksksss273.xml', 'maksssksksss274.xml', 'maksssksksss275.xml', 'maksssksksss276.xml', 'maksssksksss277.xml', 'maksssksksss278.xml', 'maksssksksss279.xml', 'maksssksksss28.xml', 'maksssksksss280.xml', 'maksssksksss281.xml', 'maksssksksss282.xml', 'maksssksksss283.xml', 'maksssksksss284.xml', 'maksssksksss285.xml', 'maksssksksss286.xml', 'maksssksksss287.xml', 'maksssksksss288.xml', 'maksssksksss289.xml', 'maksssksksss29.xml', 'maksssksksss290.xml', 'maksssksksss291.xml', 'maksssksksss292.xml', 'maksssksksss293.xml', 'maksssksksss294.xml', 'maksssksksss295.xml', 'maksssksksss296.xml', 'maksssksksss297.xml', 'maksssksksss298.xml', 'maksssksksss299.xml', 'maksssksksss3.xml', 'maksssksksss30.xml', 'maksssksksss300.xml', 'maksssksksss301.xml', 'maksssksksss302.xml', 'maksssksksss303.xml', 'maksssksksss304.xml', 'maksssksksss305.xml', 'maksssksksss306.xml', 'maksssksksss307.xml', 'maksssksksss308.xml', 'maksssksksss309.xml', 'maksssksksss31.xml', 'maksssksksss310.xml', 'maksssksksss311.xml', 'maksssksksss312.xml', 'maksssksksss313.xml', 'maksssksksss314.xml', 'maksssksksss315.xml', 'maksssksksss316.xml', 'maksssksksss317.xml', 'maksssksksss318.xml', 'maksssksksss319.xml', 'maksssksksss32.xml', 'maksssksksss320.xml', 'maksssksksss321.xml', 'maksssksksss322.xml', 'maksssksksss323.xml', 'maksssksksss324.xml', 'maksssksksss325.xml', 'maksssksksss326.xml', 'maksssksksss327.xml', 'maksssksksss328.xml', 'maksssksksss329.xml', 'maksssksksss33.xml', 'maksssksksss330.xml', 'maksssksksss331.xml', 'maksssksksss332.xml', 'maksssksksss333.xml', 'maksssksksss334.xml', 'maksssksksss335.xml', 'maksssksksss336.xml', 'maksssksksss337.xml', 'maksssksksss338.xml', 'maksssksksss339.xml', 'maksssksksss34.xml', 'maksssksksss340.xml', 'maksssksksss341.xml', 'maksssksksss342.xml', 'maksssksksss343.xml', 'maksssksksss344.xml', 'maksssksksss345.xml', 'maksssksksss346.xml', 'maksssksksss347.xml', 'maksssksksss348.xml', 'maksssksksss349.xml', 'maksssksksss35.xml', 'maksssksksss350.xml', 'maksssksksss351.xml', 'maksssksksss352.xml', 'maksssksksss353.xml', 'maksssksksss354.xml', 'maksssksksss355.xml', 'maksssksksss356.xml', 'maksssksksss357.xml', 'maksssksksss358.xml', 'maksssksksss359.xml', 'maksssksksss36.xml', 'maksssksksss360.xml', 'maksssksksss361.xml', 'maksssksksss362.xml', 'maksssksksss363.xml', 'maksssksksss364.xml', 'maksssksksss365.xml', 'maksssksksss366.xml', 'maksssksksss367.xml', 'maksssksksss368.xml', 'maksssksksss369.xml', 'maksssksksss37.xml', 'maksssksksss370.xml', 'maksssksksss371.xml', 'maksssksksss372.xml', 'maksssksksss373.xml', 'maksssksksss374.xml', 'maksssksksss375.xml', 'maksssksksss376.xml', 'maksssksksss377.xml', 'maksssksksss378.xml', 'maksssksksss379.xml', 'maksssksksss38.xml', 'maksssksksss380.xml', 'maksssksksss381.xml', 'maksssksksss382.xml', 'maksssksksss383.xml', 'maksssksksss384.xml', 'maksssksksss385.xml', 'maksssksksss386.xml', 'maksssksksss387.xml', 'maksssksksss388.xml', 'maksssksksss389.xml', 'maksssksksss39.xml', 'maksssksksss390.xml', 'maksssksksss391.xml', 'maksssksksss392.xml', 'maksssksksss393.xml', 'maksssksksss394.xml', 'maksssksksss395.xml', 'maksssksksss396.xml', 'maksssksksss397.xml', 'maksssksksss398.xml', 'maksssksksss399.xml', 'maksssksksss4.xml', 'maksssksksss40.xml', 'maksssksksss400.xml', 'maksssksksss401.xml', 'maksssksksss402.xml', 'maksssksksss403.xml', 'maksssksksss404.xml', 'maksssksksss405.xml', 'maksssksksss406.xml', 'maksssksksss407.xml', 'maksssksksss408.xml', 'maksssksksss409.xml', 'maksssksksss41.xml', 'maksssksksss410.xml', 'maksssksksss411.xml', 'maksssksksss412.xml', 'maksssksksss413.xml', 'maksssksksss414.xml', 'maksssksksss415.xml', 'maksssksksss416.xml', 'maksssksksss417.xml', 'maksssksksss418.xml', 'maksssksksss419.xml', 'maksssksksss42.xml', 'maksssksksss420.xml', 'maksssksksss421.xml', 'maksssksksss422.xml', 'maksssksksss423.xml', 'maksssksksss424.xml', 'maksssksksss425.xml', 'maksssksksss426.xml', 'maksssksksss427.xml', 'maksssksksss428.xml', 'maksssksksss429.xml', 'maksssksksss43.xml', 'maksssksksss430.xml', 'maksssksksss431.xml', 'maksssksksss432.xml', 'maksssksksss433.xml', 'maksssksksss434.xml', 'maksssksksss435.xml', 'maksssksksss436.xml', 'maksssksksss437.xml', 'maksssksksss438.xml', 'maksssksksss439.xml', 'maksssksksss44.xml', 'maksssksksss440.xml', 'maksssksksss441.xml', 'maksssksksss442.xml', 'maksssksksss443.xml', 'maksssksksss444.xml', 'maksssksksss445.xml', 'maksssksksss446.xml', 'maksssksksss447.xml', 'maksssksksss448.xml', 'maksssksksss449.xml', 'maksssksksss45.xml', 'maksssksksss450.xml', 'maksssksksss451.xml', 'maksssksksss452.xml', 'maksssksksss453.xml', 'maksssksksss454.xml', 'maksssksksss455.xml', 'maksssksksss456.xml', 'maksssksksss457.xml', 'maksssksksss458.xml', 'maksssksksss459.xml', 'maksssksksss46.xml', 'maksssksksss460.xml', 'maksssksksss461.xml', 'maksssksksss462.xml', 'maksssksksss463.xml', 'maksssksksss464.xml', 'maksssksksss465.xml', 'maksssksksss466.xml', 'maksssksksss467.xml', 'maksssksksss468.xml', 'maksssksksss469.xml', 'maksssksksss47.xml', 'maksssksksss470.xml', 'maksssksksss471.xml', 'maksssksksss472.xml', 'maksssksksss473.xml', 'maksssksksss474.xml', 'maksssksksss475.xml', 'maksssksksss476.xml', 'maksssksksss477.xml', 'maksssksksss478.xml', 'maksssksksss479.xml', 'maksssksksss48.xml', 'maksssksksss480.xml', 'maksssksksss481.xml', 'maksssksksss482.xml', 'maksssksksss483.xml', 'maksssksksss484.xml', 'maksssksksss485.xml', 'maksssksksss486.xml', 'maksssksksss487.xml', 'maksssksksss488.xml', 'maksssksksss489.xml', 'maksssksksss49.xml', 'maksssksksss490.xml', 'maksssksksss491.xml', 'maksssksksss492.xml', 'maksssksksss493.xml', 'maksssksksss494.xml', 'maksssksksss495.xml', 'maksssksksss496.xml', 'maksssksksss497.xml', 'maksssksksss498.xml', 'maksssksksss499.xml', 'maksssksksss5.xml', 'maksssksksss50.xml', 'maksssksksss500.xml', 'maksssksksss501.xml', 'maksssksksss502.xml', 'maksssksksss503.xml', 'maksssksksss504.xml', 'maksssksksss505.xml', 'maksssksksss506.xml', 'maksssksksss507.xml', 'maksssksksss508.xml', 'maksssksksss509.xml', 'maksssksksss51.xml', 'maksssksksss510.xml', 'maksssksksss511.xml', 'maksssksksss512.xml', 'maksssksksss513.xml', 'maksssksksss514.xml', 'maksssksksss515.xml', 'maksssksksss516.xml', 'maksssksksss517.xml', 'maksssksksss518.xml', 'maksssksksss519.xml', 'maksssksksss52.xml', 'maksssksksss520.xml', 'maksssksksss521.xml', 'maksssksksss522.xml', 'maksssksksss523.xml', 'maksssksksss524.xml', 'maksssksksss525.xml', 'maksssksksss526.xml', 'maksssksksss527.xml', 'maksssksksss528.xml', 'maksssksksss529.xml', 'maksssksksss53.xml', 'maksssksksss530.xml', 'maksssksksss531.xml', 'maksssksksss532.xml', 'maksssksksss533.xml', 'maksssksksss534.xml', 'maksssksksss535.xml', 'maksssksksss536.xml', 'maksssksksss537.xml', 'maksssksksss538.xml', 'maksssksksss539.xml', 'maksssksksss54.xml', 'maksssksksss540.xml', 'maksssksksss541.xml', 'maksssksksss542.xml', 'maksssksksss543.xml', 'maksssksksss544.xml', 'maksssksksss545.xml', 'maksssksksss546.xml', 'maksssksksss547.xml', 'maksssksksss548.xml', 'maksssksksss549.xml', 'maksssksksss55.xml', 'maksssksksss550.xml', 'maksssksksss551.xml', 'maksssksksss552.xml', 'maksssksksss553.xml', 'maksssksksss554.xml', 'maksssksksss555.xml', 'maksssksksss556.xml', 'maksssksksss557.xml', 'maksssksksss558.xml', 'maksssksksss559.xml', 'maksssksksss56.xml', 'maksssksksss560.xml', 'maksssksksss561.xml', 'maksssksksss562.xml', 'maksssksksss563.xml', 'maksssksksss564.xml', 'maksssksksss565.xml', 'maksssksksss566.xml', 'maksssksksss567.xml', 'maksssksksss568.xml', 'maksssksksss569.xml', 'maksssksksss57.xml', 'maksssksksss570.xml', 'maksssksksss571.xml', 'maksssksksss572.xml', 'maksssksksss573.xml', 'maksssksksss574.xml', 'maksssksksss575.xml', 'maksssksksss576.xml', 'maksssksksss577.xml', 'maksssksksss578.xml', 'maksssksksss579.xml', 'maksssksksss58.xml', 'maksssksksss580.xml', 'maksssksksss581.xml', 'maksssksksss582.xml', 'maksssksksss583.xml', 'maksssksksss584.xml', 'maksssksksss585.xml', 'maksssksksss586.xml', 'maksssksksss587.xml', 'maksssksksss588.xml', 'maksssksksss589.xml', 'maksssksksss59.xml', 'maksssksksss590.xml', 'maksssksksss591.xml', 'maksssksksss592.xml', 'maksssksksss593.xml', 'maksssksksss594.xml', 'maksssksksss595.xml', 'maksssksksss596.xml', 'maksssksksss597.xml', 'maksssksksss598.xml', 'maksssksksss599.xml', 'maksssksksss6.xml', 'maksssksksss60.xml', 'maksssksksss600.xml', 'maksssksksss601.xml', 'maksssksksss602.xml', 'maksssksksss603.xml', 'maksssksksss61.xml', 'maksssksksss62.xml', 'maksssksksss63.xml', 'maksssksksss64.xml', 'maksssksksss65.xml', 'maksssksksss66.xml', 'maksssksksss67.xml', 'maksssksksss68.xml', 'maksssksksss69.xml', 'maksssksksss7.xml', 'maksssksksss70.xml', 'maksssksksss71.xml', 'maksssksksss72.xml', 'maksssksksss73.xml', 'maksssksksss74.xml', 'maksssksksss75.xml', 'maksssksksss76.xml', 'maksssksksss77.xml', 'maksssksksss78.xml', 'maksssksksss79.xml', 'maksssksksss8.xml', 'maksssksksss80.xml', 'maksssksksss81.xml', 'maksssksksss82.xml', 'maksssksksss83.xml', 'maksssksksss84.xml', 'maksssksksss85.xml', 'maksssksksss86.xml', 'maksssksksss87.xml', 'maksssksksss88.xml', 'maksssksksss89.xml', 'maksssksksss9.xml', 'maksssksksss90.xml', 'maksssksksss91.xml', 'maksssksksss92.xml', 'maksssksksss93.xml', 'maksssksksss94.xml', 'maksssksksss95.xml', 'maksssksksss96.xml', 'maksssksksss97.xml', 'maksssksksss98.xml', 'maksssksksss99.xml']\n",
            "shape of the data :(604, 448, 448, 3)\n",
            "shape of the label :(604, 7, 7, 8)\n"
          ]
        }
      ]
    },
    {
      "cell_type": "code",
      "metadata": {
        "colab": {
          "base_uri": "https://localhost:8080/"
        },
        "id": "jKpWAsR8TbLK",
        "outputId": "52ca0976-5ff9-491c-b102-fab80187f5da"
      },
      "source": [
        "labels[7,0,1,1] #ground truth label with shape h w c"
      ],
      "execution_count": null,
      "outputs": [
        {
          "output_type": "execute_result",
          "data": {
            "text/plain": [
              "124.5"
            ]
          },
          "metadata": {},
          "execution_count": 30
        }
      ]
    },
    {
      "cell_type": "code",
      "metadata": {
        "id": "kljRXQpf8sm6"
      },
      "source": [
        "a = dataset.__getitem__(7)[1] #obviously, h w c -> c h w"
      ],
      "execution_count": null,
      "outputs": []
    },
    {
      "cell_type": "code",
      "metadata": {
        "id": "2PIu8esZUVi4"
      },
      "source": [
        "z = a[:,1,1]"
      ],
      "execution_count": null,
      "outputs": []
    },
    {
      "cell_type": "markdown",
      "metadata": {
        "id": "a8pkkK92hFk_"
      },
      "source": [
        "# Test loss function\n",
        "The loss function is combined with 5 parts including the iou calculation.\n",
        "To ensure the accuracy, I test all of them there."
      ]
    },
    {
      "cell_type": "markdown",
      "metadata": {
        "id": "JdyPg7Zbf36S"
      },
      "source": [
        "test calculate_IOU"
      ]
    },
    {
      "cell_type": "code",
      "metadata": {
        "id": "xptRdbSGaTMc"
      },
      "source": [
        "def calculate_IOU(box1,box2):\n",
        "    left_x1 = box1[0]-box1[3]/2\n",
        "    left_y1 = box1[1]+box1[2]/2\n",
        "    right_x1 = box1[0]+box1[3]/2\n",
        "    right_y1 = box1[1]-box1[2]/2\n",
        "    rec1 = [left_x1, left_y1, right_x1, right_y1]\n",
        "    #box2\n",
        "    left_x2 = box2[0]-box2[3]/2\n",
        "    left_y2 = box2[1]+box2[2]/2\n",
        "    right_x2 = box2[0]+box2[3]/2\n",
        "    right_y2 = box2[1]-box2[2]/2\n",
        "    rec2 = [left_x2, left_y2, right_x2, right_y2]\n",
        "    left_max  = max(rec1[0],rec2[0])\n",
        "    top_max = max(rec1[1],rec2[1])\n",
        "    right_min = min(rec1[2],rec2[2])\n",
        "    bottom_min = min(rec1[3],rec2[3])\n",
        "    #if box1 and box2 are intersecting each other\n",
        "    if (left_max < right_min or bottom_min > top_max):\n",
        "      rect1_area = (rec1[2]-rec1[0])*(rec1[3]-rec1[1])\n",
        "      rect2_area = (rec2[2]-rec2[0])*(rec2[3]-rec2[1])\n",
        "      area_cross = (bottom_min - top_max)*(right_min - left_max)\n",
        "      return area_cross/(rect1_area+rect2_area-area_cross)\n",
        "    else:\n",
        "      return 0"
      ],
      "execution_count": null,
      "outputs": []
    },
    {
      "cell_type": "code",
      "metadata": {
        "colab": {
          "base_uri": "https://localhost:8080/"
        },
        "id": "sv38rl6VadNP",
        "outputId": "07172347-b151-4169-c45e-6ecbf43a357a"
      },
      "source": [
        "#     x  y  h  w\n",
        "box1 = [68, 82, 52, 45,  1,  1,  0,  0]\n",
        "box2 = [53, 75, 52, 56,  1,  0,  1,  0]\n",
        "calculate_IOU(box1, box2)"
      ],
      "execution_count": null,
      "outputs": [
        {
          "output_type": "execute_result",
          "data": {
            "text/plain": [
              "0.6633412509897071"
            ]
          },
          "metadata": {},
          "execution_count": 23
        }
      ]
    },
    {
      "cell_type": "markdown",
      "metadata": {
        "id": "c_cPYu2AnFsr"
      },
      "source": [
        "test center_loss"
      ]
    },
    {
      "cell_type": "code",
      "metadata": {
        "colab": {
          "base_uri": "https://localhost:8080/"
        },
        "id": "b6WUXJY6hEb6",
        "outputId": "be7548fe-e3c3-494b-a6f0-3ca5ecdc86ee"
      },
      "source": [
        "def center_loss(box, gt_box):\n",
        "  # box size: [confidence, cx, cy, w, h]\n",
        "  loss = 5 * ((box[1] - gt_box[1])**2 + (box[2] - gt_box[2])**2)\n",
        "  return loss\n",
        "center_loss(box1, box2)"
      ],
      "execution_count": null,
      "outputs": [
        {
          "output_type": "execute_result",
          "data": {
            "text/plain": [
              "245"
            ]
          },
          "metadata": {},
          "execution_count": 24
        }
      ]
    },
    {
      "cell_type": "markdown",
      "metadata": {
        "id": "xS6sTEqEnJVw"
      },
      "source": [
        "test wh_loss"
      ]
    },
    {
      "cell_type": "code",
      "metadata": {
        "colab": {
          "base_uri": "https://localhost:8080/"
        },
        "id": "t3bBtMRlh6VW",
        "outputId": "c8c0a9f2-8cf6-4f50-9459-32a8d8c26290"
      },
      "source": [
        "def wh_loss(box, gt_box):\n",
        "  # box size: [confidence, cx, cy, w, h]\n",
        "  loss = 5 * ((math.sqrt(box[3]) - math.sqrt(gt_box[3])) ** 2) + (math.sqrt(box[4]) - math.sqrt(gt_box[4])) ** 2\n",
        "  return loss\n",
        "wh_loss(box1, box2)"
      ],
      "execution_count": null,
      "outputs": [
        {
          "output_type": "execute_result",
          "data": {
            "text/plain": [
              "3.0039840795546677"
            ]
          },
          "metadata": {},
          "execution_count": 26
        }
      ]
    },
    {
      "cell_type": "markdown",
      "metadata": {
        "id": "QWVLQB1InKp3"
      },
      "source": [
        "test object_confidence_loss"
      ]
    },
    {
      "cell_type": "code",
      "metadata": {
        "colab": {
          "base_uri": "https://localhost:8080/"
        },
        "id": "rYTpGjxTih0W",
        "outputId": "71a7ba9f-9c51-4425-e9fa-e6189aa4cd6c"
      },
      "source": [
        "def object_confidence_loss(box, iou):\n",
        "  return box[4]-iou\n",
        "object_confidence_loss(box1, calculate_IOU(box1, box2))"
      ],
      "execution_count": null,
      "outputs": [
        {
          "output_type": "execute_result",
          "data": {
            "text/plain": [
              "0.3366587490102929"
            ]
          },
          "metadata": {},
          "execution_count": 27
        }
      ]
    },
    {
      "cell_type": "markdown",
      "metadata": {
        "id": "fS_KgwMTnNw9"
      },
      "source": [
        "test classification_loss"
      ]
    },
    {
      "cell_type": "code",
      "metadata": {
        "colab": {
          "base_uri": "https://localhost:8080/"
        },
        "id": "hcH47nk_kgIz",
        "outputId": "a9efe7d2-638c-41c8-89cd-7082f5094f0b"
      },
      "source": [
        "def classification_loss(pred_class, gt_box):\n",
        "  loss = np.sum((np.array(pred_class[5:]) - np.array(gt_box[5:])) ** 2)\n",
        "  return loss\n",
        "classification_loss(box1, box2)"
      ],
      "execution_count": null,
      "outputs": [
        {
          "output_type": "execute_result",
          "data": {
            "text/plain": [
              "2"
            ]
          },
          "metadata": {},
          "execution_count": 28
        }
      ]
    },
    {
      "cell_type": "code",
      "metadata": {
        "colab": {
          "base_uri": "https://localhost:8080/"
        },
        "id": "PAVyJ5zggrWi",
        "outputId": "d1246497-c6c2-4060-eafa-bcfe4cdbfe4d"
      },
      "source": [
        "a = torch.tensor([1,2,3])"
      ],
      "execution_count": null,
      "outputs": [
        {
          "output_type": "execute_result",
          "data": {
            "text/plain": [
              "tensor(6)"
            ]
          },
          "metadata": {},
          "execution_count": 33
        }
      ]
    },
    {
      "cell_type": "markdown",
      "metadata": {
        "id": "dVzOUDBko304"
      },
      "source": [
        "# LOSS function\n",
        "NOW combined these tested functions into a whole class"
      ]
    },
    {
      "cell_type": "code",
      "metadata": {
        "id": "2EwT3G9LovV-"
      },
      "source": [
        "import math\n",
        "import torch\n",
        "import torch.nn as nn\n",
        "\n",
        "class yolov1_Loss(nn.Module):\n",
        "  def __init__(self):\n",
        "        super(yolov1_Loss, self).__init__()\n",
        "\n",
        "  def calculate_IOU(self, box1,box2):#tested!!!!!!!\n",
        "      left_x1 = box1[0]-box1[3]/2\n",
        "      left_y1 = box1[1]+box1[2]/2\n",
        "      right_x1 = box1[0]+box1[3]/2\n",
        "      right_y1 = box1[1]-box1[2]/2\n",
        "      rec1 = [left_x1, left_y1, right_x1, right_y1]\n",
        "      #box2\n",
        "      left_x2 = box2[0]-box2[3]/2\n",
        "      left_y2 = box2[1]+box2[2]/2\n",
        "      right_x2 = box2[0]+box2[3]/2\n",
        "      right_y2 = box2[1]-box2[2]/2\n",
        "      rec2 = [left_x2, left_y2, right_x2, right_y2]\n",
        "      left_max  = max(rec1[0],rec2[0])\n",
        "      top_max = max(rec1[1],rec2[1])\n",
        "      right_min = min(rec1[2],rec2[2])\n",
        "      bottom_min = min(rec1[3],rec2[3])\n",
        "      #if box1 and box2 are intersecting each other\n",
        "      if (left_max < right_min or bottom_min > top_max):\n",
        "        rect1_area = (rec1[2]-rec1[0])*(rec1[3]-rec1[1])\n",
        "        rect2_area = (rec2[2]-rec2[0])*(rec2[3]-rec2[1])\n",
        "        area_cross = (bottom_min - top_max)*(right_min - left_max)\n",
        "        return area_cross/(rect1_area+rect2_area-area_cross)\n",
        "      else:\n",
        "        return 0\n",
        "\n",
        "\n",
        "    # define the 5 components of the loss function(tested!!!!!!!!!)\n",
        "  def center_loss(self, box, gt_box):\n",
        "      # box size: [confidence, cx, cy, w, h]\n",
        "      loss = 5 * ((box[1] - gt_box[1])**2 + (box[2] - gt_box[2])**2)\n",
        "      return loss\n",
        "\n",
        "  def wh_loss(self, box, gt_box):\n",
        "      # box size: [confidence, cx, cy, w, h]\n",
        "      loss = 5 * ((math.sqrt(box[3]) - math.sqrt(gt_box[3])) ** 2 + (math.sqrt(box[4]) - math.sqrt(gt_box[4])) ** 2)\n",
        "      return loss\n",
        "\n",
        "  def object_confidence_loss(self, box, iou):\n",
        "        return box[4]-iou\n",
        "\n",
        "  def noobject_confidence_loss(self, box, iou):\n",
        "        return 0.3*(box[4]-iou)\n",
        "\n",
        "  def classification_loss(self, pred_class, gt_box):\n",
        "      loss = torch.sum((pred_class - gt_box[5:]) ** 2)\n",
        "      return loss\n",
        "\n",
        "  # the whole process\n",
        "  def forward(self, pred, labels):\n",
        "        # five components of the loss function\n",
        "        bnd_center_loss = 0  # bounding box center loss\n",
        "        bnd_wh_loss = 0  # bounding box width and height loss\n",
        "        obj_confident_loss = 0  # confidence loss for bounding box with object witin\n",
        "        noobj_confident_loss = 0  # confidence loss for bounding box without object within\n",
        "        classification_loss = 0  # classification loss\n",
        "        n_batch = labels.shape[0]\n",
        "        for i in range(n_batch):\n",
        "          for m in range(7):\n",
        "            for n in range(7):\n",
        "              #only iterate column with confidence value =1\n",
        "              if labels[i, 4, m, n] == 1:\n",
        "                print()\n",
        "                # first we need to select the bounding box which has\n",
        "                # a higher IOU with the ground truth bounding box\n",
        "                current_pred = pred[i,:, m, n]\n",
        "                current_label = labels[i,:, m, n]\n",
        "                box1 = current_pred[0:5]\n",
        "                pred_class = current_pred[10:]\n",
        "                box2 = current_pred[5:10]\n",
        "                # print(\"------------------------\")\n",
        "                # print(box1)\n",
        "                # print(box2)\n",
        "                # print(\"-------------------------\")\n",
        "                # print(current_label.shape)\n",
        "                iou1 = self.calculate_IOU(box1, current_label)\n",
        "                iou2 = self.calculate_IOU(box2, current_label)\n",
        "                # print('box1:  {}\\n, box2: {}'.format(iou1,iou2))\n",
        "                #if box1 has a higher iou, then box1 would be responsible for this task.\n",
        "                if iou1 >= iou2:\n",
        "                  bnd_center_loss += self.center_loss(box1, current_label)                     \n",
        "                  bnd_wh_loss += self.wh_loss(box1, current_label)\n",
        "                  obj_confident_loss += self.object_confidence_loss(box1, current_label)\n",
        "                  noobj_confident_loss += self.noobject_confidence_loss(box2, current_label)\n",
        "                  classification_loss += self.classification_loss(pred_class, current_label)\n",
        "                # otherwise, box2 would take this responsibility!\n",
        "                else:\n",
        "                  bnd_center_loss += self.center_loss(box2, current_label)                     \n",
        "                  bnd_wh_loss += self.wh_loss(box2, current_label)\n",
        "                  obj_confident_loss += self.object_confidence_loss(box2, current_label)\n",
        "                  noobj_confident_loss += self.noobject_confidence_loss(box1, current_label)\n",
        "                  classification_loss += self.classification_loss(pred_class, current_label)\n",
        "        total_loss = bnd_center_loss + bnd_wh_loss + torch.sum(obj_confident_loss) + torch.sum(noobj_confident_loss) + classification_loss\n",
        "        return total_loss"
      ],
      "execution_count": null,
      "outputs": []
    },
    {
      "cell_type": "code",
      "metadata": {
        "colab": {
          "base_uri": "https://localhost:8080/",
          "height": 175
        },
        "id": "nuyD_uLi27_w",
        "outputId": "67225e52-c18b-4747-cd29-d52db899c500"
      },
      "source": [
        "torch.tensor.ones(1,2,3)"
      ],
      "execution_count": null,
      "outputs": [
        {
          "output_type": "error",
          "ename": "NameError",
          "evalue": "ignored",
          "traceback": [
            "\u001b[0;31m---------------------------------------------------------------------------\u001b[0m",
            "\u001b[0;31mNameError\u001b[0m                                 Traceback (most recent call last)",
            "\u001b[0;32m<ipython-input-10-d8e1eecf505c>\u001b[0m in \u001b[0;36m<module>\u001b[0;34m()\u001b[0m\n\u001b[0;32m----> 1\u001b[0;31m \u001b[0mtorch\u001b[0m\u001b[0;34m.\u001b[0m\u001b[0mtensor\u001b[0m\u001b[0;34m.\u001b[0m\u001b[0mones\u001b[0m\u001b[0;34m(\u001b[0m\u001b[0;36m1\u001b[0m\u001b[0;34m,\u001b[0m\u001b[0;36m2\u001b[0m\u001b[0;34m,\u001b[0m\u001b[0;36m3\u001b[0m\u001b[0;34m)\u001b[0m\u001b[0;34m\u001b[0m\u001b[0;34m\u001b[0m\u001b[0m\n\u001b[0m",
            "\u001b[0;31mNameError\u001b[0m: name 'torch' is not defined"
          ]
        }
      ]
    },
    {
      "cell_type": "code",
      "metadata": {
        "id": "Xt0V8Yimh_wF"
      },
      "source": [
        ""
      ],
      "execution_count": null,
      "outputs": []
    },
    {
      "cell_type": "markdown",
      "metadata": {
        "id": "1zRrbwD_pDya"
      },
      "source": [
        "# Model\n",
        "Not using the original structure here because it is too time consuming to train the 24 convolutional layers, but I am not sure If it is fine to do that.\n"
      ]
    },
    {
      "cell_type": "code",
      "metadata": {
        "id": "YmeTAnDApDce",
        "colab": {
          "base_uri": "https://localhost:8080/"
        },
        "outputId": "0d9fbab5-e7aa-4603-a726-415a924457ac"
      },
      "source": [
        "import torchvision.models as tvmodel\n",
        "import torch.nn as nn\n",
        "import torch\n",
        "\n",
        "class Model(nn.Module):\n",
        "    def __init__(self):\n",
        "        super(Model,self).__init__()\n",
        "        resnet = tvmodel.resnet34(pretrained=True)\n",
        "        resnet_out_channel = resnet.fc.in_features\n",
        "        self.resnet = nn.Sequential(*list(resnet.children())[:-2])\n",
        "        self.Conv_layers = nn.Sequential(\n",
        "            nn.Conv2d(resnet_out_channel,1024,3,padding=1),\n",
        "            nn.LeakyReLU(),\n",
        "            nn.Conv2d(1024,1024,3,stride=2,padding=1),\n",
        "            nn.LeakyReLU(),\n",
        "            nn.Conv2d(1024, 1024, 3, padding=1),\n",
        "            nn.LeakyReLU(),\n",
        "            nn.Conv2d(1024, 1024, 3, padding=1),\n",
        "            nn.LeakyReLU(),\n",
        "        )\n",
        "        \n",
        "        self.Conn_layers = nn.Sequential(\n",
        "            nn.Linear(7*7*1024,4096),\n",
        "            nn.LeakyReLU(),\n",
        "            nn.Linear(4096,7*7*13),\n",
        "            nn.Sigmoid()\n",
        "        )\n",
        "\n",
        "    def forward(self, input):\n",
        "        input = self.resnet(input)\n",
        "        input = self.Conv_layers(input)\n",
        "        input = input.view(input.size()[0],-1)\n",
        "        input = self.Conn_layers(input)\n",
        "        return input.reshape(-1, 13, 7, 7)\n",
        "\n",
        "\n",
        "x = torch.randn((5,3,448,448))\n",
        "net = Model()\n",
        "print(net)\n",
        "y = net(x)\n",
        "print(y.size())"
      ],
      "execution_count": null,
      "outputs": [
        {
          "output_type": "stream",
          "name": "stdout",
          "text": [
            "Model(\n",
            "  (resnet): Sequential(\n",
            "    (0): Conv2d(3, 64, kernel_size=(7, 7), stride=(2, 2), padding=(3, 3), bias=False)\n",
            "    (1): BatchNorm2d(64, eps=1e-05, momentum=0.1, affine=True, track_running_stats=True)\n",
            "    (2): ReLU(inplace=True)\n",
            "    (3): MaxPool2d(kernel_size=3, stride=2, padding=1, dilation=1, ceil_mode=False)\n",
            "    (4): Sequential(\n",
            "      (0): BasicBlock(\n",
            "        (conv1): Conv2d(64, 64, kernel_size=(3, 3), stride=(1, 1), padding=(1, 1), bias=False)\n",
            "        (bn1): BatchNorm2d(64, eps=1e-05, momentum=0.1, affine=True, track_running_stats=True)\n",
            "        (relu): ReLU(inplace=True)\n",
            "        (conv2): Conv2d(64, 64, kernel_size=(3, 3), stride=(1, 1), padding=(1, 1), bias=False)\n",
            "        (bn2): BatchNorm2d(64, eps=1e-05, momentum=0.1, affine=True, track_running_stats=True)\n",
            "      )\n",
            "      (1): BasicBlock(\n",
            "        (conv1): Conv2d(64, 64, kernel_size=(3, 3), stride=(1, 1), padding=(1, 1), bias=False)\n",
            "        (bn1): BatchNorm2d(64, eps=1e-05, momentum=0.1, affine=True, track_running_stats=True)\n",
            "        (relu): ReLU(inplace=True)\n",
            "        (conv2): Conv2d(64, 64, kernel_size=(3, 3), stride=(1, 1), padding=(1, 1), bias=False)\n",
            "        (bn2): BatchNorm2d(64, eps=1e-05, momentum=0.1, affine=True, track_running_stats=True)\n",
            "      )\n",
            "      (2): BasicBlock(\n",
            "        (conv1): Conv2d(64, 64, kernel_size=(3, 3), stride=(1, 1), padding=(1, 1), bias=False)\n",
            "        (bn1): BatchNorm2d(64, eps=1e-05, momentum=0.1, affine=True, track_running_stats=True)\n",
            "        (relu): ReLU(inplace=True)\n",
            "        (conv2): Conv2d(64, 64, kernel_size=(3, 3), stride=(1, 1), padding=(1, 1), bias=False)\n",
            "        (bn2): BatchNorm2d(64, eps=1e-05, momentum=0.1, affine=True, track_running_stats=True)\n",
            "      )\n",
            "    )\n",
            "    (5): Sequential(\n",
            "      (0): BasicBlock(\n",
            "        (conv1): Conv2d(64, 128, kernel_size=(3, 3), stride=(2, 2), padding=(1, 1), bias=False)\n",
            "        (bn1): BatchNorm2d(128, eps=1e-05, momentum=0.1, affine=True, track_running_stats=True)\n",
            "        (relu): ReLU(inplace=True)\n",
            "        (conv2): Conv2d(128, 128, kernel_size=(3, 3), stride=(1, 1), padding=(1, 1), bias=False)\n",
            "        (bn2): BatchNorm2d(128, eps=1e-05, momentum=0.1, affine=True, track_running_stats=True)\n",
            "        (downsample): Sequential(\n",
            "          (0): Conv2d(64, 128, kernel_size=(1, 1), stride=(2, 2), bias=False)\n",
            "          (1): BatchNorm2d(128, eps=1e-05, momentum=0.1, affine=True, track_running_stats=True)\n",
            "        )\n",
            "      )\n",
            "      (1): BasicBlock(\n",
            "        (conv1): Conv2d(128, 128, kernel_size=(3, 3), stride=(1, 1), padding=(1, 1), bias=False)\n",
            "        (bn1): BatchNorm2d(128, eps=1e-05, momentum=0.1, affine=True, track_running_stats=True)\n",
            "        (relu): ReLU(inplace=True)\n",
            "        (conv2): Conv2d(128, 128, kernel_size=(3, 3), stride=(1, 1), padding=(1, 1), bias=False)\n",
            "        (bn2): BatchNorm2d(128, eps=1e-05, momentum=0.1, affine=True, track_running_stats=True)\n",
            "      )\n",
            "      (2): BasicBlock(\n",
            "        (conv1): Conv2d(128, 128, kernel_size=(3, 3), stride=(1, 1), padding=(1, 1), bias=False)\n",
            "        (bn1): BatchNorm2d(128, eps=1e-05, momentum=0.1, affine=True, track_running_stats=True)\n",
            "        (relu): ReLU(inplace=True)\n",
            "        (conv2): Conv2d(128, 128, kernel_size=(3, 3), stride=(1, 1), padding=(1, 1), bias=False)\n",
            "        (bn2): BatchNorm2d(128, eps=1e-05, momentum=0.1, affine=True, track_running_stats=True)\n",
            "      )\n",
            "      (3): BasicBlock(\n",
            "        (conv1): Conv2d(128, 128, kernel_size=(3, 3), stride=(1, 1), padding=(1, 1), bias=False)\n",
            "        (bn1): BatchNorm2d(128, eps=1e-05, momentum=0.1, affine=True, track_running_stats=True)\n",
            "        (relu): ReLU(inplace=True)\n",
            "        (conv2): Conv2d(128, 128, kernel_size=(3, 3), stride=(1, 1), padding=(1, 1), bias=False)\n",
            "        (bn2): BatchNorm2d(128, eps=1e-05, momentum=0.1, affine=True, track_running_stats=True)\n",
            "      )\n",
            "    )\n",
            "    (6): Sequential(\n",
            "      (0): BasicBlock(\n",
            "        (conv1): Conv2d(128, 256, kernel_size=(3, 3), stride=(2, 2), padding=(1, 1), bias=False)\n",
            "        (bn1): BatchNorm2d(256, eps=1e-05, momentum=0.1, affine=True, track_running_stats=True)\n",
            "        (relu): ReLU(inplace=True)\n",
            "        (conv2): Conv2d(256, 256, kernel_size=(3, 3), stride=(1, 1), padding=(1, 1), bias=False)\n",
            "        (bn2): BatchNorm2d(256, eps=1e-05, momentum=0.1, affine=True, track_running_stats=True)\n",
            "        (downsample): Sequential(\n",
            "          (0): Conv2d(128, 256, kernel_size=(1, 1), stride=(2, 2), bias=False)\n",
            "          (1): BatchNorm2d(256, eps=1e-05, momentum=0.1, affine=True, track_running_stats=True)\n",
            "        )\n",
            "      )\n",
            "      (1): BasicBlock(\n",
            "        (conv1): Conv2d(256, 256, kernel_size=(3, 3), stride=(1, 1), padding=(1, 1), bias=False)\n",
            "        (bn1): BatchNorm2d(256, eps=1e-05, momentum=0.1, affine=True, track_running_stats=True)\n",
            "        (relu): ReLU(inplace=True)\n",
            "        (conv2): Conv2d(256, 256, kernel_size=(3, 3), stride=(1, 1), padding=(1, 1), bias=False)\n",
            "        (bn2): BatchNorm2d(256, eps=1e-05, momentum=0.1, affine=True, track_running_stats=True)\n",
            "      )\n",
            "      (2): BasicBlock(\n",
            "        (conv1): Conv2d(256, 256, kernel_size=(3, 3), stride=(1, 1), padding=(1, 1), bias=False)\n",
            "        (bn1): BatchNorm2d(256, eps=1e-05, momentum=0.1, affine=True, track_running_stats=True)\n",
            "        (relu): ReLU(inplace=True)\n",
            "        (conv2): Conv2d(256, 256, kernel_size=(3, 3), stride=(1, 1), padding=(1, 1), bias=False)\n",
            "        (bn2): BatchNorm2d(256, eps=1e-05, momentum=0.1, affine=True, track_running_stats=True)\n",
            "      )\n",
            "      (3): BasicBlock(\n",
            "        (conv1): Conv2d(256, 256, kernel_size=(3, 3), stride=(1, 1), padding=(1, 1), bias=False)\n",
            "        (bn1): BatchNorm2d(256, eps=1e-05, momentum=0.1, affine=True, track_running_stats=True)\n",
            "        (relu): ReLU(inplace=True)\n",
            "        (conv2): Conv2d(256, 256, kernel_size=(3, 3), stride=(1, 1), padding=(1, 1), bias=False)\n",
            "        (bn2): BatchNorm2d(256, eps=1e-05, momentum=0.1, affine=True, track_running_stats=True)\n",
            "      )\n",
            "      (4): BasicBlock(\n",
            "        (conv1): Conv2d(256, 256, kernel_size=(3, 3), stride=(1, 1), padding=(1, 1), bias=False)\n",
            "        (bn1): BatchNorm2d(256, eps=1e-05, momentum=0.1, affine=True, track_running_stats=True)\n",
            "        (relu): ReLU(inplace=True)\n",
            "        (conv2): Conv2d(256, 256, kernel_size=(3, 3), stride=(1, 1), padding=(1, 1), bias=False)\n",
            "        (bn2): BatchNorm2d(256, eps=1e-05, momentum=0.1, affine=True, track_running_stats=True)\n",
            "      )\n",
            "      (5): BasicBlock(\n",
            "        (conv1): Conv2d(256, 256, kernel_size=(3, 3), stride=(1, 1), padding=(1, 1), bias=False)\n",
            "        (bn1): BatchNorm2d(256, eps=1e-05, momentum=0.1, affine=True, track_running_stats=True)\n",
            "        (relu): ReLU(inplace=True)\n",
            "        (conv2): Conv2d(256, 256, kernel_size=(3, 3), stride=(1, 1), padding=(1, 1), bias=False)\n",
            "        (bn2): BatchNorm2d(256, eps=1e-05, momentum=0.1, affine=True, track_running_stats=True)\n",
            "      )\n",
            "    )\n",
            "    (7): Sequential(\n",
            "      (0): BasicBlock(\n",
            "        (conv1): Conv2d(256, 512, kernel_size=(3, 3), stride=(2, 2), padding=(1, 1), bias=False)\n",
            "        (bn1): BatchNorm2d(512, eps=1e-05, momentum=0.1, affine=True, track_running_stats=True)\n",
            "        (relu): ReLU(inplace=True)\n",
            "        (conv2): Conv2d(512, 512, kernel_size=(3, 3), stride=(1, 1), padding=(1, 1), bias=False)\n",
            "        (bn2): BatchNorm2d(512, eps=1e-05, momentum=0.1, affine=True, track_running_stats=True)\n",
            "        (downsample): Sequential(\n",
            "          (0): Conv2d(256, 512, kernel_size=(1, 1), stride=(2, 2), bias=False)\n",
            "          (1): BatchNorm2d(512, eps=1e-05, momentum=0.1, affine=True, track_running_stats=True)\n",
            "        )\n",
            "      )\n",
            "      (1): BasicBlock(\n",
            "        (conv1): Conv2d(512, 512, kernel_size=(3, 3), stride=(1, 1), padding=(1, 1), bias=False)\n",
            "        (bn1): BatchNorm2d(512, eps=1e-05, momentum=0.1, affine=True, track_running_stats=True)\n",
            "        (relu): ReLU(inplace=True)\n",
            "        (conv2): Conv2d(512, 512, kernel_size=(3, 3), stride=(1, 1), padding=(1, 1), bias=False)\n",
            "        (bn2): BatchNorm2d(512, eps=1e-05, momentum=0.1, affine=True, track_running_stats=True)\n",
            "      )\n",
            "      (2): BasicBlock(\n",
            "        (conv1): Conv2d(512, 512, kernel_size=(3, 3), stride=(1, 1), padding=(1, 1), bias=False)\n",
            "        (bn1): BatchNorm2d(512, eps=1e-05, momentum=0.1, affine=True, track_running_stats=True)\n",
            "        (relu): ReLU(inplace=True)\n",
            "        (conv2): Conv2d(512, 512, kernel_size=(3, 3), stride=(1, 1), padding=(1, 1), bias=False)\n",
            "        (bn2): BatchNorm2d(512, eps=1e-05, momentum=0.1, affine=True, track_running_stats=True)\n",
            "      )\n",
            "    )\n",
            "  )\n",
            "  (Conv_layers): Sequential(\n",
            "    (0): Conv2d(512, 1024, kernel_size=(3, 3), stride=(1, 1), padding=(1, 1))\n",
            "    (1): LeakyReLU(negative_slope=0.01)\n",
            "    (2): Conv2d(1024, 1024, kernel_size=(3, 3), stride=(2, 2), padding=(1, 1))\n",
            "    (3): LeakyReLU(negative_slope=0.01)\n",
            "    (4): Conv2d(1024, 1024, kernel_size=(3, 3), stride=(1, 1), padding=(1, 1))\n",
            "    (5): LeakyReLU(negative_slope=0.01)\n",
            "    (6): Conv2d(1024, 1024, kernel_size=(3, 3), stride=(1, 1), padding=(1, 1))\n",
            "    (7): LeakyReLU(negative_slope=0.01)\n",
            "  )\n",
            "  (Conn_layers): Sequential(\n",
            "    (0): Linear(in_features=50176, out_features=4096, bias=True)\n",
            "    (1): LeakyReLU(negative_slope=0.01)\n",
            "    (2): Linear(in_features=4096, out_features=637, bias=True)\n",
            "    (3): Sigmoid()\n",
            "  )\n",
            ")\n",
            "torch.Size([5, 13, 7, 7])\n"
          ]
        }
      ]
    },
    {
      "cell_type": "code",
      "metadata": {
        "id": "9-Q2y7zomckO",
        "colab": {
          "base_uri": "https://localhost:8080/"
        },
        "outputId": "97796141-fae9-4b55-a809-76b7d807911d"
      },
      "source": [
        "train_dataloader = DataLoader(dataset, batch_size=batchsize, shuffle=True)\n",
        "for i, (inputs, labels) in enumerate(train_dataloader):\n",
        "  print(labels[1])\n",
        "  break"
      ],
      "execution_count": null,
      "outputs": [
        {
          "output_type": "stream",
          "name": "stdout",
          "text": [
            "tensor([[[0.0000, 0.0000, 0.0000, 0.1395, 0.0000, 0.0000, 0.0000],\n",
            "         [0.0000, 0.0000, 0.0000, 0.0000, 0.0000, 0.0000, 0.0000],\n",
            "         [0.0000, 0.0000, 0.0000, 0.0000, 0.0000, 0.0000, 0.0000],\n",
            "         [0.0000, 0.4576, 0.0000, 0.0000, 0.0000, 0.0000, 0.0000],\n",
            "         [0.5893, 0.0000, 0.0000, 0.0000, 0.0000, 0.0000, 0.0000],\n",
            "         [0.0000, 0.0000, 0.0000, 0.0000, 0.0000, 0.0000, 0.0000],\n",
            "         [0.0000, 0.0000, 0.0000, 0.0000, 0.0000, 0.0000, 0.0000]],\n",
            "\n",
            "        [[0.0000, 0.0000, 0.0000, 0.4386, 0.0000, 0.0000, 0.0000],\n",
            "         [0.0000, 0.0000, 0.0000, 0.0000, 0.0000, 0.0000, 0.0000],\n",
            "         [0.0000, 0.0000, 0.0000, 0.0000, 0.0000, 0.0000, 0.0000],\n",
            "         [0.0000, 0.2422, 0.0000, 0.0000, 0.0000, 0.0000, 0.0000],\n",
            "         [0.1261, 0.0000, 0.0000, 0.0000, 0.0000, 0.0000, 0.0000],\n",
            "         [0.0000, 0.0000, 0.0000, 0.0000, 0.0000, 0.0000, 0.0000],\n",
            "         [0.0000, 0.0000, 0.0000, 0.0000, 0.0000, 0.0000, 0.0000]],\n",
            "\n",
            "        [[0.0000, 0.0000, 0.0000, 0.1228, 0.0000, 0.0000, 0.0000],\n",
            "         [0.0000, 0.0000, 0.0000, 0.0000, 0.0000, 0.0000, 0.0000],\n",
            "         [0.0000, 0.0000, 0.0000, 0.0000, 0.0000, 0.0000, 0.0000],\n",
            "         [0.0000, 0.2188, 0.0000, 0.0000, 0.0000, 0.0000, 0.0000],\n",
            "         [0.1339, 0.0000, 0.0000, 0.0000, 0.0000, 0.0000, 0.0000],\n",
            "         [0.0000, 0.0000, 0.0000, 0.0000, 0.0000, 0.0000, 0.0000],\n",
            "         [0.0000, 0.0000, 0.0000, 0.0000, 0.0000, 0.0000, 0.0000]],\n",
            "\n",
            "        [[0.0000, 0.0000, 0.0000, 0.1183, 0.0000, 0.0000, 0.0000],\n",
            "         [0.0000, 0.0000, 0.0000, 0.0000, 0.0000, 0.0000, 0.0000],\n",
            "         [0.0000, 0.0000, 0.0000, 0.0000, 0.0000, 0.0000, 0.0000],\n",
            "         [0.0000, 0.2433, 0.0000, 0.0000, 0.0000, 0.0000, 0.0000],\n",
            "         [0.1763, 0.0000, 0.0000, 0.0000, 0.0000, 0.0000, 0.0000],\n",
            "         [0.0000, 0.0000, 0.0000, 0.0000, 0.0000, 0.0000, 0.0000],\n",
            "         [0.0000, 0.0000, 0.0000, 0.0000, 0.0000, 0.0000, 0.0000]],\n",
            "\n",
            "        [[0.0000, 0.0000, 0.0000, 1.0000, 0.0000, 0.0000, 0.0000],\n",
            "         [0.0000, 0.0000, 0.0000, 0.0000, 0.0000, 0.0000, 0.0000],\n",
            "         [0.0000, 0.0000, 0.0000, 0.0000, 0.0000, 0.0000, 0.0000],\n",
            "         [0.0000, 1.0000, 0.0000, 0.0000, 0.0000, 0.0000, 0.0000],\n",
            "         [1.0000, 0.0000, 0.0000, 0.0000, 0.0000, 0.0000, 0.0000],\n",
            "         [0.0000, 0.0000, 0.0000, 0.0000, 0.0000, 0.0000, 0.0000],\n",
            "         [0.0000, 0.0000, 0.0000, 0.0000, 0.0000, 0.0000, 0.0000]],\n",
            "\n",
            "        [[0.0000, 0.0000, 0.0000, 1.0000, 0.0000, 0.0000, 0.0000],\n",
            "         [0.0000, 0.0000, 0.0000, 0.0000, 0.0000, 0.0000, 0.0000],\n",
            "         [0.0000, 0.0000, 0.0000, 0.0000, 0.0000, 0.0000, 0.0000],\n",
            "         [0.0000, 1.0000, 0.0000, 0.0000, 0.0000, 0.0000, 0.0000],\n",
            "         [0.0000, 0.0000, 0.0000, 0.0000, 0.0000, 0.0000, 0.0000],\n",
            "         [0.0000, 0.0000, 0.0000, 0.0000, 0.0000, 0.0000, 0.0000],\n",
            "         [0.0000, 0.0000, 0.0000, 0.0000, 0.0000, 0.0000, 0.0000]],\n",
            "\n",
            "        [[0.0000, 0.0000, 0.0000, 0.0000, 0.0000, 0.0000, 0.0000],\n",
            "         [0.0000, 0.0000, 0.0000, 0.0000, 0.0000, 0.0000, 0.0000],\n",
            "         [0.0000, 0.0000, 0.0000, 0.0000, 0.0000, 0.0000, 0.0000],\n",
            "         [0.0000, 0.0000, 0.0000, 0.0000, 0.0000, 0.0000, 0.0000],\n",
            "         [1.0000, 0.0000, 0.0000, 0.0000, 0.0000, 0.0000, 0.0000],\n",
            "         [0.0000, 0.0000, 0.0000, 0.0000, 0.0000, 0.0000, 0.0000],\n",
            "         [0.0000, 0.0000, 0.0000, 0.0000, 0.0000, 0.0000, 0.0000]],\n",
            "\n",
            "        [[0.0000, 0.0000, 0.0000, 0.0000, 0.0000, 0.0000, 0.0000],\n",
            "         [0.0000, 0.0000, 0.0000, 0.0000, 0.0000, 0.0000, 0.0000],\n",
            "         [0.0000, 0.0000, 0.0000, 0.0000, 0.0000, 0.0000, 0.0000],\n",
            "         [0.0000, 0.0000, 0.0000, 0.0000, 0.0000, 0.0000, 0.0000],\n",
            "         [0.0000, 0.0000, 0.0000, 0.0000, 0.0000, 0.0000, 0.0000],\n",
            "         [0.0000, 0.0000, 0.0000, 0.0000, 0.0000, 0.0000, 0.0000],\n",
            "         [0.0000, 0.0000, 0.0000, 0.0000, 0.0000, 0.0000, 0.0000]]],\n",
            "       dtype=torch.float64)\n"
          ]
        }
      ]
    },
    {
      "cell_type": "markdown",
      "metadata": {
        "id": "dqqeoCk7pHcj"
      },
      "source": [
        "# training"
      ]
    },
    {
      "cell_type": "code",
      "metadata": {
        "id": "TwF3fn0mpHJf",
        "colab": {
          "base_uri": "https://localhost:8080/",
          "height": 456
        },
        "outputId": "0a68bbac-54e5-4162-f1a1-6a6e2dd51672"
      },
      "source": [
        "import torch\n",
        "from torch.utils.data import DataLoader\n",
        "epoch = 40\n",
        "batchsize = 5\n",
        "lr = 0.00001\n",
        "dataset = mask_data_set()\n",
        "train_dataloader = DataLoader(dataset, batch_size=batchsize, shuffle=True)\n",
        "model = Model().cuda()\n",
        "criterion = yolov1_Loss()\n",
        "for layer in model.children():\n",
        "    layer.requires_grad = False\n",
        "    break\n",
        "optimizer = torch.optim.SGD(model.parameters(), lr=lr, momentum=0.9, weight_decay=0.0005)\n",
        "for e in range(epoch):\n",
        "    model.train()\n",
        "    for i, (inputs, labels) in enumerate(train_dataloader):\n",
        "        inputs = inputs.float().cuda()\n",
        "        labels = labels.float().cuda()\n",
        "        pred = model(inputs)\n",
        "        print(pred.shape, labels.shape)\n",
        "        loss = criterion(pred, labels)\n",
        "        optimizer.zero_grad()\n",
        "        loss.backward()\n",
        "        optimizer.step()\n",
        "        print(\"Epoch %d/%d| Step %d/%d| Loss: %.2f\" % (e, epoch, i, len(dataset) // batchsize, loss))\n",
        "        if (e + 1) % 10 == 0:\n",
        "            torch.save(model, \"./saved_models/YOLOv1_epoch\" + str(e + 1) + \".pkl\")"
      ],
      "execution_count": null,
      "outputs": [
        {
          "output_type": "error",
          "ename": "KeyboardInterrupt",
          "evalue": "ignored",
          "traceback": [
            "\u001b[0;31m---------------------------------------------------------------------------\u001b[0m",
            "\u001b[0;31mKeyboardInterrupt\u001b[0m                         Traceback (most recent call last)",
            "\u001b[0;32m/usr/local/lib/python3.7/dist-packages/torch/serialization.py\u001b[0m in \u001b[0;36msave\u001b[0;34m(obj, f, pickle_module, pickle_protocol, _use_new_zipfile_serialization)\u001b[0m\n\u001b[1;32m    378\u001b[0m             \u001b[0;32mwith\u001b[0m \u001b[0m_open_zipfile_writer\u001b[0m\u001b[0;34m(\u001b[0m\u001b[0mopened_file\u001b[0m\u001b[0;34m)\u001b[0m \u001b[0;32mas\u001b[0m \u001b[0mopened_zipfile\u001b[0m\u001b[0;34m:\u001b[0m\u001b[0;34m\u001b[0m\u001b[0;34m\u001b[0m\u001b[0m\n\u001b[0;32m--> 379\u001b[0;31m                 \u001b[0m_save\u001b[0m\u001b[0;34m(\u001b[0m\u001b[0mobj\u001b[0m\u001b[0;34m,\u001b[0m \u001b[0mopened_zipfile\u001b[0m\u001b[0;34m,\u001b[0m \u001b[0mpickle_module\u001b[0m\u001b[0;34m,\u001b[0m \u001b[0mpickle_protocol\u001b[0m\u001b[0;34m)\u001b[0m\u001b[0;34m\u001b[0m\u001b[0;34m\u001b[0m\u001b[0m\n\u001b[0m\u001b[1;32m    380\u001b[0m                 \u001b[0;32mreturn\u001b[0m\u001b[0;34m\u001b[0m\u001b[0;34m\u001b[0m\u001b[0m\n",
            "\u001b[0;32m/usr/local/lib/python3.7/dist-packages/torch/serialization.py\u001b[0m in \u001b[0;36m_save\u001b[0;34m(obj, zip_file, pickle_module, pickle_protocol)\u001b[0m\n\u001b[1;32m    498\u001b[0m         \u001b[0mnum_bytes\u001b[0m \u001b[0;34m=\u001b[0m \u001b[0mstorage\u001b[0m\u001b[0;34m.\u001b[0m\u001b[0msize\u001b[0m\u001b[0;34m(\u001b[0m\u001b[0;34m)\u001b[0m \u001b[0;34m*\u001b[0m \u001b[0mstorage\u001b[0m\u001b[0;34m.\u001b[0m\u001b[0melement_size\u001b[0m\u001b[0;34m(\u001b[0m\u001b[0;34m)\u001b[0m\u001b[0;34m\u001b[0m\u001b[0;34m\u001b[0m\u001b[0m\n\u001b[0;32m--> 499\u001b[0;31m         \u001b[0mzip_file\u001b[0m\u001b[0;34m.\u001b[0m\u001b[0mwrite_record\u001b[0m\u001b[0;34m(\u001b[0m\u001b[0mname\u001b[0m\u001b[0;34m,\u001b[0m \u001b[0mstorage\u001b[0m\u001b[0;34m.\u001b[0m\u001b[0mdata_ptr\u001b[0m\u001b[0;34m(\u001b[0m\u001b[0;34m)\u001b[0m\u001b[0;34m,\u001b[0m \u001b[0mnum_bytes\u001b[0m\u001b[0;34m)\u001b[0m\u001b[0;34m\u001b[0m\u001b[0;34m\u001b[0m\u001b[0m\n\u001b[0m\u001b[1;32m    500\u001b[0m \u001b[0;34m\u001b[0m\u001b[0m\n",
            "\u001b[0;31mKeyboardInterrupt\u001b[0m: ",
            "\nDuring handling of the above exception, another exception occurred:\n",
            "\u001b[0;31mKeyboardInterrupt\u001b[0m                         Traceback (most recent call last)",
            "\u001b[0;32m<ipython-input-22-031dc8e0830c>\u001b[0m in \u001b[0;36m<module>\u001b[0;34m()\u001b[0m\n\u001b[1;32m     25\u001b[0m         \u001b[0mprint\u001b[0m\u001b[0;34m(\u001b[0m\u001b[0;34m\"Epoch %d/%d| Step %d/%d| Loss: %.2f\"\u001b[0m \u001b[0;34m%\u001b[0m \u001b[0;34m(\u001b[0m\u001b[0me\u001b[0m\u001b[0;34m,\u001b[0m \u001b[0mepoch\u001b[0m\u001b[0;34m,\u001b[0m \u001b[0mi\u001b[0m\u001b[0;34m,\u001b[0m \u001b[0mlen\u001b[0m\u001b[0;34m(\u001b[0m\u001b[0mdataset\u001b[0m\u001b[0;34m)\u001b[0m \u001b[0;34m//\u001b[0m \u001b[0mbatchsize\u001b[0m\u001b[0;34m,\u001b[0m \u001b[0mloss\u001b[0m\u001b[0;34m)\u001b[0m\u001b[0;34m)\u001b[0m\u001b[0;34m\u001b[0m\u001b[0;34m\u001b[0m\u001b[0m\n\u001b[1;32m     26\u001b[0m         \u001b[0;32mif\u001b[0m \u001b[0;34m(\u001b[0m\u001b[0me\u001b[0m \u001b[0;34m+\u001b[0m \u001b[0;36m1\u001b[0m\u001b[0;34m)\u001b[0m \u001b[0;34m%\u001b[0m \u001b[0;36m10\u001b[0m \u001b[0;34m==\u001b[0m \u001b[0;36m0\u001b[0m\u001b[0;34m:\u001b[0m\u001b[0;34m\u001b[0m\u001b[0;34m\u001b[0m\u001b[0m\n\u001b[0;32m---> 27\u001b[0;31m             \u001b[0mtorch\u001b[0m\u001b[0;34m.\u001b[0m\u001b[0msave\u001b[0m\u001b[0;34m(\u001b[0m\u001b[0mmodel\u001b[0m\u001b[0;34m,\u001b[0m \u001b[0;34m\"./saved_models/YOLOv1_epoch\"\u001b[0m \u001b[0;34m+\u001b[0m \u001b[0mstr\u001b[0m\u001b[0;34m(\u001b[0m\u001b[0me\u001b[0m \u001b[0;34m+\u001b[0m \u001b[0;36m1\u001b[0m\u001b[0;34m)\u001b[0m \u001b[0;34m+\u001b[0m \u001b[0;34m\".pkl\"\u001b[0m\u001b[0;34m)\u001b[0m\u001b[0;34m\u001b[0m\u001b[0;34m\u001b[0m\u001b[0m\n\u001b[0m",
            "\u001b[0;32m/usr/local/lib/python3.7/dist-packages/torch/serialization.py\u001b[0m in \u001b[0;36msave\u001b[0;34m(obj, f, pickle_module, pickle_protocol, _use_new_zipfile_serialization)\u001b[0m\n\u001b[1;32m    377\u001b[0m         \u001b[0;32mif\u001b[0m \u001b[0m_use_new_zipfile_serialization\u001b[0m\u001b[0;34m:\u001b[0m\u001b[0;34m\u001b[0m\u001b[0;34m\u001b[0m\u001b[0m\n\u001b[1;32m    378\u001b[0m             \u001b[0;32mwith\u001b[0m \u001b[0m_open_zipfile_writer\u001b[0m\u001b[0;34m(\u001b[0m\u001b[0mopened_file\u001b[0m\u001b[0;34m)\u001b[0m \u001b[0;32mas\u001b[0m \u001b[0mopened_zipfile\u001b[0m\u001b[0;34m:\u001b[0m\u001b[0;34m\u001b[0m\u001b[0;34m\u001b[0m\u001b[0m\n\u001b[0;32m--> 379\u001b[0;31m                 \u001b[0m_save\u001b[0m\u001b[0;34m(\u001b[0m\u001b[0mobj\u001b[0m\u001b[0;34m,\u001b[0m \u001b[0mopened_zipfile\u001b[0m\u001b[0;34m,\u001b[0m \u001b[0mpickle_module\u001b[0m\u001b[0;34m,\u001b[0m \u001b[0mpickle_protocol\u001b[0m\u001b[0;34m)\u001b[0m\u001b[0;34m\u001b[0m\u001b[0;34m\u001b[0m\u001b[0m\n\u001b[0m\u001b[1;32m    380\u001b[0m                 \u001b[0;32mreturn\u001b[0m\u001b[0;34m\u001b[0m\u001b[0;34m\u001b[0m\u001b[0m\n\u001b[1;32m    381\u001b[0m         \u001b[0m_legacy_save\u001b[0m\u001b[0;34m(\u001b[0m\u001b[0mobj\u001b[0m\u001b[0;34m,\u001b[0m \u001b[0mopened_file\u001b[0m\u001b[0;34m,\u001b[0m \u001b[0mpickle_module\u001b[0m\u001b[0;34m,\u001b[0m \u001b[0mpickle_protocol\u001b[0m\u001b[0;34m)\u001b[0m\u001b[0;34m\u001b[0m\u001b[0;34m\u001b[0m\u001b[0m\n",
            "\u001b[0;31mKeyboardInterrupt\u001b[0m: "
          ]
        }
      ]
    }
  ]
}