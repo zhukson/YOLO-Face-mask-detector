{
  "nbformat": 4,
  "nbformat_minor": 0,
  "metadata": {
    "colab": {
      "name": "yolo_v1_face_detection!.ipynb",
      "provenance": [],
      "collapsed_sections": []
    },
    "kernelspec": {
      "display_name": "Python 3",
      "name": "python3"
    },
    "language_info": {
      "name": "python"
    },
    "accelerator": "GPU"
  },
  "cells": [
    {
      "cell_type": "markdown",
      "metadata": {
        "id": "rkUfr3SLywxB"
      },
      "source": [
        "# download file from roboflow\n",
        "roboflow could download our own uploaded dataset and it is very convinient and fast to download data from roboflow."
      ]
    },
    {
      "cell_type": "code",
      "metadata": {
        "colab": {
          "base_uri": "https://localhost:8080/",
          "height": 787
        },
        "id": "mUeGAaqIncLC",
        "outputId": "1db97527-a24e-4eb3-8c2f-d87bba8f13ae"
      },
      "source": [
        "!pip install roboflow\n",
        "\n",
        "from roboflow import Roboflow\n",
        "rf = Roboflow(api_key=\"AigV8d7mGnZ9MMZyXOX0\")\n",
        "project = rf.workspace().project(\"face-maks-yolo-v1\")\n",
        "dataset = project.version(2).download(\"voc\")"
      ],
      "execution_count": 1,
      "outputs": [
        {
          "output_type": "stream",
          "name": "stdout",
          "text": [
            "Requirement already satisfied: roboflow in /usr/local/lib/python3.7/dist-packages (0.1.8)\n",
            "Requirement already satisfied: matplotlib in /usr/local/lib/python3.7/dist-packages (from roboflow) (3.2.2)\n",
            "Requirement already satisfied: python-dotenv in /usr/local/lib/python3.7/dist-packages (from roboflow) (0.19.2)\n",
            "Requirement already satisfied: cycler==0.10.0 in /usr/local/lib/python3.7/dist-packages (from roboflow) (0.10.0)\n",
            "Requirement already satisfied: idna==2.10 in /usr/local/lib/python3.7/dist-packages (from roboflow) (2.10)\n",
            "Requirement already satisfied: six in /usr/local/lib/python3.7/dist-packages (from roboflow) (1.15.0)\n",
            "Requirement already satisfied: PyYAML>=5.3.1 in /usr/local/lib/python3.7/dist-packages (from roboflow) (6.0)\n",
            "Requirement already satisfied: tqdm>=4.41.0 in /usr/local/lib/python3.7/dist-packages (from roboflow) (4.62.3)\n",
            "Requirement already satisfied: Pillow>=7.1.2 in /usr/local/lib/python3.7/dist-packages (from roboflow) (7.1.2)\n",
            "Requirement already satisfied: kiwisolver==1.3.1 in /usr/local/lib/python3.7/dist-packages (from roboflow) (1.3.1)\n",
            "Requirement already satisfied: wget in /usr/local/lib/python3.7/dist-packages (from roboflow) (3.2)\n",
            "Requirement already satisfied: urllib3==1.26.6 in /usr/local/lib/python3.7/dist-packages (from roboflow) (1.26.6)\n",
            "Requirement already satisfied: pyparsing==2.4.7 in /usr/local/lib/python3.7/dist-packages (from roboflow) (2.4.7)\n",
            "Requirement already satisfied: chardet==4.0.0 in /usr/local/lib/python3.7/dist-packages (from roboflow) (4.0.0)\n",
            "Requirement already satisfied: python-dateutil in /usr/local/lib/python3.7/dist-packages (from roboflow) (2.8.2)\n",
            "Requirement already satisfied: certifi==2021.5.30 in /usr/local/lib/python3.7/dist-packages (from roboflow) (2021.5.30)\n",
            "Requirement already satisfied: numpy>=1.18.5 in /usr/local/lib/python3.7/dist-packages (from roboflow) (1.19.5)\n",
            "Requirement already satisfied: requests in /usr/local/lib/python3.7/dist-packages (from roboflow) (2.26.0)\n",
            "Requirement already satisfied: opencv-python>=4.1.2 in /usr/local/lib/python3.7/dist-packages (from roboflow) (4.1.2.30)\n",
            "Requirement already satisfied: charset-normalizer~=2.0.0 in /usr/local/lib/python3.7/dist-packages (from requests->roboflow) (2.0.7)\n",
            "\u001b[31mERROR: Operation cancelled by user\u001b[0m\n",
            "loading Roboflow workspace...\n",
            "loading Roboflow project...\n"
          ]
        },
        {
          "output_type": "error",
          "ename": "KeyboardInterrupt",
          "evalue": "ignored",
          "traceback": [
            "\u001b[0;31m---------------------------------------------------------------------------\u001b[0m",
            "\u001b[0;31mKeyboardInterrupt\u001b[0m                         Traceback (most recent call last)",
            "\u001b[0;32m<ipython-input-1-3b0b1c039e59>\u001b[0m in \u001b[0;36m<module>\u001b[0;34m()\u001b[0m\n\u001b[1;32m      4\u001b[0m \u001b[0mrf\u001b[0m \u001b[0;34m=\u001b[0m \u001b[0mRoboflow\u001b[0m\u001b[0;34m(\u001b[0m\u001b[0mapi_key\u001b[0m\u001b[0;34m=\u001b[0m\u001b[0;34m\"AigV8d7mGnZ9MMZyXOX0\"\u001b[0m\u001b[0;34m)\u001b[0m\u001b[0;34m\u001b[0m\u001b[0;34m\u001b[0m\u001b[0m\n\u001b[1;32m      5\u001b[0m \u001b[0mproject\u001b[0m \u001b[0;34m=\u001b[0m \u001b[0mrf\u001b[0m\u001b[0;34m.\u001b[0m\u001b[0mworkspace\u001b[0m\u001b[0;34m(\u001b[0m\u001b[0;34m)\u001b[0m\u001b[0;34m.\u001b[0m\u001b[0mproject\u001b[0m\u001b[0;34m(\u001b[0m\u001b[0;34m\"face-maks-yolo-v1\"\u001b[0m\u001b[0;34m)\u001b[0m\u001b[0;34m\u001b[0m\u001b[0;34m\u001b[0m\u001b[0m\n\u001b[0;32m----> 6\u001b[0;31m \u001b[0mdataset\u001b[0m \u001b[0;34m=\u001b[0m \u001b[0mproject\u001b[0m\u001b[0;34m.\u001b[0m\u001b[0mversion\u001b[0m\u001b[0;34m(\u001b[0m\u001b[0;36m2\u001b[0m\u001b[0;34m)\u001b[0m\u001b[0;34m.\u001b[0m\u001b[0mdownload\u001b[0m\u001b[0;34m(\u001b[0m\u001b[0;34m\"voc\"\u001b[0m\u001b[0;34m)\u001b[0m\u001b[0;34m\u001b[0m\u001b[0;34m\u001b[0m\u001b[0m\n\u001b[0m",
            "\u001b[0;32m/usr/local/lib/python3.7/dist-packages/roboflow/core/version.py\u001b[0m in \u001b[0;36mdownload\u001b[0;34m(self, model_format, location)\u001b[0m\n\u001b[1;32m     83\u001b[0m             \u001b[0msys\u001b[0m\u001b[0;34m.\u001b[0m\u001b[0mstdout\u001b[0m\u001b[0;34m.\u001b[0m\u001b[0mflush\u001b[0m\u001b[0;34m(\u001b[0m\u001b[0;34m)\u001b[0m\u001b[0;34m\u001b[0m\u001b[0;34m\u001b[0m\u001b[0m\n\u001b[1;32m     84\u001b[0m \u001b[0;34m\u001b[0m\u001b[0m\n\u001b[0;32m---> 85\u001b[0;31m         \u001b[0mwget\u001b[0m\u001b[0;34m.\u001b[0m\u001b[0mdownload\u001b[0m\u001b[0;34m(\u001b[0m\u001b[0mlink\u001b[0m\u001b[0;34m,\u001b[0m \u001b[0mout\u001b[0m\u001b[0;34m=\u001b[0m\u001b[0mlocation\u001b[0m \u001b[0;34m+\u001b[0m \u001b[0;34m\"/roboflow.zip\"\u001b[0m\u001b[0;34m,\u001b[0m \u001b[0mbar\u001b[0m\u001b[0;34m=\u001b[0m\u001b[0mbar_progress\u001b[0m\u001b[0;34m)\u001b[0m\u001b[0;34m\u001b[0m\u001b[0;34m\u001b[0m\u001b[0m\n\u001b[0m\u001b[1;32m     86\u001b[0m         \u001b[0msys\u001b[0m\u001b[0;34m.\u001b[0m\u001b[0mstdout\u001b[0m\u001b[0;34m.\u001b[0m\u001b[0mwrite\u001b[0m\u001b[0;34m(\u001b[0m\u001b[0;34m\"\\n\"\u001b[0m\u001b[0;34m)\u001b[0m\u001b[0;34m\u001b[0m\u001b[0;34m\u001b[0m\u001b[0m\n\u001b[1;32m     87\u001b[0m         \u001b[0msys\u001b[0m\u001b[0;34m.\u001b[0m\u001b[0mstdout\u001b[0m\u001b[0;34m.\u001b[0m\u001b[0mflush\u001b[0m\u001b[0;34m(\u001b[0m\u001b[0;34m)\u001b[0m\u001b[0;34m\u001b[0m\u001b[0;34m\u001b[0m\u001b[0m\n",
            "\u001b[0;32m/usr/local/lib/python3.7/dist-packages/wget.py\u001b[0m in \u001b[0;36mdownload\u001b[0;34m(url, out, bar)\u001b[0m\n\u001b[1;32m    524\u001b[0m     \u001b[0;32melse\u001b[0m\u001b[0;34m:\u001b[0m\u001b[0;34m\u001b[0m\u001b[0;34m\u001b[0m\u001b[0m\n\u001b[1;32m    525\u001b[0m         \u001b[0mbinurl\u001b[0m \u001b[0;34m=\u001b[0m \u001b[0murl\u001b[0m\u001b[0;34m\u001b[0m\u001b[0;34m\u001b[0m\u001b[0m\n\u001b[0;32m--> 526\u001b[0;31m     \u001b[0;34m(\u001b[0m\u001b[0mtmpfile\u001b[0m\u001b[0;34m,\u001b[0m \u001b[0mheaders\u001b[0m\u001b[0;34m)\u001b[0m \u001b[0;34m=\u001b[0m \u001b[0mulib\u001b[0m\u001b[0;34m.\u001b[0m\u001b[0murlretrieve\u001b[0m\u001b[0;34m(\u001b[0m\u001b[0mbinurl\u001b[0m\u001b[0;34m,\u001b[0m \u001b[0mtmpfile\u001b[0m\u001b[0;34m,\u001b[0m \u001b[0mcallback\u001b[0m\u001b[0;34m)\u001b[0m\u001b[0;34m\u001b[0m\u001b[0;34m\u001b[0m\u001b[0m\n\u001b[0m\u001b[1;32m    527\u001b[0m     \u001b[0mfilename\u001b[0m \u001b[0;34m=\u001b[0m \u001b[0mdetect_filename\u001b[0m\u001b[0;34m(\u001b[0m\u001b[0murl\u001b[0m\u001b[0;34m,\u001b[0m \u001b[0mout\u001b[0m\u001b[0;34m,\u001b[0m \u001b[0mheaders\u001b[0m\u001b[0;34m)\u001b[0m\u001b[0;34m\u001b[0m\u001b[0;34m\u001b[0m\u001b[0m\n\u001b[1;32m    528\u001b[0m     \u001b[0;32mif\u001b[0m \u001b[0moutdir\u001b[0m\u001b[0;34m:\u001b[0m\u001b[0;34m\u001b[0m\u001b[0;34m\u001b[0m\u001b[0m\n",
            "\u001b[0;32m/usr/lib/python3.7/urllib/request.py\u001b[0m in \u001b[0;36murlretrieve\u001b[0;34m(url, filename, reporthook, data)\u001b[0m\n\u001b[1;32m    245\u001b[0m     \u001b[0murl_type\u001b[0m\u001b[0;34m,\u001b[0m \u001b[0mpath\u001b[0m \u001b[0;34m=\u001b[0m \u001b[0msplittype\u001b[0m\u001b[0;34m(\u001b[0m\u001b[0murl\u001b[0m\u001b[0;34m)\u001b[0m\u001b[0;34m\u001b[0m\u001b[0;34m\u001b[0m\u001b[0m\n\u001b[1;32m    246\u001b[0m \u001b[0;34m\u001b[0m\u001b[0m\n\u001b[0;32m--> 247\u001b[0;31m     \u001b[0;32mwith\u001b[0m \u001b[0mcontextlib\u001b[0m\u001b[0;34m.\u001b[0m\u001b[0mclosing\u001b[0m\u001b[0;34m(\u001b[0m\u001b[0murlopen\u001b[0m\u001b[0;34m(\u001b[0m\u001b[0murl\u001b[0m\u001b[0;34m,\u001b[0m \u001b[0mdata\u001b[0m\u001b[0;34m)\u001b[0m\u001b[0;34m)\u001b[0m \u001b[0;32mas\u001b[0m \u001b[0mfp\u001b[0m\u001b[0;34m:\u001b[0m\u001b[0;34m\u001b[0m\u001b[0;34m\u001b[0m\u001b[0m\n\u001b[0m\u001b[1;32m    248\u001b[0m         \u001b[0mheaders\u001b[0m \u001b[0;34m=\u001b[0m \u001b[0mfp\u001b[0m\u001b[0;34m.\u001b[0m\u001b[0minfo\u001b[0m\u001b[0;34m(\u001b[0m\u001b[0;34m)\u001b[0m\u001b[0;34m\u001b[0m\u001b[0;34m\u001b[0m\u001b[0m\n\u001b[1;32m    249\u001b[0m \u001b[0;34m\u001b[0m\u001b[0m\n",
            "\u001b[0;32m/usr/lib/python3.7/urllib/request.py\u001b[0m in \u001b[0;36murlopen\u001b[0;34m(url, data, timeout, cafile, capath, cadefault, context)\u001b[0m\n\u001b[1;32m    220\u001b[0m     \u001b[0;32melse\u001b[0m\u001b[0;34m:\u001b[0m\u001b[0;34m\u001b[0m\u001b[0;34m\u001b[0m\u001b[0m\n\u001b[1;32m    221\u001b[0m         \u001b[0mopener\u001b[0m \u001b[0;34m=\u001b[0m \u001b[0m_opener\u001b[0m\u001b[0;34m\u001b[0m\u001b[0;34m\u001b[0m\u001b[0m\n\u001b[0;32m--> 222\u001b[0;31m     \u001b[0;32mreturn\u001b[0m \u001b[0mopener\u001b[0m\u001b[0;34m.\u001b[0m\u001b[0mopen\u001b[0m\u001b[0;34m(\u001b[0m\u001b[0murl\u001b[0m\u001b[0;34m,\u001b[0m \u001b[0mdata\u001b[0m\u001b[0;34m,\u001b[0m \u001b[0mtimeout\u001b[0m\u001b[0;34m)\u001b[0m\u001b[0;34m\u001b[0m\u001b[0;34m\u001b[0m\u001b[0m\n\u001b[0m\u001b[1;32m    223\u001b[0m \u001b[0;34m\u001b[0m\u001b[0m\n\u001b[1;32m    224\u001b[0m \u001b[0;32mdef\u001b[0m \u001b[0minstall_opener\u001b[0m\u001b[0;34m(\u001b[0m\u001b[0mopener\u001b[0m\u001b[0;34m)\u001b[0m\u001b[0;34m:\u001b[0m\u001b[0;34m\u001b[0m\u001b[0;34m\u001b[0m\u001b[0m\n",
            "\u001b[0;32m/usr/lib/python3.7/urllib/request.py\u001b[0m in \u001b[0;36mopen\u001b[0;34m(self, fullurl, data, timeout)\u001b[0m\n\u001b[1;32m    529\u001b[0m         \u001b[0;32mfor\u001b[0m \u001b[0mprocessor\u001b[0m \u001b[0;32min\u001b[0m \u001b[0mself\u001b[0m\u001b[0;34m.\u001b[0m\u001b[0mprocess_response\u001b[0m\u001b[0;34m.\u001b[0m\u001b[0mget\u001b[0m\u001b[0;34m(\u001b[0m\u001b[0mprotocol\u001b[0m\u001b[0;34m,\u001b[0m \u001b[0;34m[\u001b[0m\u001b[0;34m]\u001b[0m\u001b[0;34m)\u001b[0m\u001b[0;34m:\u001b[0m\u001b[0;34m\u001b[0m\u001b[0;34m\u001b[0m\u001b[0m\n\u001b[1;32m    530\u001b[0m             \u001b[0mmeth\u001b[0m \u001b[0;34m=\u001b[0m \u001b[0mgetattr\u001b[0m\u001b[0;34m(\u001b[0m\u001b[0mprocessor\u001b[0m\u001b[0;34m,\u001b[0m \u001b[0mmeth_name\u001b[0m\u001b[0;34m)\u001b[0m\u001b[0;34m\u001b[0m\u001b[0;34m\u001b[0m\u001b[0m\n\u001b[0;32m--> 531\u001b[0;31m             \u001b[0mresponse\u001b[0m \u001b[0;34m=\u001b[0m \u001b[0mmeth\u001b[0m\u001b[0;34m(\u001b[0m\u001b[0mreq\u001b[0m\u001b[0;34m,\u001b[0m \u001b[0mresponse\u001b[0m\u001b[0;34m)\u001b[0m\u001b[0;34m\u001b[0m\u001b[0;34m\u001b[0m\u001b[0m\n\u001b[0m\u001b[1;32m    532\u001b[0m \u001b[0;34m\u001b[0m\u001b[0m\n\u001b[1;32m    533\u001b[0m         \u001b[0;32mreturn\u001b[0m \u001b[0mresponse\u001b[0m\u001b[0;34m\u001b[0m\u001b[0;34m\u001b[0m\u001b[0m\n",
            "\u001b[0;32m/usr/lib/python3.7/urllib/request.py\u001b[0m in \u001b[0;36mhttp_response\u001b[0;34m(self, request, response)\u001b[0m\n\u001b[1;32m    639\u001b[0m         \u001b[0;32mif\u001b[0m \u001b[0;32mnot\u001b[0m \u001b[0;34m(\u001b[0m\u001b[0;36m200\u001b[0m \u001b[0;34m<=\u001b[0m \u001b[0mcode\u001b[0m \u001b[0;34m<\u001b[0m \u001b[0;36m300\u001b[0m\u001b[0;34m)\u001b[0m\u001b[0;34m:\u001b[0m\u001b[0;34m\u001b[0m\u001b[0;34m\u001b[0m\u001b[0m\n\u001b[1;32m    640\u001b[0m             response = self.parent.error(\n\u001b[0;32m--> 641\u001b[0;31m                 'http', request, response, code, msg, hdrs)\n\u001b[0m\u001b[1;32m    642\u001b[0m \u001b[0;34m\u001b[0m\u001b[0m\n\u001b[1;32m    643\u001b[0m         \u001b[0;32mreturn\u001b[0m \u001b[0mresponse\u001b[0m\u001b[0;34m\u001b[0m\u001b[0;34m\u001b[0m\u001b[0m\n",
            "\u001b[0;32m/usr/lib/python3.7/urllib/request.py\u001b[0m in \u001b[0;36merror\u001b[0;34m(self, proto, *args)\u001b[0m\n\u001b[1;32m    561\u001b[0m             \u001b[0mhttp_err\u001b[0m \u001b[0;34m=\u001b[0m \u001b[0;36m0\u001b[0m\u001b[0;34m\u001b[0m\u001b[0;34m\u001b[0m\u001b[0m\n\u001b[1;32m    562\u001b[0m         \u001b[0margs\u001b[0m \u001b[0;34m=\u001b[0m \u001b[0;34m(\u001b[0m\u001b[0mdict\u001b[0m\u001b[0;34m,\u001b[0m \u001b[0mproto\u001b[0m\u001b[0;34m,\u001b[0m \u001b[0mmeth_name\u001b[0m\u001b[0;34m)\u001b[0m \u001b[0;34m+\u001b[0m \u001b[0margs\u001b[0m\u001b[0;34m\u001b[0m\u001b[0;34m\u001b[0m\u001b[0m\n\u001b[0;32m--> 563\u001b[0;31m         \u001b[0mresult\u001b[0m \u001b[0;34m=\u001b[0m \u001b[0mself\u001b[0m\u001b[0;34m.\u001b[0m\u001b[0m_call_chain\u001b[0m\u001b[0;34m(\u001b[0m\u001b[0;34m*\u001b[0m\u001b[0margs\u001b[0m\u001b[0;34m)\u001b[0m\u001b[0;34m\u001b[0m\u001b[0;34m\u001b[0m\u001b[0m\n\u001b[0m\u001b[1;32m    564\u001b[0m         \u001b[0;32mif\u001b[0m \u001b[0mresult\u001b[0m\u001b[0;34m:\u001b[0m\u001b[0;34m\u001b[0m\u001b[0;34m\u001b[0m\u001b[0m\n\u001b[1;32m    565\u001b[0m             \u001b[0;32mreturn\u001b[0m \u001b[0mresult\u001b[0m\u001b[0;34m\u001b[0m\u001b[0;34m\u001b[0m\u001b[0m\n",
            "\u001b[0;32m/usr/lib/python3.7/urllib/request.py\u001b[0m in \u001b[0;36m_call_chain\u001b[0;34m(self, chain, kind, meth_name, *args)\u001b[0m\n\u001b[1;32m    501\u001b[0m         \u001b[0;32mfor\u001b[0m \u001b[0mhandler\u001b[0m \u001b[0;32min\u001b[0m \u001b[0mhandlers\u001b[0m\u001b[0;34m:\u001b[0m\u001b[0;34m\u001b[0m\u001b[0;34m\u001b[0m\u001b[0m\n\u001b[1;32m    502\u001b[0m             \u001b[0mfunc\u001b[0m \u001b[0;34m=\u001b[0m \u001b[0mgetattr\u001b[0m\u001b[0;34m(\u001b[0m\u001b[0mhandler\u001b[0m\u001b[0;34m,\u001b[0m \u001b[0mmeth_name\u001b[0m\u001b[0;34m)\u001b[0m\u001b[0;34m\u001b[0m\u001b[0;34m\u001b[0m\u001b[0m\n\u001b[0;32m--> 503\u001b[0;31m             \u001b[0mresult\u001b[0m \u001b[0;34m=\u001b[0m \u001b[0mfunc\u001b[0m\u001b[0;34m(\u001b[0m\u001b[0;34m*\u001b[0m\u001b[0margs\u001b[0m\u001b[0;34m)\u001b[0m\u001b[0;34m\u001b[0m\u001b[0;34m\u001b[0m\u001b[0m\n\u001b[0m\u001b[1;32m    504\u001b[0m             \u001b[0;32mif\u001b[0m \u001b[0mresult\u001b[0m \u001b[0;32mis\u001b[0m \u001b[0;32mnot\u001b[0m \u001b[0;32mNone\u001b[0m\u001b[0;34m:\u001b[0m\u001b[0;34m\u001b[0m\u001b[0;34m\u001b[0m\u001b[0m\n\u001b[1;32m    505\u001b[0m                 \u001b[0;32mreturn\u001b[0m \u001b[0mresult\u001b[0m\u001b[0;34m\u001b[0m\u001b[0;34m\u001b[0m\u001b[0m\n",
            "\u001b[0;32m/usr/lib/python3.7/urllib/request.py\u001b[0m in \u001b[0;36mhttp_error_302\u001b[0;34m(self, req, fp, code, msg, headers)\u001b[0m\n\u001b[1;32m    753\u001b[0m         \u001b[0mfp\u001b[0m\u001b[0;34m.\u001b[0m\u001b[0mclose\u001b[0m\u001b[0;34m(\u001b[0m\u001b[0;34m)\u001b[0m\u001b[0;34m\u001b[0m\u001b[0;34m\u001b[0m\u001b[0m\n\u001b[1;32m    754\u001b[0m \u001b[0;34m\u001b[0m\u001b[0m\n\u001b[0;32m--> 755\u001b[0;31m         \u001b[0;32mreturn\u001b[0m \u001b[0mself\u001b[0m\u001b[0;34m.\u001b[0m\u001b[0mparent\u001b[0m\u001b[0;34m.\u001b[0m\u001b[0mopen\u001b[0m\u001b[0;34m(\u001b[0m\u001b[0mnew\u001b[0m\u001b[0;34m,\u001b[0m \u001b[0mtimeout\u001b[0m\u001b[0;34m=\u001b[0m\u001b[0mreq\u001b[0m\u001b[0;34m.\u001b[0m\u001b[0mtimeout\u001b[0m\u001b[0;34m)\u001b[0m\u001b[0;34m\u001b[0m\u001b[0;34m\u001b[0m\u001b[0m\n\u001b[0m\u001b[1;32m    756\u001b[0m \u001b[0;34m\u001b[0m\u001b[0m\n\u001b[1;32m    757\u001b[0m     \u001b[0mhttp_error_301\u001b[0m \u001b[0;34m=\u001b[0m \u001b[0mhttp_error_303\u001b[0m \u001b[0;34m=\u001b[0m \u001b[0mhttp_error_307\u001b[0m \u001b[0;34m=\u001b[0m \u001b[0mhttp_error_302\u001b[0m\u001b[0;34m\u001b[0m\u001b[0;34m\u001b[0m\u001b[0m\n",
            "\u001b[0;32m/usr/lib/python3.7/urllib/request.py\u001b[0m in \u001b[0;36mopen\u001b[0;34m(self, fullurl, data, timeout)\u001b[0m\n\u001b[1;32m    523\u001b[0m             \u001b[0mreq\u001b[0m \u001b[0;34m=\u001b[0m \u001b[0mmeth\u001b[0m\u001b[0;34m(\u001b[0m\u001b[0mreq\u001b[0m\u001b[0;34m)\u001b[0m\u001b[0;34m\u001b[0m\u001b[0;34m\u001b[0m\u001b[0m\n\u001b[1;32m    524\u001b[0m \u001b[0;34m\u001b[0m\u001b[0m\n\u001b[0;32m--> 525\u001b[0;31m         \u001b[0mresponse\u001b[0m \u001b[0;34m=\u001b[0m \u001b[0mself\u001b[0m\u001b[0;34m.\u001b[0m\u001b[0m_open\u001b[0m\u001b[0;34m(\u001b[0m\u001b[0mreq\u001b[0m\u001b[0;34m,\u001b[0m \u001b[0mdata\u001b[0m\u001b[0;34m)\u001b[0m\u001b[0;34m\u001b[0m\u001b[0;34m\u001b[0m\u001b[0m\n\u001b[0m\u001b[1;32m    526\u001b[0m \u001b[0;34m\u001b[0m\u001b[0m\n\u001b[1;32m    527\u001b[0m         \u001b[0;31m# post-process response\u001b[0m\u001b[0;34m\u001b[0m\u001b[0;34m\u001b[0m\u001b[0;34m\u001b[0m\u001b[0m\n",
            "\u001b[0;32m/usr/lib/python3.7/urllib/request.py\u001b[0m in \u001b[0;36m_open\u001b[0;34m(self, req, data)\u001b[0m\n\u001b[1;32m    541\u001b[0m         \u001b[0mprotocol\u001b[0m \u001b[0;34m=\u001b[0m \u001b[0mreq\u001b[0m\u001b[0;34m.\u001b[0m\u001b[0mtype\u001b[0m\u001b[0;34m\u001b[0m\u001b[0;34m\u001b[0m\u001b[0m\n\u001b[1;32m    542\u001b[0m         result = self._call_chain(self.handle_open, protocol, protocol +\n\u001b[0;32m--> 543\u001b[0;31m                                   '_open', req)\n\u001b[0m\u001b[1;32m    544\u001b[0m         \u001b[0;32mif\u001b[0m \u001b[0mresult\u001b[0m\u001b[0;34m:\u001b[0m\u001b[0;34m\u001b[0m\u001b[0;34m\u001b[0m\u001b[0m\n\u001b[1;32m    545\u001b[0m             \u001b[0;32mreturn\u001b[0m \u001b[0mresult\u001b[0m\u001b[0;34m\u001b[0m\u001b[0;34m\u001b[0m\u001b[0m\n",
            "\u001b[0;32m/usr/lib/python3.7/urllib/request.py\u001b[0m in \u001b[0;36m_call_chain\u001b[0;34m(self, chain, kind, meth_name, *args)\u001b[0m\n\u001b[1;32m    501\u001b[0m         \u001b[0;32mfor\u001b[0m \u001b[0mhandler\u001b[0m \u001b[0;32min\u001b[0m \u001b[0mhandlers\u001b[0m\u001b[0;34m:\u001b[0m\u001b[0;34m\u001b[0m\u001b[0;34m\u001b[0m\u001b[0m\n\u001b[1;32m    502\u001b[0m             \u001b[0mfunc\u001b[0m \u001b[0;34m=\u001b[0m \u001b[0mgetattr\u001b[0m\u001b[0;34m(\u001b[0m\u001b[0mhandler\u001b[0m\u001b[0;34m,\u001b[0m \u001b[0mmeth_name\u001b[0m\u001b[0;34m)\u001b[0m\u001b[0;34m\u001b[0m\u001b[0;34m\u001b[0m\u001b[0m\n\u001b[0;32m--> 503\u001b[0;31m             \u001b[0mresult\u001b[0m \u001b[0;34m=\u001b[0m \u001b[0mfunc\u001b[0m\u001b[0;34m(\u001b[0m\u001b[0;34m*\u001b[0m\u001b[0margs\u001b[0m\u001b[0;34m)\u001b[0m\u001b[0;34m\u001b[0m\u001b[0;34m\u001b[0m\u001b[0m\n\u001b[0m\u001b[1;32m    504\u001b[0m             \u001b[0;32mif\u001b[0m \u001b[0mresult\u001b[0m \u001b[0;32mis\u001b[0m \u001b[0;32mnot\u001b[0m \u001b[0;32mNone\u001b[0m\u001b[0;34m:\u001b[0m\u001b[0;34m\u001b[0m\u001b[0;34m\u001b[0m\u001b[0m\n\u001b[1;32m    505\u001b[0m                 \u001b[0;32mreturn\u001b[0m \u001b[0mresult\u001b[0m\u001b[0;34m\u001b[0m\u001b[0;34m\u001b[0m\u001b[0m\n",
            "\u001b[0;32m/usr/lib/python3.7/urllib/request.py\u001b[0m in \u001b[0;36mhttps_open\u001b[0;34m(self, req)\u001b[0m\n\u001b[1;32m   1391\u001b[0m         \u001b[0;32mdef\u001b[0m \u001b[0mhttps_open\u001b[0m\u001b[0;34m(\u001b[0m\u001b[0mself\u001b[0m\u001b[0;34m,\u001b[0m \u001b[0mreq\u001b[0m\u001b[0;34m)\u001b[0m\u001b[0;34m:\u001b[0m\u001b[0;34m\u001b[0m\u001b[0;34m\u001b[0m\u001b[0m\n\u001b[1;32m   1392\u001b[0m             return self.do_open(http.client.HTTPSConnection, req,\n\u001b[0;32m-> 1393\u001b[0;31m                 context=self._context, check_hostname=self._check_hostname)\n\u001b[0m\u001b[1;32m   1394\u001b[0m \u001b[0;34m\u001b[0m\u001b[0m\n\u001b[1;32m   1395\u001b[0m         \u001b[0mhttps_request\u001b[0m \u001b[0;34m=\u001b[0m \u001b[0mAbstractHTTPHandler\u001b[0m\u001b[0;34m.\u001b[0m\u001b[0mdo_request_\u001b[0m\u001b[0;34m\u001b[0m\u001b[0;34m\u001b[0m\u001b[0m\n",
            "\u001b[0;32m/usr/lib/python3.7/urllib/request.py\u001b[0m in \u001b[0;36mdo_open\u001b[0;34m(self, http_class, req, **http_conn_args)\u001b[0m\n\u001b[1;32m   1351\u001b[0m             \u001b[0;32mexcept\u001b[0m \u001b[0mOSError\u001b[0m \u001b[0;32mas\u001b[0m \u001b[0merr\u001b[0m\u001b[0;34m:\u001b[0m \u001b[0;31m# timeout error\u001b[0m\u001b[0;34m\u001b[0m\u001b[0;34m\u001b[0m\u001b[0m\n\u001b[1;32m   1352\u001b[0m                 \u001b[0;32mraise\u001b[0m \u001b[0mURLError\u001b[0m\u001b[0;34m(\u001b[0m\u001b[0merr\u001b[0m\u001b[0;34m)\u001b[0m\u001b[0;34m\u001b[0m\u001b[0;34m\u001b[0m\u001b[0m\n\u001b[0;32m-> 1353\u001b[0;31m             \u001b[0mr\u001b[0m \u001b[0;34m=\u001b[0m \u001b[0mh\u001b[0m\u001b[0;34m.\u001b[0m\u001b[0mgetresponse\u001b[0m\u001b[0;34m(\u001b[0m\u001b[0;34m)\u001b[0m\u001b[0;34m\u001b[0m\u001b[0;34m\u001b[0m\u001b[0m\n\u001b[0m\u001b[1;32m   1354\u001b[0m         \u001b[0;32mexcept\u001b[0m\u001b[0;34m:\u001b[0m\u001b[0;34m\u001b[0m\u001b[0;34m\u001b[0m\u001b[0m\n\u001b[1;32m   1355\u001b[0m             \u001b[0mh\u001b[0m\u001b[0;34m.\u001b[0m\u001b[0mclose\u001b[0m\u001b[0;34m(\u001b[0m\u001b[0;34m)\u001b[0m\u001b[0;34m\u001b[0m\u001b[0;34m\u001b[0m\u001b[0m\n",
            "\u001b[0;32m/usr/lib/python3.7/http/client.py\u001b[0m in \u001b[0;36mgetresponse\u001b[0;34m(self)\u001b[0m\n\u001b[1;32m   1371\u001b[0m         \u001b[0;32mtry\u001b[0m\u001b[0;34m:\u001b[0m\u001b[0;34m\u001b[0m\u001b[0;34m\u001b[0m\u001b[0m\n\u001b[1;32m   1372\u001b[0m             \u001b[0;32mtry\u001b[0m\u001b[0;34m:\u001b[0m\u001b[0;34m\u001b[0m\u001b[0;34m\u001b[0m\u001b[0m\n\u001b[0;32m-> 1373\u001b[0;31m                 \u001b[0mresponse\u001b[0m\u001b[0;34m.\u001b[0m\u001b[0mbegin\u001b[0m\u001b[0;34m(\u001b[0m\u001b[0;34m)\u001b[0m\u001b[0;34m\u001b[0m\u001b[0;34m\u001b[0m\u001b[0m\n\u001b[0m\u001b[1;32m   1374\u001b[0m             \u001b[0;32mexcept\u001b[0m \u001b[0mConnectionError\u001b[0m\u001b[0;34m:\u001b[0m\u001b[0;34m\u001b[0m\u001b[0;34m\u001b[0m\u001b[0m\n\u001b[1;32m   1375\u001b[0m                 \u001b[0mself\u001b[0m\u001b[0;34m.\u001b[0m\u001b[0mclose\u001b[0m\u001b[0;34m(\u001b[0m\u001b[0;34m)\u001b[0m\u001b[0;34m\u001b[0m\u001b[0;34m\u001b[0m\u001b[0m\n",
            "\u001b[0;32m/usr/lib/python3.7/http/client.py\u001b[0m in \u001b[0;36mbegin\u001b[0;34m(self)\u001b[0m\n\u001b[1;32m    317\u001b[0m         \u001b[0;31m# read until we get a non-100 response\u001b[0m\u001b[0;34m\u001b[0m\u001b[0;34m\u001b[0m\u001b[0;34m\u001b[0m\u001b[0m\n\u001b[1;32m    318\u001b[0m         \u001b[0;32mwhile\u001b[0m \u001b[0;32mTrue\u001b[0m\u001b[0;34m:\u001b[0m\u001b[0;34m\u001b[0m\u001b[0;34m\u001b[0m\u001b[0m\n\u001b[0;32m--> 319\u001b[0;31m             \u001b[0mversion\u001b[0m\u001b[0;34m,\u001b[0m \u001b[0mstatus\u001b[0m\u001b[0;34m,\u001b[0m \u001b[0mreason\u001b[0m \u001b[0;34m=\u001b[0m \u001b[0mself\u001b[0m\u001b[0;34m.\u001b[0m\u001b[0m_read_status\u001b[0m\u001b[0;34m(\u001b[0m\u001b[0;34m)\u001b[0m\u001b[0;34m\u001b[0m\u001b[0;34m\u001b[0m\u001b[0m\n\u001b[0m\u001b[1;32m    320\u001b[0m             \u001b[0;32mif\u001b[0m \u001b[0mstatus\u001b[0m \u001b[0;34m!=\u001b[0m \u001b[0mCONTINUE\u001b[0m\u001b[0;34m:\u001b[0m\u001b[0;34m\u001b[0m\u001b[0;34m\u001b[0m\u001b[0m\n\u001b[1;32m    321\u001b[0m                 \u001b[0;32mbreak\u001b[0m\u001b[0;34m\u001b[0m\u001b[0;34m\u001b[0m\u001b[0m\n",
            "\u001b[0;32m/usr/lib/python3.7/http/client.py\u001b[0m in \u001b[0;36m_read_status\u001b[0;34m(self)\u001b[0m\n\u001b[1;32m    278\u001b[0m \u001b[0;34m\u001b[0m\u001b[0m\n\u001b[1;32m    279\u001b[0m     \u001b[0;32mdef\u001b[0m \u001b[0m_read_status\u001b[0m\u001b[0;34m(\u001b[0m\u001b[0mself\u001b[0m\u001b[0;34m)\u001b[0m\u001b[0;34m:\u001b[0m\u001b[0;34m\u001b[0m\u001b[0;34m\u001b[0m\u001b[0m\n\u001b[0;32m--> 280\u001b[0;31m         \u001b[0mline\u001b[0m \u001b[0;34m=\u001b[0m \u001b[0mstr\u001b[0m\u001b[0;34m(\u001b[0m\u001b[0mself\u001b[0m\u001b[0;34m.\u001b[0m\u001b[0mfp\u001b[0m\u001b[0;34m.\u001b[0m\u001b[0mreadline\u001b[0m\u001b[0;34m(\u001b[0m\u001b[0m_MAXLINE\u001b[0m \u001b[0;34m+\u001b[0m \u001b[0;36m1\u001b[0m\u001b[0;34m)\u001b[0m\u001b[0;34m,\u001b[0m \u001b[0;34m\"iso-8859-1\"\u001b[0m\u001b[0;34m)\u001b[0m\u001b[0;34m\u001b[0m\u001b[0;34m\u001b[0m\u001b[0m\n\u001b[0m\u001b[1;32m    281\u001b[0m         \u001b[0;32mif\u001b[0m \u001b[0mlen\u001b[0m\u001b[0;34m(\u001b[0m\u001b[0mline\u001b[0m\u001b[0;34m)\u001b[0m \u001b[0;34m>\u001b[0m \u001b[0m_MAXLINE\u001b[0m\u001b[0;34m:\u001b[0m\u001b[0;34m\u001b[0m\u001b[0;34m\u001b[0m\u001b[0m\n\u001b[1;32m    282\u001b[0m             \u001b[0;32mraise\u001b[0m \u001b[0mLineTooLong\u001b[0m\u001b[0;34m(\u001b[0m\u001b[0;34m\"status line\"\u001b[0m\u001b[0;34m)\u001b[0m\u001b[0;34m\u001b[0m\u001b[0;34m\u001b[0m\u001b[0m\n",
            "\u001b[0;32m/usr/lib/python3.7/socket.py\u001b[0m in \u001b[0;36mreadinto\u001b[0;34m(self, b)\u001b[0m\n\u001b[1;32m    587\u001b[0m         \u001b[0;32mwhile\u001b[0m \u001b[0;32mTrue\u001b[0m\u001b[0;34m:\u001b[0m\u001b[0;34m\u001b[0m\u001b[0;34m\u001b[0m\u001b[0m\n\u001b[1;32m    588\u001b[0m             \u001b[0;32mtry\u001b[0m\u001b[0;34m:\u001b[0m\u001b[0;34m\u001b[0m\u001b[0;34m\u001b[0m\u001b[0m\n\u001b[0;32m--> 589\u001b[0;31m                 \u001b[0;32mreturn\u001b[0m \u001b[0mself\u001b[0m\u001b[0;34m.\u001b[0m\u001b[0m_sock\u001b[0m\u001b[0;34m.\u001b[0m\u001b[0mrecv_into\u001b[0m\u001b[0;34m(\u001b[0m\u001b[0mb\u001b[0m\u001b[0;34m)\u001b[0m\u001b[0;34m\u001b[0m\u001b[0;34m\u001b[0m\u001b[0m\n\u001b[0m\u001b[1;32m    590\u001b[0m             \u001b[0;32mexcept\u001b[0m \u001b[0mtimeout\u001b[0m\u001b[0;34m:\u001b[0m\u001b[0;34m\u001b[0m\u001b[0;34m\u001b[0m\u001b[0m\n\u001b[1;32m    591\u001b[0m                 \u001b[0mself\u001b[0m\u001b[0;34m.\u001b[0m\u001b[0m_timeout_occurred\u001b[0m \u001b[0;34m=\u001b[0m \u001b[0;32mTrue\u001b[0m\u001b[0;34m\u001b[0m\u001b[0;34m\u001b[0m\u001b[0m\n",
            "\u001b[0;32m/usr/lib/python3.7/ssl.py\u001b[0m in \u001b[0;36mrecv_into\u001b[0;34m(self, buffer, nbytes, flags)\u001b[0m\n\u001b[1;32m   1069\u001b[0m                   \u001b[0;34m\"non-zero flags not allowed in calls to recv_into() on %s\"\u001b[0m \u001b[0;34m%\u001b[0m\u001b[0;34m\u001b[0m\u001b[0;34m\u001b[0m\u001b[0m\n\u001b[1;32m   1070\u001b[0m                   self.__class__)\n\u001b[0;32m-> 1071\u001b[0;31m             \u001b[0;32mreturn\u001b[0m \u001b[0mself\u001b[0m\u001b[0;34m.\u001b[0m\u001b[0mread\u001b[0m\u001b[0;34m(\u001b[0m\u001b[0mnbytes\u001b[0m\u001b[0;34m,\u001b[0m \u001b[0mbuffer\u001b[0m\u001b[0;34m)\u001b[0m\u001b[0;34m\u001b[0m\u001b[0;34m\u001b[0m\u001b[0m\n\u001b[0m\u001b[1;32m   1072\u001b[0m         \u001b[0;32melse\u001b[0m\u001b[0;34m:\u001b[0m\u001b[0;34m\u001b[0m\u001b[0;34m\u001b[0m\u001b[0m\n\u001b[1;32m   1073\u001b[0m             \u001b[0;32mreturn\u001b[0m \u001b[0msuper\u001b[0m\u001b[0;34m(\u001b[0m\u001b[0;34m)\u001b[0m\u001b[0;34m.\u001b[0m\u001b[0mrecv_into\u001b[0m\u001b[0;34m(\u001b[0m\u001b[0mbuffer\u001b[0m\u001b[0;34m,\u001b[0m \u001b[0mnbytes\u001b[0m\u001b[0;34m,\u001b[0m \u001b[0mflags\u001b[0m\u001b[0;34m)\u001b[0m\u001b[0;34m\u001b[0m\u001b[0;34m\u001b[0m\u001b[0m\n",
            "\u001b[0;32m/usr/lib/python3.7/ssl.py\u001b[0m in \u001b[0;36mread\u001b[0;34m(self, len, buffer)\u001b[0m\n\u001b[1;32m    927\u001b[0m         \u001b[0;32mtry\u001b[0m\u001b[0;34m:\u001b[0m\u001b[0;34m\u001b[0m\u001b[0;34m\u001b[0m\u001b[0m\n\u001b[1;32m    928\u001b[0m             \u001b[0;32mif\u001b[0m \u001b[0mbuffer\u001b[0m \u001b[0;32mis\u001b[0m \u001b[0;32mnot\u001b[0m \u001b[0;32mNone\u001b[0m\u001b[0;34m:\u001b[0m\u001b[0;34m\u001b[0m\u001b[0;34m\u001b[0m\u001b[0m\n\u001b[0;32m--> 929\u001b[0;31m                 \u001b[0;32mreturn\u001b[0m \u001b[0mself\u001b[0m\u001b[0;34m.\u001b[0m\u001b[0m_sslobj\u001b[0m\u001b[0;34m.\u001b[0m\u001b[0mread\u001b[0m\u001b[0;34m(\u001b[0m\u001b[0mlen\u001b[0m\u001b[0;34m,\u001b[0m \u001b[0mbuffer\u001b[0m\u001b[0;34m)\u001b[0m\u001b[0;34m\u001b[0m\u001b[0;34m\u001b[0m\u001b[0m\n\u001b[0m\u001b[1;32m    930\u001b[0m             \u001b[0;32melse\u001b[0m\u001b[0;34m:\u001b[0m\u001b[0;34m\u001b[0m\u001b[0;34m\u001b[0m\u001b[0m\n\u001b[1;32m    931\u001b[0m                 \u001b[0;32mreturn\u001b[0m \u001b[0mself\u001b[0m\u001b[0;34m.\u001b[0m\u001b[0m_sslobj\u001b[0m\u001b[0;34m.\u001b[0m\u001b[0mread\u001b[0m\u001b[0;34m(\u001b[0m\u001b[0mlen\u001b[0m\u001b[0;34m)\u001b[0m\u001b[0;34m\u001b[0m\u001b[0;34m\u001b[0m\u001b[0m\n",
            "\u001b[0;31mKeyboardInterrupt\u001b[0m: "
          ]
        }
      ]
    },
    {
      "cell_type": "markdown",
      "metadata": {
        "id": "6242mFC_yrIL"
      },
      "source": [
        "file classification(image + annotation)"
      ]
    },
    {
      "cell_type": "code",
      "metadata": {
        "id": "gLdeh2rjuVpA"
      },
      "source": [
        "import os, shutil\n",
        "def file_move(is_train = True):\n",
        "  file_type = \"train/\"\n",
        "  if not is_train:\n",
        "    file_type = \"valid/\"\n",
        "  main_dir = \"/content/bigdog-1\"\n",
        "  file_path = os.path.join(main_dir, file_type)\n",
        "  pathDir = os.listdir(file_path)\n",
        "  target_images = os.path.join(file_path,\"images/\")\n",
        "  target_annotations = os.path.join(file_path,\"annotations/\")\n",
        "  if not os.path.exists(target_images):\n",
        "    os.mkdir(target_images)\n",
        "  if not os.path.exists(target_annotations):\n",
        "    os.mkdir(target_annotations)\n",
        "  for name in pathDir:\n",
        "    if name[-1] == 'g':\n",
        "      old_pos = os.path.join(file_path, name)\n",
        "      shutil.move(old_pos, target_images)\n",
        "    elif name[-1] == 'l':\n",
        "      old_pos = os.path.join(file_path, name)\n",
        "      shutil.move(old_pos, target_annotations)\n",
        "\n",
        "file_move(is_train = False)\n",
        "file_move()"
      ],
      "execution_count": 2,
      "outputs": []
    },
    {
      "cell_type": "markdown",
      "metadata": {
        "id": "267uy3-cu8NK"
      },
      "source": [
        "# data preprocessing\n",
        "\n"
      ]
    },
    {
      "cell_type": "code",
      "metadata": {
        "id": "b4GwIeSICCdk"
      },
      "source": [
        "DATA_PATH = \"/content/bigdog-1/train/\"\n",
        "NUM_BBOX = 2\n",
        "NUM_CLASS = 0"
      ],
      "execution_count": 1,
      "outputs": []
    },
    {
      "cell_type": "code",
      "metadata": {
        "id": "P6ITWhZzawRp"
      },
      "source": [
        "import xml.etree.ElementTree as ET\n",
        "import os\n",
        "import cv2\n",
        "\n",
        "def convert_annotation(annotation_name):\n",
        "  in_file = open(DATA_PATH + 'annotations/%s'%(annotation_name))\n",
        "  image_id = annotation_name[0: len(annotation_name)-4]\n",
        "  label_path = os.path.join(DATA_PATH, 'labels/')\n",
        "  if not os.path.exists(label_path):\n",
        "    os.mkdir(label_path)\n",
        "  out_file = open(label_path+'%s.txt'%(image_id),'w')\n",
        "  tree = ET.parse(in_file)\n",
        "  root = tree.getroot()\n",
        "  size = root.find('size')\n",
        "  w = int(size.find('width').text)\n",
        "  h = int(size.find('height').text)\n",
        "  for obj in root.iter('object'):\n",
        "    # cls = obj.find('name').text\n",
        "    # if cls not in CLASSEs:\n",
        "    #   continue\n",
        "    # cls_id = CLASSES.index(cls)\n",
        "    xmlbox = obj.find('bndbox')\n",
        "    location = (float(xmlbox.find('xmin').text), float(xmlbox.find('xmax').text), float(xmlbox.find('ymin').text),\n",
        "             float(xmlbox.find('ymax').text))\n",
        "    bounding_box = convert((w,h),location)\n",
        "    out_file.write(\" \".join([str(a) for a in bounding_box])+\"\\n\")\n",
        "\n",
        "def xml2txt():\n",
        "  dir = os.listdir(DATA_PATH+'annotations')\n",
        "  for file in dir:\n",
        "    convert_annotation(file)\n",
        "\n",
        "def convert(size, box):\n",
        "    # dw = 1. / size[0] #for normalization\n",
        "    # dh = 1. / size[1]\n",
        "    x = (box[0] + box[1]) / 2.0\n",
        "    y = (box[2] + box[3]) / 2.0\n",
        "    w = box[1] - box[0]\n",
        "    h = box[3] - box[2]\n",
        "    # x = x * dw\n",
        "    # w = w * dw\n",
        "    # y = y * dh\n",
        "    # h = h * dh\n",
        "    return (x, y, w, h)\n",
        "xml2txt()"
      ],
      "execution_count": 9,
      "outputs": []
    },
    {
      "cell_type": "markdown",
      "metadata": {
        "id": "86ZyX7CiozGz"
      },
      "source": [
        "# face dataset\n",
        "To prepare the dataset class for pytorch data loader"
      ]
    },
    {
      "cell_type": "code",
      "metadata": {
        "id": "NwKCQvBNo0wm"
      },
      "source": [
        "from torch.utils.data import Dataset\n",
        "import torchvision\n",
        "import numpy as np\n",
        "\n",
        "class mask_data_set(Dataset):\n",
        "    def __init__(self, is_train=True):\n",
        "      self.filenames = []\n",
        "      self.root_path = \"/content/bigdog-1/train\"\n",
        "      if is_train:\n",
        "        f = os.listdir(\"/content/bigdog-1/train/images\")\n",
        "        self.filenames = [x[0:len(x)-4] for x in f]\n",
        "      else:\n",
        "        f = os.listdir(\"/content/bigdog-1/valid/images\")\n",
        "        self.filenames = [x[0:len(x)-4] for x in f]\n",
        "        self.root_path = \"/content/bigdog-1/valid\"\n",
        "      self.img_path = os.path.join(self.root_path, \"images/\")\n",
        "      self.label_path = os.path.join(self.root_path, \"labels/\")\n",
        "\n",
        "    def __len__(self):\n",
        "      return len(self.filenames)\n",
        "  \n",
        "    def __getitem__(self, item):\n",
        "      img = cv2.imread(self.img_path+self.filenames[item]+'.jpg')\n",
        "      img = cv2.resize(img,(448,448))\n",
        "      f = open(self.label_path+self.filenames[item]+'.txt')\n",
        "      bbox = f.read().split('\\n')\n",
        "      bbox = [x.split() for x in bbox]\n",
        "      bbox = bbox[0:len(bbox)-1]\n",
        "      labels = self.bbox2label(bbox)\n",
        "      img = torchvision.transforms.ToTensor()(img)\n",
        "      labels = torchvision.transforms.ToTensor()(labels)\n",
        "      return img, labels\n",
        "\n",
        "\n",
        "    def bbox2label(self, bbox):\n",
        "      cell_size = 7\n",
        "      img_size = 448\n",
        "      output = np.zeros((cell_size,cell_size,5+NUM_CLASS))\n",
        "      for box in bbox:\n",
        "        x = float(box[0])\n",
        "        y = float(box[1])\n",
        "        w = float(box[2])\n",
        "        h = float(box[3])\n",
        "        x_cell = int(x * cell_size / img_size)\n",
        "        y_cell = int(y * cell_size / img_size)\n",
        "        result = [x,y,w,h,1]\n",
        "        output[x_cell, y_cell] = result\n",
        "      return output"
      ],
      "execution_count": 2,
      "outputs": []
    },
    {
      "cell_type": "markdown",
      "metadata": {
        "id": "YNriUG1HKr1w"
      },
      "source": [
        "# draw bounding box to test the result\n",
        "to ensure the correctness of the data preprocessing result, drawing bounding box is a good way."
      ]
    },
    {
      "cell_type": "code",
      "metadata": {
        "id": "axfJeXQILeuL"
      },
      "source": [
        "jjdataset = mask_data_set(is_train=False)\n",
        "img4, label4 = jjdataset.__getitem__(item=4)"
      ],
      "execution_count": null,
      "outputs": []
    },
    {
      "cell_type": "code",
      "metadata": {
        "id": "BoRmIfCDD9qh"
      },
      "source": [
        "image4, label4 = jjdataset.__getitem__(4)"
      ],
      "execution_count": null,
      "outputs": []
    },
    {
      "cell_type": "code",
      "metadata": {
        "id": "-a0UC7FOV8N5"
      },
      "source": [
        "image4 = image4.permute(1,2,0).float()\n",
        "image4 = image4.numpy()"
      ],
      "execution_count": null,
      "outputs": []
    },
    {
      "cell_type": "code",
      "metadata": {
        "colab": {
          "base_uri": "https://localhost:8080/",
          "height": 286
        },
        "id": "d0me3E9kWHse",
        "outputId": "80d56283-f947-4768-df33-f6e58c03df3c"
      },
      "source": [
        "import matplotlib.pyplot as plt\n",
        "plt.imshow(image4)"
      ],
      "execution_count": null,
      "outputs": [
        {
          "output_type": "execute_result",
          "data": {
            "text/plain": [
              "<matplotlib.image.AxesImage at 0x7f9c66ade910>"
            ]
          },
          "metadata": {},
          "execution_count": 11
        },
        {
          "output_type": "display_data",
          "data": {
            "image/png": "[encoded data removed]",
            "text/plain": [
              "<Figure size 432x288 with 1 Axes>"
            ]
          },
          "metadata": {
            "needs_background": "light"
          }
        }
      ]
    },
    {
      "cell_type": "markdown",
      "metadata": {
        "id": "yx5bX4ZFS2LB"
      },
      "source": [
        "## draw bounding box"
      ]
    },
    {
      "cell_type": "code",
      "metadata": {
        "id": "dglZj1cpKu4H"
      },
      "source": [
        "import cv2\n",
        "def bounding_box_show(box, image):\n",
        "  left_top_x = int(box[0]-box[2]/2)\n",
        "  left_top_y = int(box[1]+box[3]/2)\n",
        "  right_bottom_x = int(box[0]+box[2]/2)\n",
        "  right_bottom_y = int(box[1]-box[3]/2)\n",
        "  left = [left_top_x, left_top_y]\n",
        "  right = [right_bottom_x, right_bottom_y]\n",
        "  color = (255, 0, 0) \n",
        "  thickness = 2\n",
        "  img = cv2.rectangle(image, (right[0],right[1]), (left[0],left[1]), color, thickness)\n",
        "  return img"
      ],
      "execution_count": 3,
      "outputs": []
    },
    {
      "cell_type": "code",
      "metadata": {
        "id": "rBVBRb87VZId"
      },
      "source": [
        "new_img = bounding_box_show(label4[:,3,3], image4)"
      ],
      "execution_count": null,
      "outputs": []
    },
    {
      "cell_type": "code",
      "metadata": {
        "colab": {
          "base_uri": "https://localhost:8080/"
        },
        "id": "O_BHqXoSXR_j",
        "outputId": "4ce26366-6097-4ebc-901c-a39ac97f5f4f"
      },
      "source": [
        "type(image4)"
      ],
      "execution_count": null,
      "outputs": [
        {
          "output_type": "execute_result",
          "data": {
            "text/plain": [
              "numpy.ndarray"
            ]
          },
          "metadata": {},
          "execution_count": 196
        }
      ]
    },
    {
      "cell_type": "code",
      "metadata": {
        "id": "UqUhnGV0W_Gu"
      },
      "source": [
        "img = cv2.imread(\"/content/dogs!!!-1/train/images/n02085620_10074_jpg.rf.82277f35032f21145b22da6274e4fd68.jpg\")"
      ],
      "execution_count": null,
      "outputs": []
    },
    {
      "cell_type": "markdown",
      "metadata": {
        "id": "dVzOUDBko304"
      },
      "source": [
        "# LOSS function\n",
        "the loss function of YOLO V1"
      ]
    },
    {
      "cell_type": "code",
      "metadata": {
        "id": "2EwT3G9LovV-"
      },
      "source": [
        "import math\n",
        "import torch\n",
        "import torch.nn as nn\n",
        "\n",
        "class yolov1_Loss(nn.Module):\n",
        "  def __init__(self):\n",
        "        super(yolov1_Loss, self).__init__()\n",
        "        self.mse = nn.MSELoss(reduction=\"sum\")\n",
        "\n",
        "  def calculate_IOU(self, box1,box2):\n",
        "      left_x1 = box1[0]-box1[3]/2\n",
        "      left_y1 = box1[1]+box1[2]/2\n",
        "      right_x1 = box1[0]+box1[3]/2\n",
        "      right_y1 = box1[1]-box1[2]/2\n",
        "      rec1 = [left_x1, left_y1, right_x1, right_y1]\n",
        "      left_x2 = box2[0]-box2[3]/2\n",
        "      left_y2 = box2[1]+box2[2]/2\n",
        "      right_x2 = box2[0]+box2[3]/2\n",
        "      right_y2 = box2[1]-box2[2]/2\n",
        "      rec2 = [left_x2, left_y2, right_x2, right_y2]\n",
        "      left_max  = max(rec1[0],rec2[0])\n",
        "      top_max = max(rec1[1],rec2[1])\n",
        "      right_min = min(rec1[2],rec2[2])\n",
        "      bottom_min = min(rec1[3],rec2[3])\n",
        "      #if box1 and box2 are intersecting each other\n",
        "      if (left_max < right_min or bottom_min > top_max):\n",
        "        rect1_area = (rec1[2]-rec1[0])*(rec1[3]-rec1[1])\n",
        "        rect2_area = (rec2[2]-rec2[0])*(rec2[3]-rec2[1])\n",
        "        area_cross = (bottom_min - top_max)*(right_min - left_max)\n",
        "        return area_cross/(rect1_area+rect2_area-area_cross)\n",
        "      else:\n",
        "        return 0\n",
        "\n",
        "\n",
        "    # define the 5 components of the loss function(tested!!!!!!!!!)\n",
        "  def center_loss(self, box, gt_box):\n",
        "      # box size: [cx, cy, w, h, confidence]\n",
        "      loss = 5 * self.mse(torch.flatten(box[0:2]), torch.flatten(gt_box[0:2]))\n",
        "      return loss\n",
        "\n",
        "  def wh_loss(self, box, gt_box):\n",
        "      # box size: [cx, cy, w, h, confidence]\n",
        "      loss = 5 * self.mse(torch.flatten(torch.sqrt(abs(box[2:4]))), torch.flatten(torch.sqrt(gt_box[2:4])))\n",
        "      return loss\n",
        "\n",
        "  def object_confidence_loss(self, box, iou):\n",
        "      return self.mse(torch.flatten(box[4]),torch.tensor(100).float().cuda())\n",
        "\n",
        "  def noobject_confidence_loss(self, box, iou):\n",
        "      return self.mse(torch.flatten(box[4]),torch.tensor(0).float().cuda())\n",
        "\n",
        "  def classification_loss(self, pred_class, gt_box):\n",
        "      loss = self.mse(torch.flatten(pred_class), torch.flatten(gt_box[5:]))\n",
        "      return loss\n",
        "\n",
        "  # the whole process\n",
        "  def forward(self, pred, labels):\n",
        "        # five components of the loss function\n",
        "        bnd_center_loss = 0  # bounding box center loss\n",
        "        bnd_wh_loss = 0  # bounding box width and height loss\n",
        "        obj_confident_loss = 0  # confidence loss for bounding box with object witin\n",
        "        noobj_confident_loss = 0  # confidence loss for bounding box without object within\n",
        "        # classification_loss = 0  # classification loss\n",
        "        n_batch = labels.shape[0]\n",
        "        for i in range(n_batch):\n",
        "          for m in range(7):\n",
        "            for n in range(7):\n",
        "              #only iterate column with confidence value =1\n",
        "              if labels[i, 4, m, n] == 1:\n",
        "                # first we need to select the bounding box which has\n",
        "                # a higher IOU with the ground truth bounding box\n",
        "                current_pred = pred[i,:, m, n]\n",
        "                current_label = labels[i,:, m, n]\n",
        "                box1 = current_pred[0:5]\n",
        "                pred_class = current_pred[10:]\n",
        "                box2 = current_pred[5:10]\n",
        "                iou1 = self.calculate_IOU(box1, current_label)\n",
        "                iou2 = self.calculate_IOU(box2, current_label)\n",
        "                # print('box1:  {}\\n, box2: {}'.format(iou1,iou2))\n",
        "                #if box1 has a higher iou, then box1 would be responsible for this task.\n",
        "                if iou1 >= iou2:\n",
        "                  bnd_center_loss += self.center_loss(box1, current_label)                     \n",
        "                  bnd_wh_loss += self.wh_loss(box1, current_label)\n",
        "                  obj_confident_loss += self.object_confidence_loss(box1, iou1)\n",
        "                  noobj_confident_loss += self.noobject_confidence_loss(box2, iou2)\n",
        "                  # classification_loss += self.classification_loss(pred_class, current_label)\n",
        "                # otherwise, box2 would take this responsibility!\n",
        "                else:\n",
        "                  bnd_center_loss += self.center_loss(box2, current_label)                     \n",
        "                  bnd_wh_loss += self.wh_loss(box2, current_label)\n",
        "                  obj_confident_loss += self.object_confidence_loss(box2, iou1)\n",
        "                  noobj_confident_loss += self.noobject_confidence_loss(box1, iou2)\n",
        "                  # classification_loss += self.classification_loss(pred_class, current_label)\n",
        "              else:\n",
        "                noobj_confident_loss += torch.sum(pred[i,[4,9],m,n]**2)\n",
        "        print(\"current_pred:  \", current_pred)\n",
        "        print(\"current_label: \", current_label)\n",
        "        total_loss = bnd_center_loss + bnd_wh_loss + obj_confident_loss + noobj_confident_loss\n",
        "        return torch.sum(total_loss)/n_batch"
      ],
      "execution_count": 21,
      "outputs": []
    },
    {
      "cell_type": "markdown",
      "metadata": {
        "id": "a8pkkK92hFk_"
      },
      "source": [
        "# Test loss function\n",
        "The loss function is combined with 5 parts including the iou calculation.\n",
        "To ensure the accuracy, I test all of them there."
      ]
    },
    {
      "cell_type": "markdown",
      "metadata": {
        "id": "JdyPg7Zbf36S"
      },
      "source": [
        "test calculate_IOU"
      ]
    },
    {
      "cell_type": "code",
      "metadata": {
        "id": "LHQdsCFQ9Tri"
      },
      "source": [
        "mse = nn.MSELoss(reduction=\"sum\")"
      ],
      "execution_count": null,
      "outputs": []
    },
    {
      "cell_type": "code",
      "metadata": {
        "id": "xptRdbSGaTMc"
      },
      "source": [
        "def calculate_IOU(box1,box2):\n",
        "    left_x1 = box1[0]-box1[3]/2\n",
        "    left_y1 = box1[1]+box1[2]/2\n",
        "    right_x1 = box1[0]+box1[3]/2\n",
        "    right_y1 = box1[1]-box1[2]/2\n",
        "    rec1 = [left_x1, left_y1, right_x1, right_y1]\n",
        "    #box2\n",
        "    left_x2 = box2[0]-box2[3]/2\n",
        "    left_y2 = box2[1]+box2[2]/2\n",
        "    right_x2 = box2[0]+box2[3]/2\n",
        "    right_y2 = box2[1]-box2[2]/2\n",
        "    rec2 = [left_x2, left_y2, right_x2, right_y2]\n",
        "    left_max  = max(rec1[0],rec2[0])\n",
        "    top_max = max(rec1[1],rec2[1])\n",
        "    right_min = min(rec1[2],rec2[2])\n",
        "    bottom_min = min(rec1[3],rec2[3])\n",
        "    #if box1 and box2 are intersecting each other\n",
        "    if (left_max < right_min or bottom_min > top_max):\n",
        "      rect1_area = (rec1[2]-rec1[0])*(rec1[3]-rec1[1])\n",
        "      rect2_area = (rec2[2]-rec2[0])*(rec2[3]-rec2[1])\n",
        "      area_cross = (bottom_min - top_max)*(right_min - left_max)\n",
        "      return area_cross/(rect1_area+rect2_area-area_cross)\n",
        "    else:\n",
        "      return 0"
      ],
      "execution_count": null,
      "outputs": []
    },
    {
      "cell_type": "code",
      "metadata": {
        "colab": {
          "base_uri": "https://localhost:8080/"
        },
        "id": "sv38rl6VadNP",
        "outputId": "e18a8926-6f36-44c5-a602-f79f7b6b9041"
      },
      "source": [
        "#     x  y  h  w\n",
        "box1 = torch.tensor([68, 82, 52, 45,  1,  1,  0,  0], dtype = float)\n",
        "box2 = torch.tensor([53, 75, 52, 56,  1,  0,  1,  0], dtype = float)\n",
        "calculate_IOU(box1, box2)\n",
        "mse(torch.flatten(torch.sqrt(abs(box1[5:]))), torch.flatten(torch.sqrt(box2[5:])))"
      ],
      "execution_count": null,
      "outputs": [
        {
          "data": {
            "text/plain": [
              "tensor(2., dtype=torch.float64)"
            ]
          },
          "execution_count": 5,
          "metadata": {},
          "output_type": "execute_result"
        }
      ]
    },
    {
      "cell_type": "markdown",
      "metadata": {
        "id": "c_cPYu2AnFsr"
      },
      "source": [
        "test center_loss"
      ]
    },
    {
      "cell_type": "code",
      "metadata": {
        "colab": {
          "base_uri": "https://localhost:8080/"
        },
        "id": "b6WUXJY6hEb6",
        "outputId": "7e893ac0-6394-41f7-fd8d-b26d251d12a3"
      },
      "source": [
        "def center_loss(box, gt_box):\n",
        "  # box size: [confidence, cx, cy, w, h]\n",
        "  loss = 5 * mse(torch.flatten(box1[1:3]), torch.flatten(box2[1:3]))\n",
        "  return loss\n",
        "center_loss(box1, box2)"
      ],
      "execution_count": null,
      "outputs": [
        {
          "data": {
            "text/plain": [
              "tensor(245., dtype=torch.float64)"
            ]
          },
          "execution_count": 6,
          "metadata": {},
          "output_type": "execute_result"
        }
      ]
    },
    {
      "cell_type": "markdown",
      "metadata": {
        "id": "xS6sTEqEnJVw"
      },
      "source": [
        "test wh_loss"
      ]
    },
    {
      "cell_type": "code",
      "metadata": {
        "colab": {
          "base_uri": "https://localhost:8080/"
        },
        "id": "t3bBtMRlh6VW",
        "outputId": "f5261a9a-af78-468f-822c-9d824402c6d5"
      },
      "source": [
        "def wh_loss(box, gt_box):\n",
        "  # box size: [confidence, cx, cy, w, h]\n",
        "  loss = 5 * mse(torch.flatten(torch.sqrt(abs(box1[3:4]))), torch.flatten(torch.sqrt(box2[3:4])))\n",
        "  return loss\n",
        "wh_loss(box1, box2)"
      ],
      "execution_count": null,
      "outputs": [
        {
          "data": {
            "text/plain": [
              "tensor(3.0040, dtype=torch.float64)"
            ]
          },
          "execution_count": 32,
          "metadata": {},
          "output_type": "execute_result"
        }
      ]
    },
    {
      "cell_type": "markdown",
      "metadata": {
        "id": "QWVLQB1InKp3"
      },
      "source": [
        "test object_confidence_loss"
      ]
    },
    {
      "cell_type": "code",
      "metadata": {
        "colab": {
          "base_uri": "https://localhost:8080/"
        },
        "id": "rYTpGjxTih0W",
        "outputId": "b2b5c2e1-af97-4e5a-ce8e-6742886a7b2a"
      },
      "source": [
        "def object_confidence_loss(box, box2):\n",
        "  return box[4]-box2[4]\n",
        "object_confidence_loss(box1, box2)"
      ],
      "execution_count": null,
      "outputs": [
        {
          "data": {
            "text/plain": [
              "tensor(0., dtype=torch.float64)"
            ]
          },
          "execution_count": 33,
          "metadata": {},
          "output_type": "execute_result"
        }
      ]
    },
    {
      "cell_type": "markdown",
      "metadata": {
        "id": "fS_KgwMTnNw9"
      },
      "source": [
        "test classification_loss"
      ]
    },
    {
      "cell_type": "code",
      "metadata": {
        "colab": {
          "base_uri": "https://localhost:8080/"
        },
        "id": "hcH47nk_kgIz",
        "outputId": "892e86ee-ce83-40c0-8456-fe1d8ae6a07f"
      },
      "source": [
        "def classification_loss(pred_class, gt_box):\n",
        "  loss = mse(torch.flatten(box1[5:]), torch.flatten(box2[5:]))\n",
        "  return loss\n",
        "classification_loss(box1, box2)"
      ],
      "execution_count": null,
      "outputs": [
        {
          "data": {
            "text/plain": [
              "tensor(2., dtype=torch.float64)"
            ]
          },
          "execution_count": 34,
          "metadata": {},
          "output_type": "execute_result"
        }
      ]
    },
    {
      "cell_type": "markdown",
      "metadata": {
        "id": "1zRrbwD_pDya"
      },
      "source": [
        "# Model\n",
        "The original yolo v1 model\n"
      ]
    },
    {
      "cell_type": "code",
      "metadata": {
        "id": "1dbxrhFyIWJx",
        "colab": {
          "base_uri": "https://localhost:8080/"
        },
        "outputId": "b32a591e-a2a0-40b8-c028-dc5456736b12"
      },
      "source": [
        "import torch\n",
        "import torch.nn as nn\n",
        "\n",
        "architecture_config = [\n",
        "    (7, 64, 2, 3),\n",
        "    \"M\",\n",
        "    (3, 192, 1, 1),\n",
        "    \"M\",\n",
        "    (1, 128, 1, 0),\n",
        "    (3, 256, 1, 1),\n",
        "    (1, 256, 1, 0),\n",
        "    (3, 512, 1, 1),\n",
        "    \"M\",\n",
        "    [(1, 256, 1, 0), (3, 512, 1, 1), 4],\n",
        "    (1, 512, 1, 0),\n",
        "    (3, 1024, 1, 1),\n",
        "    \"M\",\n",
        "    [(1, 512, 1, 0), (3, 1024, 1, 1), 2],\n",
        "    (3, 1024, 1, 1),\n",
        "    (3, 1024, 2, 1),\n",
        "    (3, 1024, 1, 1),\n",
        "    (3, 1024, 1, 1),\n",
        "]\n",
        "\n",
        "target_image_size = 448\n",
        "\n",
        "\n",
        "class CNNBlock(nn.Module):\n",
        "    def __init__(self, in_channels, out_channels, **kwargs):\n",
        "        super(CNNBlock, self).__init__()\n",
        "        self.conv = nn.Conv2d(in_channels, out_channels, bias=False, **kwargs)\n",
        "        self.batchnorm = nn.BatchNorm2d(out_channels)\n",
        "        self.leakyrelu = nn.LeakyReLU(0.1)\n",
        "\n",
        "    def forward(self, x):\n",
        "        return self.leakyrelu(self.batchnorm(self.conv(x)))\n",
        "\n",
        "\n",
        "class Yolov1(nn.Module):\n",
        "    def __init__(self, in_channels=3, **kwargs):\n",
        "        super(Yolov1, self).__init__()\n",
        "        self.architecture = architecture_config\n",
        "        self.in_channels = in_channels\n",
        "        self.darknet = self._create_conv_layers(self.architecture)\n",
        "        self.fcs = self._create_fcs(**kwargs)\n",
        "\n",
        "    def forward(self, x):\n",
        "        x = self.darknet(x)\n",
        "        return self.fcs(torch.flatten(x, start_dim=1)).reshape(-1, 10, 7, 7)\n",
        "\n",
        "    def _create_conv_layers(self, architecture):\n",
        "        layers = []\n",
        "        in_channels = self.in_channels\n",
        "\n",
        "        for x in architecture:\n",
        "            if type(x) == tuple:\n",
        "                layers += [\n",
        "                    CNNBlock(\n",
        "                        in_channels, x[1], kernel_size=x[0], stride=x[2], padding=x[3],\n",
        "                    )\n",
        "                ]\n",
        "                in_channels = x[1]\n",
        "\n",
        "            elif type(x) == str:\n",
        "                layers += [nn.MaxPool2d(kernel_size=(2, 2), stride=(2, 2))]\n",
        "\n",
        "            elif type(x) == list:\n",
        "                conv1 = x[0]\n",
        "                conv2 = x[1]\n",
        "                num_repeats = x[2]\n",
        "\n",
        "                for _ in range(num_repeats):\n",
        "                    layers += [\n",
        "                        CNNBlock(\n",
        "                            in_channels,\n",
        "                            conv1[1],\n",
        "                            kernel_size=conv1[0],\n",
        "                            stride=conv1[2],\n",
        "                            padding=conv1[3],\n",
        "                        )\n",
        "                    ]\n",
        "                    layers += [\n",
        "                        CNNBlock(\n",
        "                            conv1[1],\n",
        "                            conv2[1],\n",
        "                            kernel_size=conv2[0],\n",
        "                            stride=conv2[2],\n",
        "                            padding=conv2[3],\n",
        "                        )\n",
        "                    ]\n",
        "                    in_channels = conv2[1]\n",
        "        return nn.Sequential(*layers)\n",
        "\n",
        "    def _create_fcs(self, split_size, num_boxes, num_classes):\n",
        "        S, B, C = split_size, num_boxes, num_classes\n",
        "        return nn.Sequential(\n",
        "            nn.Flatten(),\n",
        "            nn.Linear(1024 * S * S, 496),\n",
        "            nn.Dropout(0.0),\n",
        "            nn.LeakyReLU(0.1),\n",
        "            nn.Linear(496, S * S * (C + B * 5)),\n",
        "        )\n",
        "\n",
        "x = torch.randn((5,3,448,448))\n",
        "net = Yolov1(split_size=7, num_boxes=2, num_classes=0)\n",
        "print(net)\n",
        "y = net(x)\n",
        "print(y.shape)"
      ],
      "execution_count": 4,
      "outputs": [
        {
          "output_type": "stream",
          "name": "stdout",
          "text": [
            "Yolov1(\n",
            "  (darknet): Sequential(\n",
            "    (0): CNNBlock(\n",
            "      (conv): Conv2d(3, 64, kernel_size=(7, 7), stride=(2, 2), padding=(3, 3), bias=False)\n",
            "      (batchnorm): BatchNorm2d(64, eps=1e-05, momentum=0.1, affine=True, track_running_stats=True)\n",
            "      (leakyrelu): LeakyReLU(negative_slope=0.1)\n",
            "    )\n",
            "    (1): MaxPool2d(kernel_size=(2, 2), stride=(2, 2), padding=0, dilation=1, ceil_mode=False)\n",
            "    (2): CNNBlock(\n",
            "      (conv): Conv2d(64, 192, kernel_size=(3, 3), stride=(1, 1), padding=(1, 1), bias=False)\n",
            "      (batchnorm): BatchNorm2d(192, eps=1e-05, momentum=0.1, affine=True, track_running_stats=True)\n",
            "      (leakyrelu): LeakyReLU(negative_slope=0.1)\n",
            "    )\n",
            "    (3): MaxPool2d(kernel_size=(2, 2), stride=(2, 2), padding=0, dilation=1, ceil_mode=False)\n",
            "    (4): CNNBlock(\n",
            "      (conv): Conv2d(192, 128, kernel_size=(1, 1), stride=(1, 1), bias=False)\n",
            "      (batchnorm): BatchNorm2d(128, eps=1e-05, momentum=0.1, affine=True, track_running_stats=True)\n",
            "      (leakyrelu): LeakyReLU(negative_slope=0.1)\n",
            "    )\n",
            "    (5): CNNBlock(\n",
            "      (conv): Conv2d(128, 256, kernel_size=(3, 3), stride=(1, 1), padding=(1, 1), bias=False)\n",
            "      (batchnorm): BatchNorm2d(256, eps=1e-05, momentum=0.1, affine=True, track_running_stats=True)\n",
            "      (leakyrelu): LeakyReLU(negative_slope=0.1)\n",
            "    )\n",
            "    (6): CNNBlock(\n",
            "      (conv): Conv2d(256, 256, kernel_size=(1, 1), stride=(1, 1), bias=False)\n",
            "      (batchnorm): BatchNorm2d(256, eps=1e-05, momentum=0.1, affine=True, track_running_stats=True)\n",
            "      (leakyrelu): LeakyReLU(negative_slope=0.1)\n",
            "    )\n",
            "    (7): CNNBlock(\n",
            "      (conv): Conv2d(256, 512, kernel_size=(3, 3), stride=(1, 1), padding=(1, 1), bias=False)\n",
            "      (batchnorm): BatchNorm2d(512, eps=1e-05, momentum=0.1, affine=True, track_running_stats=True)\n",
            "      (leakyrelu): LeakyReLU(negative_slope=0.1)\n",
            "    )\n",
            "    (8): MaxPool2d(kernel_size=(2, 2), stride=(2, 2), padding=0, dilation=1, ceil_mode=False)\n",
            "    (9): CNNBlock(\n",
            "      (conv): Conv2d(512, 256, kernel_size=(1, 1), stride=(1, 1), bias=False)\n",
            "      (batchnorm): BatchNorm2d(256, eps=1e-05, momentum=0.1, affine=True, track_running_stats=True)\n",
            "      (leakyrelu): LeakyReLU(negative_slope=0.1)\n",
            "    )\n",
            "    (10): CNNBlock(\n",
            "      (conv): Conv2d(256, 512, kernel_size=(3, 3), stride=(1, 1), padding=(1, 1), bias=False)\n",
            "      (batchnorm): BatchNorm2d(512, eps=1e-05, momentum=0.1, affine=True, track_running_stats=True)\n",
            "      (leakyrelu): LeakyReLU(negative_slope=0.1)\n",
            "    )\n",
            "    (11): CNNBlock(\n",
            "      (conv): Conv2d(512, 256, kernel_size=(1, 1), stride=(1, 1), bias=False)\n",
            "      (batchnorm): BatchNorm2d(256, eps=1e-05, momentum=0.1, affine=True, track_running_stats=True)\n",
            "      (leakyrelu): LeakyReLU(negative_slope=0.1)\n",
            "    )\n",
            "    (12): CNNBlock(\n",
            "      (conv): Conv2d(256, 512, kernel_size=(3, 3), stride=(1, 1), padding=(1, 1), bias=False)\n",
            "      (batchnorm): BatchNorm2d(512, eps=1e-05, momentum=0.1, affine=True, track_running_stats=True)\n",
            "      (leakyrelu): LeakyReLU(negative_slope=0.1)\n",
            "    )\n",
            "    (13): CNNBlock(\n",
            "      (conv): Conv2d(512, 256, kernel_size=(1, 1), stride=(1, 1), bias=False)\n",
            "      (batchnorm): BatchNorm2d(256, eps=1e-05, momentum=0.1, affine=True, track_running_stats=True)\n",
            "      (leakyrelu): LeakyReLU(negative_slope=0.1)\n",
            "    )\n",
            "    (14): CNNBlock(\n",
            "      (conv): Conv2d(256, 512, kernel_size=(3, 3), stride=(1, 1), padding=(1, 1), bias=False)\n",
            "      (batchnorm): BatchNorm2d(512, eps=1e-05, momentum=0.1, affine=True, track_running_stats=True)\n",
            "      (leakyrelu): LeakyReLU(negative_slope=0.1)\n",
            "    )\n",
            "    (15): CNNBlock(\n",
            "      (conv): Conv2d(512, 256, kernel_size=(1, 1), stride=(1, 1), bias=False)\n",
            "      (batchnorm): BatchNorm2d(256, eps=1e-05, momentum=0.1, affine=True, track_running_stats=True)\n",
            "      (leakyrelu): LeakyReLU(negative_slope=0.1)\n",
            "    )\n",
            "    (16): CNNBlock(\n",
            "      (conv): Conv2d(256, 512, kernel_size=(3, 3), stride=(1, 1), padding=(1, 1), bias=False)\n",
            "      (batchnorm): BatchNorm2d(512, eps=1e-05, momentum=0.1, affine=True, track_running_stats=True)\n",
            "      (leakyrelu): LeakyReLU(negative_slope=0.1)\n",
            "    )\n",
            "    (17): CNNBlock(\n",
            "      (conv): Conv2d(512, 512, kernel_size=(1, 1), stride=(1, 1), bias=False)\n",
            "      (batchnorm): BatchNorm2d(512, eps=1e-05, momentum=0.1, affine=True, track_running_stats=True)\n",
            "      (leakyrelu): LeakyReLU(negative_slope=0.1)\n",
            "    )\n",
            "    (18): CNNBlock(\n",
            "      (conv): Conv2d(512, 1024, kernel_size=(3, 3), stride=(1, 1), padding=(1, 1), bias=False)\n",
            "      (batchnorm): BatchNorm2d(1024, eps=1e-05, momentum=0.1, affine=True, track_running_stats=True)\n",
            "      (leakyrelu): LeakyReLU(negative_slope=0.1)\n",
            "    )\n",
            "    (19): MaxPool2d(kernel_size=(2, 2), stride=(2, 2), padding=0, dilation=1, ceil_mode=False)\n",
            "    (20): CNNBlock(\n",
            "      (conv): Conv2d(1024, 512, kernel_size=(1, 1), stride=(1, 1), bias=False)\n",
            "      (batchnorm): BatchNorm2d(512, eps=1e-05, momentum=0.1, affine=True, track_running_stats=True)\n",
            "      (leakyrelu): LeakyReLU(negative_slope=0.1)\n",
            "    )\n",
            "    (21): CNNBlock(\n",
            "      (conv): Conv2d(512, 1024, kernel_size=(3, 3), stride=(1, 1), padding=(1, 1), bias=False)\n",
            "      (batchnorm): BatchNorm2d(1024, eps=1e-05, momentum=0.1, affine=True, track_running_stats=True)\n",
            "      (leakyrelu): LeakyReLU(negative_slope=0.1)\n",
            "    )\n",
            "    (22): CNNBlock(\n",
            "      (conv): Conv2d(1024, 512, kernel_size=(1, 1), stride=(1, 1), bias=False)\n",
            "      (batchnorm): BatchNorm2d(512, eps=1e-05, momentum=0.1, affine=True, track_running_stats=True)\n",
            "      (leakyrelu): LeakyReLU(negative_slope=0.1)\n",
            "    )\n",
            "    (23): CNNBlock(\n",
            "      (conv): Conv2d(512, 1024, kernel_size=(3, 3), stride=(1, 1), padding=(1, 1), bias=False)\n",
            "      (batchnorm): BatchNorm2d(1024, eps=1e-05, momentum=0.1, affine=True, track_running_stats=True)\n",
            "      (leakyrelu): LeakyReLU(negative_slope=0.1)\n",
            "    )\n",
            "    (24): CNNBlock(\n",
            "      (conv): Conv2d(1024, 1024, kernel_size=(3, 3), stride=(1, 1), padding=(1, 1), bias=False)\n",
            "      (batchnorm): BatchNorm2d(1024, eps=1e-05, momentum=0.1, affine=True, track_running_stats=True)\n",
            "      (leakyrelu): LeakyReLU(negative_slope=0.1)\n",
            "    )\n",
            "    (25): CNNBlock(\n",
            "      (conv): Conv2d(1024, 1024, kernel_size=(3, 3), stride=(2, 2), padding=(1, 1), bias=False)\n",
            "      (batchnorm): BatchNorm2d(1024, eps=1e-05, momentum=0.1, affine=True, track_running_stats=True)\n",
            "      (leakyrelu): LeakyReLU(negative_slope=0.1)\n",
            "    )\n",
            "    (26): CNNBlock(\n",
            "      (conv): Conv2d(1024, 1024, kernel_size=(3, 3), stride=(1, 1), padding=(1, 1), bias=False)\n",
            "      (batchnorm): BatchNorm2d(1024, eps=1e-05, momentum=0.1, affine=True, track_running_stats=True)\n",
            "      (leakyrelu): LeakyReLU(negative_slope=0.1)\n",
            "    )\n",
            "    (27): CNNBlock(\n",
            "      (conv): Conv2d(1024, 1024, kernel_size=(3, 3), stride=(1, 1), padding=(1, 1), bias=False)\n",
            "      (batchnorm): BatchNorm2d(1024, eps=1e-05, momentum=0.1, affine=True, track_running_stats=True)\n",
            "      (leakyrelu): LeakyReLU(negative_slope=0.1)\n",
            "    )\n",
            "  )\n",
            "  (fcs): Sequential(\n",
            "    (0): Flatten(start_dim=1, end_dim=-1)\n",
            "    (1): Linear(in_features=50176, out_features=496, bias=True)\n",
            "    (2): Dropout(p=0.0, inplace=False)\n",
            "    (3): LeakyReLU(negative_slope=0.1)\n",
            "    (4): Linear(in_features=496, out_features=490, bias=True)\n",
            "  )\n",
            ")\n",
            "torch.Size([5, 10, 7, 7])\n"
          ]
        }
      ]
    },
    {
      "cell_type": "markdown",
      "metadata": {
        "id": "dqqeoCk7pHcj"
      },
      "source": [
        "# training"
      ]
    },
    {
      "cell_type": "code",
      "metadata": {
        "id": "w_uVbiRd0vCC"
      },
      "source": [
        "import torch\n",
        "from torch.utils.data import DataLoader\n",
        "import cv2"
      ],
      "execution_count": 8,
      "outputs": []
    },
    {
      "cell_type": "code",
      "metadata": {
        "id": "vUTzRM82e2Hs"
      },
      "source": [
        "import os\n",
        "epoch = 60\n",
        "batchsize = 32\n",
        "dataset = mask_data_set(is_train=True)\n",
        "train_dataloader = DataLoader(dataset, batchsize, shuffle = True)"
      ],
      "execution_count": 6,
      "outputs": []
    },
    {
      "cell_type": "code",
      "metadata": {
        "id": "TwF3fn0mpHJf"
      },
      "source": [
        "model = Yolov1(split_size=7, num_boxes=2, num_classes=0).cuda()\n",
        "criterion = yolov1_Loss()\n",
        "training_loss = np.zeros(epoch)\n",
        "saved_model_path = \"/content/saved_models\"\n",
        "if not os.path.exists(saved_model_path):\n",
        "  os.mkdir(\"/content/saved_models\")\n",
        "optimizer = torch.optim.Adam(model.parameters(), lr=2e-4, weight_decay=0)\n",
        "for e in range(epoch):\n",
        "    model.train()\n",
        "    for i, (inputs, labels) in enumerate(train_dataloader):\n",
        "        inputs = inputs.float().cuda()\n",
        "        labels = labels.float().cuda()\n",
        "        pred = model(inputs)\n",
        "        # print(pred.shape, labels.shape)\n",
        "        loss = criterion(pred, labels)\n",
        "        optimizer.zero_grad()\n",
        "        loss.backward()\n",
        "        optimizer.step()\n",
        "        print(\"----------------------------------------------------------------------------------------------\")\n",
        "        print(\"Epoch %d/%d| Step %d/%d| Loss: %.2f\" % (e+1, epoch, i, len(dataset) // batchsize, loss))\n",
        "        print(\"----------------------------------------------------------------------------------------------\")\n",
        "    training_loss[e] = loss\n",
        "    if (e + 1) % 20 == 0:\n",
        "      torch.save(model, \"./saved_models/YOLOv1_epoch\" + str(e + 1) + \".pkl\")"
      ],
      "execution_count": null,
      "outputs": []
    },
    {
      "cell_type": "code",
      "metadata": {
        "id": "E_ro6B2jDHHj"
      },
      "source": [
        ""
      ],
      "execution_count": null,
      "outputs": []
    },
    {
      "cell_type": "markdown",
      "metadata": {
        "id": "vjXyaGPn3RlE"
      },
      "source": [
        "## the training error in different epochs."
      ]
    },
    {
      "cell_type": "code",
      "metadata": {
        "colab": {
          "base_uri": "https://localhost:8080/",
          "height": 313
        },
        "id": "T7DVQGPnu_hf",
        "outputId": "042f7a3b-8759-4363-fbb4-ebbc4059cda7"
      },
      "source": [
        "import matplotlib.pyplot as plt\n",
        "x = range(0,60)\n",
        "plt.plot(x, training_loss)\n",
        "plt.title(\"training_error\")\n",
        "plt.xlabel(\"epochs\")\n",
        "plt.ylabel(\"error\")"
      ],
      "execution_count": 13,
      "outputs": [
        {
          "output_type": "execute_result",
          "data": {
            "text/plain": [
              "Text(0, 0.5, 'error')"
            ]
          },
          "metadata": {},
          "execution_count": 13
        },
        {
          "output_type": "display_data",
          "data": {
            "image/png": "[encoded data removed]",
            "text/plain": [
              "<Figure size 432x288 with 1 Axes>"
            ]
          },
          "metadata": {
            "needs_background": "light"
          }
        }
      ]
    },
    {
      "cell_type": "markdown",
      "metadata": {
        "id": "zKeoEC2HwfDq"
      },
      "source": [
        "# evaluation"
      ]
    },
    {
      "cell_type": "code",
      "metadata": {
        "id": "XS1sFBz11pQN"
      },
      "source": [
        "import torch\n",
        "from torch.utils.data import DataLoader"
      ],
      "execution_count": 14,
      "outputs": []
    },
    {
      "cell_type": "code",
      "metadata": {
        "id": "rSaHUgSQwUHD"
      },
      "source": [
        "batchsize = 1\n",
        "dataset = mask_data_set(is_train=False)\n",
        "val_dataloader = DataLoader(dataset, batch_size=batchsize, shuffle=True)"
      ],
      "execution_count": 15,
      "outputs": []
    },
    {
      "cell_type": "code",
      "metadata": {
        "id": "fQUnLgRqzC66"
      },
      "source": [
        "model = torch.load(\"/content/saved_models/YOLOv1_epoch60.pkl\")"
      ],
      "execution_count": 28,
      "outputs": []
    },
    {
      "cell_type": "markdown",
      "metadata": {
        "id": "MZbith8S2fti"
      },
      "source": [
        "from the evaluation, we can see the loss is obviously higher than training loss, which means it endures overfitting. However, we can see for each bounding box the model predited, the class is correctly predicted and the coordinates predicted are very similar to the ground truth coordinates, which is not bad."
      ]
    },
    {
      "cell_type": "code",
      "metadata": {
        "id": "07kGScjOqqAD"
      },
      "source": [
        "criterion = yolov1_Loss()"
      ],
      "execution_count": 25,
      "outputs": []
    },
    {
      "cell_type": "code",
      "metadata": {
        "id": "fvwb_coFrHg-"
      },
      "source": [
        "loss = np.zeros(dataset.__len__())"
      ],
      "execution_count": 24,
      "outputs": []
    },
    {
      "cell_type": "code",
      "metadata": {
        "colab": {
          "base_uri": "https://localhost:8080/"
        },
        "id": "_-yuPLAFw26r",
        "outputId": "5c2b05c6-a48f-4d43-8e32-f865d724d95b"
      },
      "source": [
        "for i, (inputs, labels) in enumerate(val_dataloader):\n",
        "  inputs = inputs.float().cuda()\n",
        "  labels = labels.float().cuda()\n",
        "  pred = model(inputs)\n",
        "  l = criterion(pred, labels)\n",
        "  loss[i] = l"
      ],
      "execution_count": 29,
      "outputs": [
        {
          "output_type": "stream",
          "name": "stderr",
          "text": [
            "/usr/local/lib/python3.7/dist-packages/torch/nn/modules/loss.py:520: UserWarning: Using a target size (torch.Size([])) that is different to the input size (torch.Size([1])). This will likely lead to incorrect results due to broadcasting. Please ensure they have the same size.\n",
            "  return F.mse_loss(input, target, reduction=self.reduction)\n"
          ]
        },
        {
          "output_type": "stream",
          "name": "stdout",
          "text": [
            "current_pred:   tensor([ 2.0837e+02,  1.2740e+02, -2.3057e+02,  1.7786e+02,  1.4271e-01,\n",
            "         2.1748e+02,  1.0784e+02,  9.1526e+01,  1.0684e+02,  1.0874e+02],\n",
            "       device='cuda:0', grad_fn=<SelectBackward0>)\n",
            "current_label:  tensor([213.5000,  98.5000, 107.0000, 125.0000,   1.0000], device='cuda:0')\n",
            "current_pred:   tensor([ 233.3297,  127.5320,  159.2483,  182.9608,    6.2893,  233.9528,\n",
            "         160.1211, -173.7406,  196.9354,   -1.0422], device='cuda:0',\n",
            "       grad_fn=<SelectBackward0>)\n",
            "current_label:  tensor([236., 128., 176., 254.,   1.], device='cuda:0')\n",
            "current_pred:   tensor([ 2.0650e+02,  1.2607e+02, -2.2740e+02,  1.7520e+02,  2.0029e-01,\n",
            "         2.1214e+02,  1.0406e+02,  8.9697e+01,  1.0345e+02,  1.0869e+02],\n",
            "       device='cuda:0', grad_fn=<SelectBackward0>)\n",
            "current_label:  tensor([205.5000,  98.5000,  47.0000,  79.0000,   1.0000], device='cuda:0')\n",
            "current_pred:   tensor([ 227.9583,  242.1302,  169.1168,  232.4271,   99.4785,  222.9796,\n",
            "         217.3134, -214.7829,  244.7021,   -1.2781], device='cuda:0',\n",
            "       grad_fn=<SelectBackward0>)\n",
            "current_label:  tensor([217.5000, 253.5000, 199.0000, 273.0000,   1.0000], device='cuda:0')\n",
            "current_pred:   tensor([ 172.4906,  134.8862,   91.9809,  107.9379,  103.8608,  182.5915,\n",
            "         143.4298, -159.4972,  197.4257,    1.8684], device='cuda:0',\n",
            "       grad_fn=<SelectBackward0>)\n",
            "current_label:  tensor([178.5000, 141.0000,  41.0000,  64.0000,   1.0000], device='cuda:0')\n",
            "current_pred:   tensor([ 362.0317,   98.6683,   76.3300, -100.2223,  110.5971,  134.8239,\n",
            "          96.0111, -105.1351,  -87.8233,    1.2379], device='cuda:0',\n",
            "       grad_fn=<SelectBackward0>)\n",
            "current_label:  tensor([377.,  93.,  38.,  60.,   1.], device='cuda:0')\n",
            "current_pred:   tensor([ 2.0935e+02,  2.5019e+02,  1.7680e+02,  2.2621e+02, -9.0066e-01,\n",
            "         1.9958e+02,  1.9827e+02, -2.0268e+02,  2.1815e+02,  1.2025e-01],\n",
            "       device='cuda:0', grad_fn=<SelectBackward0>)\n",
            "current_label:  tensor([197.0000, 234.5000, 234.0000, 327.0000,   1.0000], device='cuda:0')\n",
            "current_pred:   tensor([ 197.1970,  323.1115, -206.8400,  245.2254,   -1.0785,  211.2319,\n",
            "         267.1417,   95.5071, -152.8491,  102.9049], device='cuda:0',\n",
            "       grad_fn=<SelectBackward0>)\n",
            "current_label:  tensor([228.5000, 271.5000,  91.0000, 181.0000,   1.0000], device='cuda:0')\n",
            "current_pred:   tensor([ 3.5278e+02,  1.5769e+02, -5.0285e+01, -9.4478e+01,  8.5304e+01,\n",
            "        -3.1889e+01, -3.7292e+01,  1.0813e+02, -3.1959e+01,  7.8910e-02],\n",
            "       device='cuda:0', grad_fn=<SelectBackward0>)\n",
            "current_label:  tensor([377.5000, 164.5000,  39.0000,  91.0000,   1.0000], device='cuda:0')\n",
            "current_pred:   tensor([ 106.1522,  108.7293,   54.2201,   65.7949,  115.3499,  123.7299,\n",
            "         143.3074, -196.7386,  131.9068,    0.2578], device='cuda:0',\n",
            "       grad_fn=<SelectBackward0>)\n",
            "current_label:  tensor([104.5000,  98.0000,  47.0000,  84.0000,   1.0000], device='cuda:0')\n",
            "current_pred:   tensor([394.1935, 151.3318,  29.5193,  50.7193,  14.7482, 374.7137, 152.8899,\n",
            "        -86.1350, 118.0295,   1.6862], device='cuda:0',\n",
            "       grad_fn=<SelectBackward0>)\n",
            "current_label:  tensor([399.0000, 191.5000,  56.0000, 143.0000,   1.0000], device='cuda:0')\n",
            "current_pred:   tensor([ 244.1586,  200.2334,  163.2261,  222.5203,   90.4841,  221.6622,\n",
            "         197.9963, -212.5666,  253.9027,   -0.4606], device='cuda:0',\n",
            "       grad_fn=<SelectBackward0>)\n",
            "current_label:  tensor([252.5000, 201.5000, 157.0000, 255.0000,   1.0000], device='cuda:0')\n",
            "current_pred:   tensor([ 215.9770,  128.3235, -215.4737,  156.0844,    1.9455,  234.6224,\n",
            "          86.7472,   75.9696,   89.3449,   28.3092], device='cuda:0',\n",
            "       grad_fn=<SelectBackward0>)\n",
            "current_label:  tensor([220.0000,  87.5000, 118.0000, 155.0000,   1.0000], device='cuda:0')\n",
            "current_pred:   tensor([ 2.7068e+02,  1.1376e+02, -1.2033e+02,  1.2549e+02,  2.0964e-01,\n",
            "         2.7305e+02,  1.2158e+02,  5.2548e+01,  1.0564e+02,  1.1109e+02],\n",
            "       device='cuda:0', grad_fn=<SelectBackward0>)\n",
            "current_label:  tensor([268.5000, 122.0000,  41.0000,  46.0000,   1.0000], device='cuda:0')\n",
            "current_pred:   tensor([ 210.2594,  126.2468, -230.4847,  177.2449,    0.3128,  226.5144,\n",
            "         108.1016,   88.3883,  107.6333,  105.9851], device='cuda:0',\n",
            "       grad_fn=<SelectBackward0>)\n",
            "current_label:  tensor([223.5000, 110.0000,  61.0000, 128.0000,   1.0000], device='cuda:0')\n",
            "current_pred:   tensor([ 209.0618,  125.2577, -231.3786,  178.5108,    0.4036,  235.5051,\n",
            "         113.0605,   92.7318,  116.6550,  109.0467], device='cuda:0',\n",
            "       grad_fn=<SelectBackward0>)\n",
            "current_label:  tensor([230., 120.,  46.,  56.,   1.], device='cuda:0')\n",
            "current_pred:   tensor([ 3.3421e+02,  1.6597e+02, -8.4341e+01, -1.3856e+02,  9.8176e+01,\n",
            "        -1.3530e+01, -3.8530e+01,  1.1264e+02, -3.3275e+01,  2.0445e-01],\n",
            "       device='cuda:0', grad_fn=<SelectBackward0>)\n",
            "current_label:  tensor([327., 166., 108., 160.,   1.], device='cuda:0')\n",
            "current_pred:   tensor([259.3444, 132.9410,  92.2654, -96.0252, -13.3442, 280.3762, 142.9090,\n",
            "        131.5018, 172.3904,   9.5537], device='cuda:0',\n",
            "       grad_fn=<SelectBackward0>)\n",
            "current_label:  tensor([266.5000, 146.0000,  99.0000,  88.0000,   1.0000], device='cuda:0')\n",
            "current_pred:   tensor([ 252.5014,  168.1943,  120.5421, -155.5636,   23.5683,  282.5779,\n",
            "         145.8255,  153.2573,  168.3219,   33.8364], device='cuda:0',\n",
            "       grad_fn=<SelectBackward0>)\n",
            "current_label:  tensor([257.5000, 191.0000,  99.0000, 186.0000,   1.0000], device='cuda:0')\n",
            "current_pred:   tensor([ 278.0149,  107.5449, -128.3312,  116.3193,    1.6576,  279.7662,\n",
            "         117.8377,   31.6814,   99.4924,   23.9368], device='cuda:0',\n",
            "       grad_fn=<SelectBackward0>)\n",
            "current_label:  tensor([280.5000, 107.5000,  47.0000,  97.0000,   1.0000], device='cuda:0')\n",
            "current_pred:   tensor([274.9346, 212.5297, 140.5916, 201.3487,  95.6253, 295.2964, 198.1196,\n",
            "         16.2927,   2.9126,   4.7554], device='cuda:0',\n",
            "       grad_fn=<SelectBackward0>)\n",
            "current_label:  tensor([270., 212.,  94., 218.,   1.], device='cuda:0')\n",
            "current_pred:   tensor([ 4.0127e+02,  1.4338e+02,  2.5218e+01,  5.8820e+01,  5.7124e-02,\n",
            "         3.9194e+02,  1.4685e+02, -7.0654e+01,  1.0636e+02, -7.2534e-01],\n",
            "       device='cuda:0', grad_fn=<SelectBackward0>)\n",
            "current_label:  tensor([421.5000, 165.0000,  13.0000,  30.0000,   1.0000], device='cuda:0')\n",
            "current_pred:   tensor([ 2.0965e+02,  1.2774e+02, -2.2340e+02,  1.7199e+02,  3.4997e-02,\n",
            "         2.3112e+02,  7.1106e+01,  7.2776e+01,  7.9990e+01,  1.1138e+02],\n",
            "       device='cuda:0', grad_fn=<SelectBackward0>)\n",
            "current_label:  tensor([230.0000,  68.5000,  48.0000,  53.0000,   1.0000], device='cuda:0')\n",
            "current_pred:   tensor([ 219.4110,  214.6501,  160.6199,  224.1561,  104.2487,  219.4379,\n",
            "         209.9776, -216.0304,  249.4259,   -1.1700], device='cuda:0',\n",
            "       grad_fn=<SelectBackward0>)\n",
            "current_label:  tensor([213.0000, 221.5000, 226.0000, 301.0000,   1.0000], device='cuda:0')\n",
            "current_pred:   tensor([ 313.0015,  308.5858,   86.9926,  128.2167,   93.0977,  258.5947,\n",
            "         278.7057, -132.3755,  160.5087,    3.6601], device='cuda:0',\n",
            "       grad_fn=<SelectBackward0>)\n",
            "current_label:  tensor([316.5000, 294.5000, 133.0000, 235.0000,   1.0000], device='cuda:0')\n",
            "current_pred:   tensor([ 263.5851,  128.1857,   96.3949, -105.3673,   34.9199,  280.6548,\n",
            "         129.3511,  139.5628,  176.3093,   41.5850], device='cuda:0',\n",
            "       grad_fn=<SelectBackward0>)\n",
            "current_label:  tensor([276.5000, 143.0000,  37.0000,  74.0000,   1.0000], device='cuda:0')\n",
            "current_pred:   tensor([ 224.5138,  142.5732,  151.4341,  181.1181,  114.7083,  232.0926,\n",
            "         170.7349, -195.9573,  231.3830,   -0.8398], device='cuda:0',\n",
            "       grad_fn=<SelectBackward0>)\n",
            "current_label:  tensor([226.5000, 150.5000, 187.0000, 181.0000,   1.0000], device='cuda:0')\n",
            "current_pred:   tensor([ 219.0325,  210.2399,  187.6365,  234.1302,   -5.2377,  204.0734,\n",
            "         202.7113, -229.4246,  237.9312,   -2.6947], device='cuda:0',\n",
            "       grad_fn=<SelectBackward0>)\n",
            "current_label:  tensor([215.0000, 200.5000, 268.0000, 399.0000,   1.0000], device='cuda:0')\n",
            "current_pred:   tensor([ 198.3556,  311.1642, -211.2759,  240.3984,   -0.3400,  198.4091,\n",
            "         296.2903,  104.8199, -171.3391,   84.1184], device='cuda:0',\n",
            "       grad_fn=<SelectBackward0>)\n",
            "current_label:  tensor([209.0000, 318.5000, 192.0000, 221.0000,   1.0000], device='cuda:0')\n",
            "current_pred:   tensor([441.3957, 288.1758, -62.1382,  77.3926,  -0.9070, 409.8422, 274.2750,\n",
            "         22.0015, -28.6724,  -1.6660], device='cuda:0',\n",
            "       grad_fn=<SelectBackward0>)\n",
            "current_label:  tensor([425.5000, 256.5000,   5.0000,  11.0000,   1.0000], device='cuda:0')\n",
            "current_pred:   tensor([401.4857, 108.0943, -46.2992,  72.2971,  -1.7676, 423.6746,  96.9712,\n",
            "         21.0680,  50.7529,   7.0211], device='cuda:0',\n",
            "       grad_fn=<SelectBackward0>)\n",
            "current_label:  tensor([435.5000,  98.0000,  27.0000,  28.0000,   1.0000], device='cuda:0')\n",
            "current_pred:   tensor([ 215.2117,  210.7355,  147.3472,  210.2043,   99.5810,  217.7878,\n",
            "         209.0025, -218.2703,  247.9950,   -2.1036], device='cuda:0',\n",
            "       grad_fn=<SelectBackward0>)\n",
            "current_label:  tensor([217.5000, 214.5000, 161.0000, 197.0000,   1.0000], device='cuda:0')\n",
            "current_pred:   tensor([ 232.0963,  240.2759,  154.7460,  218.7639,   99.3580,  224.1765,\n",
            "         218.1740, -210.4712,  242.7803,   -2.4826], device='cuda:0',\n",
            "       grad_fn=<SelectBackward0>)\n",
            "current_label:  tensor([229.5000, 237.0000, 113.0000, 196.0000,   1.0000], device='cuda:0')\n",
            "current_pred:   tensor([353.3413, 210.2482,  56.9016, -88.0201,   2.5749, -49.2973,  19.6156,\n",
            "         18.1043,  18.3235,   0.5114], device='cuda:0',\n",
            "       grad_fn=<SelectBackward0>)\n",
            "current_label:  tensor([360.5000, 236.5000,  25.0000,  49.0000,   1.0000], device='cuda:0')\n",
            "current_pred:   tensor([ 1.9515e+02,  3.1609e+02, -2.1703e+02,  2.3450e+02,  2.8044e-01,\n",
            "         2.1120e+02,  2.6059e+02,  1.2885e+02, -2.0110e+02,  7.4553e-01],\n",
            "       device='cuda:0', grad_fn=<SelectBackward0>)\n",
            "current_label:  tensor([227.5000, 257.5000, 143.0000, 281.0000,   1.0000], device='cuda:0')\n",
            "current_pred:   tensor([ 324.6817,  168.7088,  -81.7138, -132.4236,   87.9395,  -13.8721,\n",
            "         -42.4753,  112.9568,  -33.4217,    1.2296], device='cuda:0',\n",
            "       grad_fn=<SelectBackward0>)\n",
            "current_label:  tensor([325., 178., 160., 200.,   1.], device='cuda:0')\n",
            "current_pred:   tensor([ 3.5132e+02,  1.7579e+02, -6.3855e+01, -1.0883e+02,  7.6565e+01,\n",
            "        -1.6227e+01, -3.2716e+01,  1.0530e+02, -3.2799e+01,  2.3577e-01],\n",
            "       device='cuda:0', grad_fn=<SelectBackward0>)\n",
            "current_label:  tensor([350.0000, 190.5000,  54.0000, 125.0000,   1.0000], device='cuda:0')\n",
            "current_pred:   tensor([ 346.2457,  136.8507,  -45.0622, -101.4633,   84.6555,   -8.1746,\n",
            "         -48.1238,  107.0322,  -31.1917,   -0.3888], device='cuda:0',\n",
            "       grad_fn=<SelectBackward0>)\n",
            "current_label:  tensor([358.5000, 137.5000,  35.0000,  83.0000,   1.0000], device='cuda:0')\n",
            "current_pred:   tensor([ 352.7143,  350.3184,   51.1731,   66.5169,   46.6231,  153.2810,\n",
            "         120.4626,   64.0486, -149.5530,    1.7956], device='cuda:0',\n",
            "       grad_fn=<SelectBackward0>)\n",
            "current_label:  tensor([353.5000, 353.0000,  83.0000, 100.0000,   1.0000], device='cuda:0')\n",
            "current_pred:   tensor([ 205.0477,  245.1049,  172.0036,  230.7243,   63.6436,  210.2597,\n",
            "         209.7139, -213.9447,  234.4359,   -0.6134], device='cuda:0',\n",
            "       grad_fn=<SelectBackward0>)\n",
            "current_label:  tensor([202., 235., 148., 248.,   1.], device='cuda:0')\n",
            "current_pred:   tensor([ 332.2625,  111.6868,   74.3033, -102.2105,   90.3285,  139.8795,\n",
            "         102.7977, -107.9600,  -88.5573,    2.0031], device='cuda:0',\n",
            "       grad_fn=<SelectBackward0>)\n",
            "current_label:  tensor([325., 120.,  58., 136.,   1.], device='cuda:0')\n",
            "current_pred:   tensor([ 175.6784,  156.4200,  123.2785,  150.8085,  106.2799,  183.3160,\n",
            "         158.5045, -168.5099,  212.5336,    1.4589], device='cuda:0',\n",
            "       grad_fn=<SelectBackward0>)\n",
            "current_label:  tensor([177., 156., 134., 160.,   1.], device='cuda:0')\n",
            "current_pred:   tensor([ 260.6096,  157.7158,  131.6605,  166.7582,   17.2693,  238.9774,\n",
            "         174.9363, -172.2758,  205.9312,    1.0411], device='cuda:0',\n",
            "       grad_fn=<SelectBackward0>)\n",
            "current_label:  tensor([225.0000, 151.5000,  94.0000, 157.0000,   1.0000], device='cuda:0')\n",
            "current_pred:   tensor([ 215.0671,  127.9384, -216.2636,  165.7385,    0.2624,  238.7896,\n",
            "          73.9294,   68.9046,   82.6932,  107.3400], device='cuda:0',\n",
            "       grad_fn=<SelectBackward0>)\n",
            "current_label:  tensor([227.,  68.,  52.,  52.,   1.], device='cuda:0')\n",
            "current_pred:   tensor([ 362.3454,  342.8309,   32.2914,   56.4081,    1.8559,  145.7370,\n",
            "         120.0406,   75.8125, -153.7405,   -1.2990], device='cuda:0',\n",
            "       grad_fn=<SelectBackward0>)\n",
            "current_label:  tensor([325.5000, 331.0000,  81.0000, 120.0000,   1.0000], device='cuda:0')\n",
            "current_pred:   tensor([ 2.4272e+02,  2.2083e+02,  1.7609e+02,  2.3480e+02,  1.0433e+02,\n",
            "         2.2658e+02,  2.1125e+02, -2.1348e+02,  2.5195e+02, -2.3041e-01],\n",
            "       device='cuda:0', grad_fn=<SelectBackward0>)\n",
            "current_label:  tensor([243.0000, 235.5000, 300.0000, 419.0000,   1.0000], device='cuda:0')\n",
            "current_pred:   tensor([ 250.7117,  233.5374,  171.2267,  233.5707,   97.2902,  228.6254,\n",
            "         215.6389, -210.2613,  248.7280,   -0.6403], device='cuda:0',\n",
            "       grad_fn=<SelectBackward0>)\n",
            "current_label:  tensor([247.5000, 240.5000, 187.0000, 297.0000,   1.0000], device='cuda:0')\n",
            "current_pred:   tensor([ 251.4964,  132.3572,  110.9965, -132.5012,   41.8145,  281.7710,\n",
            "         132.3943,  141.8665,  174.9781,   45.8262], device='cuda:0',\n",
            "       grad_fn=<SelectBackward0>)\n",
            "current_label:  tensor([260.0000, 139.5000, 130.0000, 149.0000,   1.0000], device='cuda:0')\n",
            "current_pred:   tensor([170.8751,  46.3063,  42.9478,  54.9379,  78.1310, 174.1069,  49.1232,\n",
            "         33.6495, -29.4437,   9.6051], device='cuda:0',\n",
            "       grad_fn=<SelectBackward0>)\n",
            "current_label:  tensor([153.5000,  39.5000,  37.0000,  51.0000,   1.0000], device='cuda:0')\n",
            "current_pred:   tensor([265.0926, 241.5462, 155.9598, 212.6198,  90.8183, 290.6766, 208.0207,\n",
            "         14.9400,   2.1745,   4.1584], device='cuda:0',\n",
            "       grad_fn=<SelectBackward0>)\n",
            "current_label:  tensor([267.5000, 238.5000, 101.0000, 115.0000,   1.0000], device='cuda:0')\n",
            "current_pred:   tensor([ 357.6793,  165.6756,  -76.6579, -132.6453,  106.2603,  -18.1658,\n",
            "         -37.7020,  108.8135,  -34.0062,   -0.8855], device='cuda:0',\n",
            "       grad_fn=<SelectBackward0>)\n",
            "current_label:  tensor([370.5000, 185.0000,  95.0000, 152.0000,   1.0000], device='cuda:0')\n",
            "current_pred:   tensor([ 213.1335,  202.7101,   89.5434,  143.2659,    8.7133,  200.8000,\n",
            "         189.0287, -200.3203,  222.8712,   -0.3189], device='cuda:0',\n",
            "       grad_fn=<SelectBackward0>)\n",
            "current_label:  tensor([203.0000, 211.5000, 206.0000, 239.0000,   1.0000], device='cuda:0')\n",
            "current_pred:   tensor([298.3015, 210.4170, 137.1121, 198.8516,  98.5767, 305.1580, 198.3345,\n",
            "         18.6451,   1.2039,   6.7475], device='cuda:0',\n",
            "       grad_fn=<SelectBackward0>)\n",
            "current_label:  tensor([283., 209., 156., 120.,   1.], device='cuda:0')\n",
            "current_pred:   tensor([ 289.8737,  101.8681, -128.6170,  125.2337,    0.8238,  284.0122,\n",
            "         101.1899,   44.4648,  100.9649,   22.5564], device='cuda:0',\n",
            "       grad_fn=<SelectBackward0>)\n",
            "current_label:  tensor([282.5000,  91.0000, 267.0000, 180.0000,   1.0000], device='cuda:0')\n",
            "current_pred:   tensor([ 207.2619,  298.4937, -212.9494,  224.6459,    1.1083,  215.0325,\n",
            "         283.6962,  106.4388, -177.7188,   72.9226], device='cuda:0',\n",
            "       grad_fn=<SelectBackward0>)\n",
            "current_label:  tensor([224.0000, 316.5000, 122.0000, 123.0000,   1.0000], device='cuda:0')\n",
            "current_pred:   tensor([ 239.8442,  182.4289,  169.5760,  220.9702,   23.4121,  226.7802,\n",
            "         164.8343, -189.0190,  217.7545,    0.5129], device='cuda:0',\n",
            "       grad_fn=<SelectBackward0>)\n",
            "current_label:  tensor([246.5000, 178.5000, 177.0000, 217.0000,   1.0000], device='cuda:0')\n",
            "current_pred:   tensor([281.0758, 203.9059,  88.9602, 134.0007,  31.4802, 300.3839, 207.0800,\n",
            "         20.1141,  -6.0923,   2.3570], device='cuda:0',\n",
            "       grad_fn=<SelectBackward0>)\n",
            "current_label:  tensor([316., 227.,  54.,  96.,   1.], device='cuda:0')\n",
            "current_pred:   tensor([262.9579,  46.3203, -32.3777, 111.7330,  -0.9972, 282.2996,  36.1720,\n",
            "        -36.6597, -48.0990,  79.8111], device='cuda:0',\n",
            "       grad_fn=<SelectBackward0>)\n",
            "current_label:  tensor([310.0000,  49.5000,  40.0000,  53.0000,   1.0000], device='cuda:0')\n",
            "current_pred:   tensor([ 245.5768,  193.3140,  166.7406,  217.6419,   75.5586,  223.9963,\n",
            "         203.9456, -219.8590,  253.0767,   -0.8679], device='cuda:0',\n",
            "       grad_fn=<SelectBackward0>)\n",
            "current_label:  tensor([240.5000, 209.5000,  71.0000, 123.0000,   1.0000], device='cuda:0')\n",
            "current_pred:   tensor([ 177.0946,  135.2556,  117.2948,  139.2118,  101.9597,  185.5098,\n",
            "         153.8044, -164.1702,  206.2654,    1.8868], device='cuda:0',\n",
            "       grad_fn=<SelectBackward0>)\n",
            "current_label:  tensor([190.0000, 142.5000,  78.0000, 115.0000,   1.0000], device='cuda:0')\n",
            "current_pred:   tensor([ 358.7999,  117.8424,   77.9931, -104.8844,  103.3109,  137.3156,\n",
            "          95.3565, -102.6411,  -88.8600,    1.5111], device='cuda:0',\n",
            "       grad_fn=<SelectBackward0>)\n",
            "current_label:  tensor([352.5000, 113.5000,  41.0000,  43.0000,   1.0000], device='cuda:0')\n",
            "current_pred:   tensor([ 245.2335,  226.4857,  157.8938,  219.8188,  101.5508,  226.6828,\n",
            "         214.6673, -209.1265,  247.2991,   -1.9291], device='cuda:0',\n",
            "       grad_fn=<SelectBackward0>)\n",
            "current_label:  tensor([245., 227., 178., 240.,   1.], device='cuda:0')\n",
            "current_pred:   tensor([ 205.1269,  197.5469,  154.9218,  218.0782,   98.7216,  211.0597,\n",
            "         202.6686, -220.1891,  248.3165,   -1.5995], device='cuda:0',\n",
            "       grad_fn=<SelectBackward0>)\n",
            "current_label:  tensor([206.5000, 205.0000, 167.0000, 214.0000,   1.0000], device='cuda:0')\n",
            "current_pred:   tensor([ 315.4814,  276.6993,   93.5967,  129.8488,   86.3422,  258.6023,\n",
            "         278.9601, -128.9982,  168.3096,    3.6962], device='cuda:0',\n",
            "       grad_fn=<SelectBackward0>)\n",
            "current_label:  tensor([300.5000, 265.0000,  47.0000, 120.0000,   1.0000], device='cuda:0')\n",
            "current_pred:   tensor([ 300.1803,  114.9921, -130.3423,  124.5590,    4.3243,  298.5539,\n",
            "         118.2219,   42.1831,  100.1365,   44.7374], device='cuda:0',\n",
            "       grad_fn=<SelectBackward0>)\n",
            "current_label:  tensor([299.0000, 125.5000,  20.0000,  33.0000,   1.0000], device='cuda:0')\n",
            "current_pred:   tensor([ 214.6195,  124.2916, -221.4014,  169.9700,    0.7379,  224.8826,\n",
            "         101.1610,   80.3534,  101.9502,  106.7601], device='cuda:0',\n",
            "       grad_fn=<SelectBackward0>)\n",
            "current_label:  tensor([219.5000,  98.0000,  61.0000,  74.0000,   1.0000], device='cuda:0')\n",
            "current_pred:   tensor([ 3.2909e+02,  4.4888e+01,  3.2125e+01,  4.1318e+01,  9.9592e+01,\n",
            "         3.3537e+02,  2.4363e+01, -1.1880e-01, -1.9058e+01,  1.9721e+00],\n",
            "       device='cuda:0', grad_fn=<SelectBackward0>)\n",
            "current_label:  tensor([323.,  48.,  30.,  46.,   1.], device='cuda:0')\n",
            "current_pred:   tensor([312.5280, 205.6313, 121.9813, 178.0345,  51.1264, 307.2134, 196.8807,\n",
            "         21.8477,  -1.6728,   2.3832], device='cuda:0',\n",
            "       grad_fn=<SelectBackward0>)\n",
            "current_label:  tensor([293.0000, 192.5000,  30.0000,  35.0000,   1.0000], device='cuda:0')\n",
            "current_pred:   tensor([ 247.6770,  214.6051,  164.0466,  223.3757,  103.7159,  226.2041,\n",
            "         210.8547, -210.9922,  251.3217,   -1.0122], device='cuda:0',\n",
            "       grad_fn=<SelectBackward0>)\n",
            "current_label:  tensor([245., 236., 182., 310.,   1.], device='cuda:0')\n",
            "current_pred:   tensor([ 216.1563,  128.5107, -231.6486,  173.9549,    1.9120,  258.1818,\n",
            "         105.0177,   87.7287,  108.8637,   71.3410], device='cuda:0',\n",
            "       grad_fn=<SelectBackward0>)\n",
            "current_label:  tensor([240.0000, 108.5000,  50.0000,  55.0000,   1.0000], device='cuda:0')\n",
            "current_pred:   tensor([387.5228, 118.9491, -44.1354,  84.3032,  21.6938, 400.2679, 107.5401,\n",
            "         31.6942,  61.4265,  61.2887], device='cuda:0',\n",
            "       grad_fn=<SelectBackward0>)\n",
            "current_label:  tensor([391.5000, 110.0000,  45.0000, 100.0000,   1.0000], device='cuda:0')\n",
            "current_pred:   tensor([ 2.0364e+02,  1.1924e+02, -2.2728e+02,  1.7501e+02, -4.8061e-02,\n",
            "         2.0766e+02,  1.1700e+02,  8.6793e+01,  1.1505e+02,  3.6669e+01],\n",
            "       device='cuda:0', grad_fn=<SelectBackward0>)\n",
            "current_label:  tensor([202., 127., 278., 252.,   1.], device='cuda:0')\n",
            "current_pred:   tensor([336.9250, 114.8456,  71.5291, -88.1208,  53.3194, 122.2419,  90.5922,\n",
            "        -98.3507, -89.8913,  -0.8326], device='cuda:0',\n",
            "       grad_fn=<SelectBackward0>)\n",
            "current_label:  tensor([348.5000, 114.5000,  47.0000,  77.0000,   1.0000], device='cuda:0')\n",
            "current_pred:   tensor([ 350.5386,  136.8036,  -52.8541, -102.9311,   88.2947,  -30.3983,\n",
            "         -39.3133,  110.8100,  -33.2032,   -0.4991], device='cuda:0',\n",
            "       grad_fn=<SelectBackward0>)\n",
            "current_label:  tensor([378.5000, 142.5000,  87.0000, 153.0000,   1.0000], device='cuda:0')\n",
            "current_pred:   tensor([249.0406, 218.9564, 143.0219, 173.5115,   2.9404, 288.2994, 202.8766,\n",
            "         11.4051,  -8.8733,  -2.3059], device='cuda:0',\n",
            "       grad_fn=<SelectBackward0>)\n",
            "current_label:  tensor([256., 240., 174., 200.,   1.], device='cuda:0')\n",
            "current_pred:   tensor([ 207.9054,  126.3247, -230.4472,  177.2049,    0.2910,  214.6727,\n",
            "         107.5783,   93.4947,  107.7239,  107.8499], device='cuda:0',\n",
            "       grad_fn=<SelectBackward0>)\n",
            "current_label:  tensor([210.5000, 108.5000, 113.0000, 133.0000,   1.0000], device='cuda:0')\n",
            "current_pred:   tensor([ 4.0361e+02,  2.0246e+02, -3.8829e+01, -5.3030e+01, -8.5031e-02,\n",
            "         3.7552e+02,  2.2513e+02, -1.2111e+02,  1.6358e+02,  2.5764e-01],\n",
            "       device='cuda:0', grad_fn=<SelectBackward0>)\n",
            "current_label:  tensor([430.5000, 204.0000,  35.0000,  52.0000,   1.0000], device='cuda:0')\n",
            "current_pred:   tensor([ 290.2628,  120.5894, -121.9881,  135.6926,    2.0826,  294.0742,\n",
            "         125.7513,   52.5814,  106.7102,  106.2210], device='cuda:0',\n",
            "       grad_fn=<SelectBackward0>)\n",
            "current_label:  tensor([301.5000, 123.0000,  75.0000, 156.0000,   1.0000], device='cuda:0')\n",
            "current_pred:   tensor([ 167.1958,  216.6005, -122.3601,  181.2139,    1.1350,  150.5144,\n",
            "         239.2821,   84.4999,  134.2656,   -4.5238], device='cuda:0',\n",
            "       grad_fn=<SelectBackward0>)\n",
            "current_label:  tensor([129.5000, 251.5000, 103.0000, 187.0000,   1.0000], device='cuda:0')\n",
            "current_pred:   tensor([ 239.2608,  152.5161,  102.2932,  140.4708,   18.0618,  230.5500,\n",
            "         172.1990, -171.4379,  187.2195,   -1.2916], device='cuda:0',\n",
            "       grad_fn=<SelectBackward0>)\n",
            "current_label:  tensor([209.5000, 152.5000,  25.0000,  43.0000,   1.0000], device='cuda:0')\n",
            "current_pred:   tensor([ 156.3099,  171.0457, -229.3600,  254.5693,   -0.4505,   92.2903,\n",
            "         172.5429,  -94.5241, -141.0073,  104.0737], device='cuda:0',\n",
            "       grad_fn=<SelectBackward0>)\n",
            "current_label:  tensor([ 88.5000, 176.0000, 133.0000, 158.0000,   1.0000], device='cuda:0')\n",
            "current_pred:   tensor([ 1.9710e+02,  3.0794e+02, -2.1937e+02,  2.4266e+02,  2.6126e-01,\n",
            "         2.1795e+02,  2.5387e+02,  1.3827e+02, -2.0237e+02,  1.0632e+02],\n",
            "       device='cuda:0', grad_fn=<SelectBackward0>)\n",
            "current_label:  tensor([229., 268., 132., 178.,   1.], device='cuda:0')\n",
            "current_pred:   tensor([ 214.3718,  128.4055, -221.7305,  178.8366,    1.9640,  229.3840,\n",
            "         105.1300,   60.1334,   85.6948,   -3.4844], device='cuda:0',\n",
            "       grad_fn=<SelectBackward0>)\n",
            "current_label:  tensor([226.5000,  83.5000,  93.0000,  83.0000,   1.0000], device='cuda:0')\n",
            "current_pred:   tensor([ 2.4582e+02,  1.7448e+02,  1.5506e+02,  1.9863e+02,  1.0488e+02,\n",
            "         2.3457e+02,  1.7610e+02, -1.9591e+02,  2.3470e+02, -1.9768e-01],\n",
            "       device='cuda:0', grad_fn=<SelectBackward0>)\n",
            "current_label:  tensor([250., 178., 154., 240.,   1.], device='cuda:0')\n",
            "current_pred:   tensor([ 2.5387e+02,  3.6237e+02,  5.8322e+01, -7.9116e+01,  6.7185e-02,\n",
            "         5.0436e+01,  8.7714e+01,  2.6455e+01, -3.0125e+01, -4.0403e-01],\n",
            "       device='cuda:0', grad_fn=<SelectBackward0>)\n",
            "current_label:  tensor([264., 323.,  46.,  50.,   1.], device='cuda:0')\n",
            "current_pred:   tensor([280.1408, 228.2978, 116.7243, 181.1710,  76.0788, 301.3193, 210.4047,\n",
            "         11.8775,  10.2954,   4.8222], device='cuda:0',\n",
            "       grad_fn=<SelectBackward0>)\n",
            "current_label:  tensor([267., 236.,  70., 122.,   1.], device='cuda:0')\n",
            "current_pred:   tensor([ 228.2193,  159.6644,   80.0855,  100.3215,   -2.7763,  233.5515,\n",
            "         161.9110, -162.4645,  201.4176,   -1.5217], device='cuda:0',\n",
            "       grad_fn=<SelectBackward0>)\n",
            "current_label:  tensor([233.0000, 191.5000,  38.0000,  43.0000,   1.0000], device='cuda:0')\n",
            "current_pred:   tensor([ 174.0989,  163.4922,  120.9556,  148.1772,  113.7422,  181.9686,\n",
            "         159.6119, -166.2998,  210.9854,    1.6768], device='cuda:0',\n",
            "       grad_fn=<SelectBackward0>)\n",
            "current_label:  tensor([176., 153.,  48.,  70.,   1.], device='cuda:0')\n",
            "current_pred:   tensor([ 214.0392,  123.9069, -230.5122,  166.8779,   -0.9243,  229.6642,\n",
            "         102.7974,   85.7763,  104.9136,   96.9900], device='cuda:0',\n",
            "       grad_fn=<SelectBackward0>)\n",
            "current_label:  tensor([236., 103.,  72.,  96.,   1.], device='cuda:0')\n",
            "current_pred:   tensor([ 344.8836,  260.9775,   77.3755, -112.1765,   66.1897,  344.1289,\n",
            "         275.4469,  124.7969,  184.6119,   17.3781], device='cuda:0',\n",
            "       grad_fn=<SelectBackward0>)\n",
            "current_label:  tensor([330.5000, 256.5000, 161.0000, 209.0000,   1.0000], device='cuda:0')\n",
            "current_pred:   tensor([ 2.8222e+02,  1.0932e+02, -1.1928e+02,  1.2222e+02, -6.6028e-02,\n",
            "         2.7571e+02,  1.1350e+02,  4.1184e+01,  1.0513e+02,  9.3781e+01],\n",
            "       device='cuda:0', grad_fn=<SelectBackward0>)\n",
            "current_label:  tensor([274.5000,  99.0000,  53.0000,  82.0000,   1.0000], device='cuda:0')\n",
            "current_pred:   tensor([ 214.1192,  243.7294,  172.1003,  231.9446,   78.3049,  216.5548,\n",
            "         211.8964, -214.5621,  239.3695,    0.7260], device='cuda:0',\n",
            "       grad_fn=<SelectBackward0>)\n",
            "current_label:  tensor([216., 223., 312., 294.,   1.], device='cuda:0')\n",
            "current_pred:   tensor([ 241.1921,  201.5916,  165.8808,  222.8532,  103.2301,  223.1743,\n",
            "         206.1232, -215.4571,  254.1875,   -0.6850], device='cuda:0',\n",
            "       grad_fn=<SelectBackward0>)\n",
            "current_label:  tensor([231.0000, 229.5000, 172.0000, 229.0000,   1.0000], device='cuda:0')\n",
            "current_pred:   tensor([ 257.1469,  159.3435,  137.5422, -160.5809,   -8.8897,  271.2392,\n",
            "         146.0524,  149.8329,  168.5262,    1.0304], device='cuda:0',\n",
            "       grad_fn=<SelectBackward0>)\n",
            "current_label:  tensor([259., 187., 224., 238.,   1.], device='cuda:0')\n",
            "current_pred:   tensor([260.4159,  35.6644, -36.3731, 119.0229,  -1.5217, 258.1013,  37.1573,\n",
            "        -33.8729, -44.2703,  81.7469], device='cuda:0',\n",
            "       grad_fn=<SelectBackward0>)\n",
            "current_label:  tensor([262.5000,  40.5000,  69.0000,  51.0000,   1.0000], device='cuda:0')\n",
            "current_pred:   tensor([ 228.7695,  239.9372,  163.2568,  223.3676,   89.3209,  221.9979,\n",
            "         214.2050, -214.5804,  242.2528,   -1.2891], device='cuda:0',\n",
            "       grad_fn=<SelectBackward0>)\n",
            "current_label:  tensor([210.5000, 242.5000, 169.0000, 245.0000,   1.0000], device='cuda:0')\n",
            "current_pred:   tensor([ 209.9244,  125.2537, -226.2970,  170.9628,    0.3262,  228.8607,\n",
            "          91.1160,   80.5224,   96.1606,  109.9425], device='cuda:0',\n",
            "       grad_fn=<SelectBackward0>)\n",
            "current_label:  tensor([224.0000,  87.5000,  76.0000,  83.0000,   1.0000], device='cuda:0')\n",
            "current_pred:   tensor([ 150.8473,  118.5194,  116.4214,  133.4988,    4.5031,  184.0912,\n",
            "         151.5272, -176.9974,  180.5150,    0.8405], device='cuda:0',\n",
            "       grad_fn=<SelectBackward0>)\n",
            "current_label:  tensor([143.5000, 139.0000, 213.0000, 276.0000,   1.0000], device='cuda:0')\n",
            "current_pred:   tensor([ 211.5333,  216.7797,  168.0407,  230.3230,  102.9320,  217.1068,\n",
            "         208.8966, -220.7407,  250.9237,   -0.9413], device='cuda:0',\n",
            "       grad_fn=<SelectBackward0>)\n",
            "current_label:  tensor([203.0000, 211.5000, 224.0000, 291.0000,   1.0000], device='cuda:0')\n",
            "current_pred:   tensor([ 212.6327,  133.1434, -224.6292,  170.7812,    0.9207,  231.8391,\n",
            "         111.5838,   97.6271,  112.4547,   88.3884], device='cuda:0',\n",
            "       grad_fn=<SelectBackward0>)\n",
            "current_label:  tensor([235.0000, 119.5000, 160.0000, 133.0000,   1.0000], device='cuda:0')\n",
            "current_pred:   tensor([ 340.6040,  171.2426,  -66.1988, -105.2306,   11.3101,  -21.0065,\n",
            "         -38.3170,  113.3738,  -21.7904,    1.9806], device='cuda:0',\n",
            "       grad_fn=<SelectBackward0>)\n",
            "current_label:  tensor([333., 184., 176., 250.,   1.], device='cuda:0')\n",
            "current_pred:   tensor([362.1683,  50.1859,  33.7593,  46.5484,  57.3837, 345.9730,  27.1089,\n",
            "          8.6196, -17.9009,  -2.1391], device='cuda:0',\n",
            "       grad_fn=<SelectBackward0>)\n",
            "current_label:  tensor([376.5000,  51.0000,  35.0000,  54.0000,   1.0000], device='cuda:0')\n",
            "current_pred:   tensor([358.0094,  57.3885,  37.6027,  44.2192,  78.7119, 345.2002,  30.9951,\n",
            "          6.4151, -17.9791,   0.4429], device='cuda:0',\n",
            "       grad_fn=<SelectBackward0>)\n",
            "current_label:  tensor([340.5000,  54.5000,  27.0000,  51.0000,   1.0000], device='cuda:0')\n",
            "current_pred:   tensor([ 220.1032,  158.3239,  147.2722,  182.8502,  111.5560,  233.6558,\n",
            "         172.6544, -199.5525,  233.8532,   -1.3732], device='cuda:0',\n",
            "       grad_fn=<SelectBackward0>)\n",
            "current_label:  tensor([213.5000, 165.0000, 183.0000, 264.0000,   1.0000], device='cuda:0')\n",
            "current_pred:   tensor([ 214.7334,  239.3709,  153.2610,  216.1965,   96.1419,  217.8180,\n",
            "         215.1659, -215.4505,  239.3840,   -2.5903], device='cuda:0',\n",
            "       grad_fn=<SelectBackward0>)\n",
            "current_label:  tensor([209.5000, 224.5000, 101.0000, 187.0000,   1.0000], device='cuda:0')\n",
            "current_pred:   tensor([ 157.5059,  113.4497,  113.2154,  127.3619,    0.7548,  187.1360,\n",
            "         151.1333, -173.7856,  173.6696,    0.8549], device='cuda:0',\n",
            "       grad_fn=<SelectBackward0>)\n",
            "current_label:  tensor([171.0000, 143.5000, 116.0000, 233.0000,   1.0000], device='cuda:0')\n",
            "current_pred:   tensor([261.7678, 218.5005, 162.4985, 217.9177,  88.1338, 293.2925, 200.8039,\n",
            "         14.7039,  -0.7744,   2.8488], device='cuda:0',\n",
            "       grad_fn=<SelectBackward0>)\n",
            "current_label:  tensor([263.0000, 233.5000, 190.0000, 195.0000,   1.0000], device='cuda:0')\n",
            "current_pred:   tensor([259.9066,  51.6000, -36.9416, 119.6893,   0.2937, 286.6806,  38.7275,\n",
            "        -33.1033, -25.6645,  71.7021], device='cuda:0',\n",
            "       grad_fn=<SelectBackward0>)\n",
            "current_label:  tensor([310.5000,  46.0000,  37.0000,  44.0000,   1.0000], device='cuda:0')\n",
            "current_pred:   tensor([ 235.4175,  217.3316,  153.7800,  208.3264,   86.4001,  217.6722,\n",
            "         215.5184, -206.0412,  241.1432,    1.3177], device='cuda:0',\n",
            "       grad_fn=<SelectBackward0>)\n",
            "current_label:  tensor([245.0000, 229.5000,  74.0000, 101.0000,   1.0000], device='cuda:0')\n",
            "current_pred:   tensor([  0.3227, -13.2214,   3.6855,   5.0814,  -3.6891,  28.5542,   6.8018,\n",
            "        -83.6391,  85.7811,   0.2733], device='cuda:0',\n",
            "       grad_fn=<SelectBackward0>)\n",
            "current_label:  tensor([1., 1., 0., 0., 1.], device='cuda:0')\n",
            "current_pred:   tensor([ 206.6870,  118.3783, -218.1819,  164.1896,    1.0489,  236.9703,\n",
            "          97.4613,   61.1142,   89.5680,   13.6908], device='cuda:0',\n",
            "       grad_fn=<SelectBackward0>)\n",
            "current_label:  tensor([241.,  74.,  68.,  64.,   1.], device='cuda:0')\n",
            "current_pred:   tensor([ 232.0961,  224.6804,  128.1978,  191.8768,   -1.1342,  211.7316,\n",
            "         200.8808, -200.5079,  232.6006,   -1.7518], device='cuda:0',\n",
            "       grad_fn=<SelectBackward0>)\n",
            "current_label:  tensor([232.0000, 246.5000, 188.0000, 217.0000,   1.0000], device='cuda:0')\n",
            "current_pred:   tensor([ 178.7883,  163.8147,  132.0236,  158.4736,  106.5998,  185.7694,\n",
            "         162.1137, -171.2434,  214.3855,    1.5557], device='cuda:0',\n",
            "       grad_fn=<SelectBackward0>)\n",
            "current_label:  tensor([182., 171., 168., 210.,   1.], device='cuda:0')\n",
            "current_pred:   tensor([ 99.8013, 280.6101, -85.4868, 146.4827,   7.8061,  77.7849, 288.8795,\n",
            "         61.8033, 108.0289,  96.3769], device='cuda:0',\n",
            "       grad_fn=<SelectBackward0>)\n",
            "current_label:  tensor([ 71.5000, 296.0000, 103.0000, 282.0000,   1.0000], device='cuda:0')\n",
            "current_pred:   tensor([ 173.9975,  132.8756,   84.0963, -117.0276,  104.3854,  -62.1562,\n",
            "          18.9926,   -9.3844,   23.6445,    0.4286], device='cuda:0',\n",
            "       grad_fn=<SelectBackward0>)\n",
            "current_label:  tensor([167.5000, 124.0000, 183.0000, 246.0000,   1.0000], device='cuda:0')\n",
            "current_pred:   tensor([ 190.1753,  116.0248,   79.4666, -106.8942,  115.1868,  -61.4898,\n",
            "          12.9111,   -8.2912,   26.4246,    0.3339], device='cuda:0',\n",
            "       grad_fn=<SelectBackward0>)\n",
            "current_label:  tensor([176.0000, 105.5000,  70.0000,  57.0000,   1.0000], device='cuda:0')\n",
            "current_pred:   tensor([287.8905, 233.8464,  88.0661, 137.8111,   1.9429, 296.5512, 194.0547,\n",
            "         13.3200,   9.3952,  -0.7867], device='cuda:0',\n",
            "       grad_fn=<SelectBackward0>)\n",
            "current_label:  tensor([291.0000, 237.5000,  42.0000,  65.0000,   1.0000], device='cuda:0')\n",
            "current_pred:   tensor([ 208.9056,  126.4066, -228.1601,  173.6404,    0.8934,  228.4711,\n",
            "          82.3707,   78.8221,   91.1081,  107.7387], device='cuda:0',\n",
            "       grad_fn=<SelectBackward0>)\n",
            "current_label:  tensor([225.5000,  85.5000,  83.0000,  93.0000,   1.0000], device='cuda:0')\n",
            "current_pred:   tensor([ 354.5768,  134.6712,  -72.6886, -135.7812,  111.9423,  -19.6815,\n",
            "         -42.2818,  105.2107,  -32.6452,   -1.1789], device='cuda:0',\n",
            "       grad_fn=<SelectBackward0>)\n",
            "current_label:  tensor([360., 128., 116., 214.,   1.], device='cuda:0')\n",
            "current_pred:   tensor([331.1322, 286.6485,  48.9145, -59.1314,  28.3803, 304.0426, 273.6362,\n",
            "        143.1718, 174.2598,   5.2592], device='cuda:0',\n",
            "       grad_fn=<SelectBackward0>)\n",
            "current_label:  tensor([327.5000, 303.0000, 107.0000, 164.0000,   1.0000], device='cuda:0')\n",
            "current_pred:   tensor([336.3319,  52.5346,  34.3846,  41.6793,  99.8031, 340.6222,  22.7853,\n",
            "         -1.4708, -15.4717,   2.2591], device='cuda:0',\n",
            "       grad_fn=<SelectBackward0>)\n",
            "current_label:  tensor([331.5000,  61.0000,  83.0000,  88.0000,   1.0000], device='cuda:0')\n",
            "current_pred:   tensor([ 209.7175,  123.4433, -217.5948,  162.8346,    0.8333,  218.0236,\n",
            "          64.8096,   63.9073,   69.2978,   93.8234], device='cuda:0',\n",
            "       grad_fn=<SelectBackward0>)\n",
            "current_label:  tensor([211.,  64.,  50.,  58.,   1.], device='cuda:0')\n",
            "current_pred:   tensor([ 232.7194,  223.1783,  142.3188,  205.5881,   99.1861,  223.2025,\n",
            "         212.8465, -215.5114,  247.8747,   -2.5901], device='cuda:0',\n",
            "       grad_fn=<SelectBackward0>)\n",
            "current_label:  tensor([244.5000, 226.0000,  83.0000, 184.0000,   1.0000], device='cuda:0')\n",
            "current_pred:   tensor([ 207.1275,  253.7007,  171.1699,  228.8218,   75.8401,  213.1930,\n",
            "         212.7038, -212.5886,  232.9562,   -0.7130], device='cuda:0',\n",
            "       grad_fn=<SelectBackward0>)\n",
            "current_label:  tensor([196.5000, 247.5000, 195.0000, 239.0000,   1.0000], device='cuda:0')\n",
            "current_pred:   tensor([ 167.6686,  235.9656, -138.0409,  209.8733,    2.5480,  187.6829,\n",
            "         224.9501,  123.1956,  188.1052,  104.9486], device='cuda:0',\n",
            "       grad_fn=<SelectBackward0>)\n",
            "current_label:  tensor([178., 218., 196., 286.,   1.], device='cuda:0')\n",
            "current_pred:   tensor([ 182.7207,  121.7736,   83.3381, -110.1485,  101.0313,  -66.3969,\n",
            "          20.6268,  -15.3056,   27.2454,   -0.5510], device='cuda:0',\n",
            "       grad_fn=<SelectBackward0>)\n",
            "current_label:  tensor([174.,  95., 102.,  94.,   1.], device='cuda:0')\n",
            "current_pred:   tensor([240.7482,  57.9721, -47.2233, -54.4631,  90.5218,  10.4259,   1.5281,\n",
            "        -19.2847, -35.5431,   0.5212], device='cuda:0',\n",
            "       grad_fn=<SelectBackward0>)\n",
            "current_label:  tensor([246.5000,  46.5000,  75.0000,  75.0000,   1.0000], device='cuda:0')\n",
            "current_pred:   tensor([ 3.6977e+02,  2.1089e+02,  5.4586e+01, -8.8966e+01, -7.5097e-01,\n",
            "        -4.4995e+01,  7.5635e+00,  2.4386e+01,  2.1355e+01,  5.7000e-03],\n",
            "       device='cuda:0', grad_fn=<SelectBackward0>)\n",
            "current_label:  tensor([374.5000, 245.5000,  39.0000,  53.0000,   1.0000], device='cuda:0')\n",
            "current_pred:   tensor([ 197.8044,  322.3608, -217.3085,  237.6702,   -0.8041,  224.8251,\n",
            "         257.1251,   95.4311, -160.7175,    3.9435], device='cuda:0',\n",
            "       grad_fn=<SelectBackward0>)\n",
            "current_label:  tensor([219.5000, 285.5000,  69.0000, 243.0000,   1.0000], device='cuda:0')\n",
            "current_pred:   tensor([ 2.3730e+02,  1.7423e+02,  1.6413e+02,  2.0648e+02,  1.0410e+02,\n",
            "         2.3349e+02,  1.7526e+02, -2.0014e+02,  2.3538e+02, -1.9726e-01],\n",
            "       device='cuda:0', grad_fn=<SelectBackward0>)\n",
            "current_label:  tensor([238.5000, 162.5000, 233.0000, 209.0000,   1.0000], device='cuda:0')\n",
            "current_pred:   tensor([ 236.2549,  182.7059,  166.7709,  217.8454,   -1.1817,  227.7764,\n",
            "         165.1357, -184.6889,  206.9837,   -0.4948], device='cuda:0',\n",
            "       grad_fn=<SelectBackward0>)\n",
            "current_label:  tensor([246.0000, 191.5000, 242.0000, 247.0000,   1.0000], device='cuda:0')\n",
            "current_pred:   tensor([ 245.5965,  240.1372,  170.2164,  231.4493,   99.2797,  227.1874,\n",
            "         218.1591, -209.1348,  246.5838,   -1.0828], device='cuda:0',\n",
            "       grad_fn=<SelectBackward0>)\n",
            "current_label:  tensor([250.5000, 241.5000, 175.0000, 255.0000,   1.0000], device='cuda:0')\n",
            "current_pred:   tensor([ 254.7631,  170.8372,  120.4680,  162.0390,    6.9409,  238.6130,\n",
            "         176.7084, -173.9902,  204.7907,    2.4905], device='cuda:0',\n",
            "       grad_fn=<SelectBackward0>)\n",
            "current_label:  tensor([252.5000, 161.5000,  69.0000,  71.0000,   1.0000], device='cuda:0')\n",
            "current_pred:   tensor([ 289.3175,  173.1639,  111.9705, -135.3625,   36.2381,  300.0334,\n",
            "         144.7126,  142.9252,  172.9474,   44.5509], device='cuda:0',\n",
            "       grad_fn=<SelectBackward0>)\n",
            "current_label:  tensor([302.5000, 183.0000, 105.0000, 170.0000,   1.0000], device='cuda:0')\n",
            "current_pred:   tensor([ 261.8751,  131.5150,  105.6306, -125.6087,   45.6449,  283.7850,\n",
            "         129.8231,  140.7295,  173.2431,   48.7287], device='cuda:0',\n",
            "       grad_fn=<SelectBackward0>)\n",
            "current_label:  tensor([267.5000, 136.0000,  63.0000, 108.0000,   1.0000], device='cuda:0')\n",
            "current_pred:   tensor([ 3.2671e+02,  2.4159e+02,  7.3972e+01, -1.2655e+02,  8.9161e+01,\n",
            "        -4.6299e+01,  1.1168e+01,  1.7431e+01,  2.7243e+01,  1.7829e-02],\n",
            "       device='cuda:0', grad_fn=<SelectBackward0>)\n",
            "current_label:  tensor([329., 235.,  56., 102.,   1.], device='cuda:0')\n",
            "current_pred:   tensor([ 213.4833,  246.3324,  160.2649,  219.4790,   85.7338,  215.8057,\n",
            "         212.9276, -215.5936,  235.4106,   -1.9548], device='cuda:0',\n",
            "       grad_fn=<SelectBackward0>)\n",
            "current_label:  tensor([202.0000, 236.5000,  82.0000, 169.0000,   1.0000], device='cuda:0')\n",
            "current_pred:   tensor([ 217.4693,  144.2463,  136.4247,  167.3943,  109.9217,  232.8424,\n",
            "         169.7695, -194.9627,  230.3060,   -1.3535], device='cuda:0',\n",
            "       grad_fn=<SelectBackward0>)\n",
            "current_label:  tensor([206.0000, 131.5000, 128.0000, 169.0000,   1.0000], device='cuda:0')\n",
            "current_pred:   tensor([223.6981,  63.0709, -53.0449, -56.2367,  96.6767,   8.6451,  -2.8459,\n",
            "        -18.0503, -31.5288,   0.4173], device='cuda:0',\n",
            "       grad_fn=<SelectBackward0>)\n",
            "current_label:  tensor([217.5000,  56.5000,  49.0000,  49.0000,   1.0000], device='cuda:0')\n",
            "current_pred:   tensor([ 199.1704,  143.4617,  131.7310,  161.1748,  105.4495,  230.4082,\n",
            "         165.6128, -195.4242,  221.2137,   -1.5039], device='cuda:0',\n",
            "       grad_fn=<SelectBackward0>)\n",
            "current_label:  tensor([192.5000, 135.0000,  71.0000,  76.0000,   1.0000], device='cuda:0')\n",
            "current_pred:   tensor([ 235.6331,  134.6022,  142.4192,  169.8930,  107.7787,  235.1122,\n",
            "         170.3830, -186.5628,  230.3290,   -1.0157], device='cuda:0',\n",
            "       grad_fn=<SelectBackward0>)\n",
            "current_label:  tensor([228., 131., 134., 162.,   1.], device='cuda:0')\n",
            "current_pred:   tensor([ 163.8989,  180.9391,  118.7587,  141.2295,    0.7976,  178.2149,\n",
            "         148.8244, -173.1001,  179.3440,    0.2129], device='cuda:0',\n",
            "       grad_fn=<SelectBackward0>)\n",
            "current_label:  tensor([169.5000, 190.5000, 143.0000, 183.0000,   1.0000], device='cuda:0')\n",
            "current_pred:   tensor([271.1729, 194.4599, 148.0401, 192.6711,  82.2034, 282.3437, 186.0285,\n",
            "         24.8797,  -9.0522,   2.2252], device='cuda:0',\n",
            "       grad_fn=<SelectBackward0>)\n",
            "current_label:  tensor([263.5000, 194.5000, 207.0000, 241.0000,   1.0000], device='cuda:0')\n",
            "current_pred:   tensor([ 223.8705,  142.1320,  123.2568,  156.3080,  107.5713,  234.0061,\n",
            "         171.0228, -189.6534,  227.6363,   -1.3870], device='cuda:0',\n",
            "       grad_fn=<SelectBackward0>)\n",
            "current_label:  tensor([214.5000, 139.0000, 103.0000, 122.0000,   1.0000], device='cuda:0')\n",
            "current_pred:   tensor([355.1444, 306.6430,  65.6492, -97.0683,  81.4757, 316.8811, 271.7878,\n",
            "        127.9826, 183.9659,  18.1651], device='cuda:0',\n",
            "       grad_fn=<SelectBackward0>)\n",
            "current_label:  tensor([337.5000, 315.5000, 113.0000, 137.0000,   1.0000], device='cuda:0')\n",
            "current_pred:   tensor([ -1.5255, -14.8315,   6.8236,   5.1183,   4.5812,  33.8891,   6.8588,\n",
            "        -83.2115,  86.6421,  -0.2574], device='cuda:0',\n",
            "       grad_fn=<SelectBackward0>)\n",
            "current_label:  tensor([1., 1., 0., 0., 1.], device='cuda:0')\n",
            "current_pred:   tensor([ 199.7340,  177.2776,  134.2233,  175.8604,   56.3872,  229.8799,\n",
            "         173.5945, -198.1665,  216.9623,   -1.3566], device='cuda:0',\n",
            "       grad_fn=<SelectBackward0>)\n",
            "current_label:  tensor([203., 167., 130., 184.,   1.], device='cuda:0')\n",
            "current_pred:   tensor([ 217.3954,  143.3791,  131.7785,  162.2536,  110.1883,  231.8010,\n",
            "         169.5084, -193.1844,  228.5867,   -1.4325], device='cuda:0',\n",
            "       grad_fn=<SelectBackward0>)\n",
            "current_label:  tensor([211., 143., 130., 162.,   1.], device='cuda:0')\n",
            "current_pred:   tensor([ 178.8324,  178.4250,  107.5254,  125.2362,   -4.4999,  182.6826,\n",
            "         152.5012, -172.5645,  180.9749,    0.6565], device='cuda:0',\n",
            "       grad_fn=<SelectBackward0>)\n",
            "current_label:  tensor([180., 187.,  82., 142.,   1.], device='cuda:0')\n",
            "current_pred:   tensor([ 234.9072,  132.9126,  149.8690,  175.2029,  111.6819,  233.5672,\n",
            "         169.4333, -189.1765,  230.7117,   -0.7652], device='cuda:0',\n",
            "       grad_fn=<SelectBackward0>)\n",
            "current_label:  tensor([233.5000, 139.0000, 177.0000, 246.0000,   1.0000], device='cuda:0')\n",
            "current_pred:   tensor([ 244.4137,  145.8517,  153.3414,  182.4415,  108.3129,  234.4719,\n",
            "         171.5087, -189.4980,  231.8999,   -0.6003], device='cuda:0',\n",
            "       grad_fn=<SelectBackward0>)\n",
            "current_label:  tensor([245.5000, 143.0000, 173.0000, 170.0000,   1.0000], device='cuda:0')\n",
            "current_pred:   tensor([ 289.5204,   91.9251, -113.8285,  126.8691,    2.6436,  295.7184,\n",
            "          95.1394,   51.8080,  101.9086,  115.3453], device='cuda:0',\n",
            "       grad_fn=<SelectBackward0>)\n",
            "current_label:  tensor([294.,  86.,  52., 100.,   1.], device='cuda:0')\n",
            "current_pred:   tensor([ 214.5148,  236.5385,  159.5920,  223.4826,   99.2791,  217.7454,\n",
            "         214.6024, -214.8060,  241.5476,   -2.4233], device='cuda:0',\n",
            "       grad_fn=<SelectBackward0>)\n",
            "current_label:  tensor([207.5000, 226.0000, 159.0000, 222.0000,   1.0000], device='cuda:0')\n",
            "current_pred:   tensor([ 216.3699,  234.4463,  150.3303,  214.6065,   99.2201,  218.9276,\n",
            "         214.6487, -215.1623,  243.7063,   -2.4747], device='cuda:0',\n",
            "       grad_fn=<SelectBackward0>)\n",
            "current_label:  tensor([208.5000, 232.0000, 139.0000, 158.0000,   1.0000], device='cuda:0')\n",
            "current_pred:   tensor([ 334.3276,  103.6421,   79.1770, -101.1430,   54.8623,  143.2339,\n",
            "         102.3470, -108.2410,  -99.6423,    0.4382], device='cuda:0',\n",
            "       grad_fn=<SelectBackward0>)\n",
            "current_label:  tensor([347.5000,  98.5000, 167.0000, 195.0000,   1.0000], device='cuda:0')\n",
            "current_pred:   tensor([ 371.5349,  211.1338,  -51.6930,  -75.7874,   30.0663,  382.5833,\n",
            "         232.8325, -115.9139,  182.3408,    4.7106], device='cuda:0',\n",
            "       grad_fn=<SelectBackward0>)\n",
            "current_label:  tensor([419.5000, 226.0000,  35.0000,  54.0000,   1.0000], device='cuda:0')\n",
            "current_pred:   tensor([ 216.8648,  183.7082,  157.7574,  209.4465,    3.7080,  220.6677,\n",
            "         160.9285, -189.4182,  211.6888,   -0.6605], device='cuda:0',\n",
            "       grad_fn=<SelectBackward0>)\n",
            "current_label:  tensor([211.5000, 168.0000, 157.0000, 226.0000,   1.0000], device='cuda:0')\n",
            "current_pred:   tensor([ 232.9667,  209.1620,  145.2495,  205.8133,  104.1185,  221.7067,\n",
            "         206.2601, -215.8080,  249.0752,   -1.7280], device='cuda:0',\n",
            "       grad_fn=<SelectBackward0>)\n",
            "current_label:  tensor([240.5000, 204.0000, 115.0000, 212.0000,   1.0000], device='cuda:0')\n",
            "current_pred:   tensor([ 1.9520e+02,  2.4378e+02,  1.6260e+02,  2.0708e+02, -9.6196e+00,\n",
            "         1.9661e+02,  1.9737e+02, -2.0692e+02,  2.1288e+02, -1.1838e-01],\n",
            "       device='cuda:0', grad_fn=<SelectBackward0>)\n",
            "current_label:  tensor([198.5000, 235.5000, 223.0000, 307.0000,   1.0000], device='cuda:0')\n",
            "current_pred:   tensor([ 153.3212,  173.2269, -232.6391,  257.0673,   -1.0004,  115.1432,\n",
            "         168.1447, -102.3043, -157.1733,  107.1140], device='cuda:0',\n",
            "       grad_fn=<SelectBackward0>)\n",
            "current_label:  tensor([111.0000, 151.5000, 194.0000, 301.0000,   1.0000], device='cuda:0')\n",
            "current_pred:   tensor([ 3.5293e+02,  1.3335e+02, -4.7357e+01, -9.9122e+01,  8.9130e+01,\n",
            "        -1.3370e+01, -4.2447e+01,  1.1287e+02, -3.0157e+01, -3.1572e-01],\n",
            "       device='cuda:0', grad_fn=<SelectBackward0>)\n",
            "current_label:  tensor([357., 135.,  32.,  66.,   1.], device='cuda:0')\n",
            "current_pred:   tensor([ 279.9926,  277.7151,   83.5147,  114.3760,   76.1619,  251.3928,\n",
            "         275.7940, -116.7284,  150.6099,    5.7975], device='cuda:0',\n",
            "       grad_fn=<SelectBackward0>)\n",
            "current_label:  tensor([269., 260., 150., 198.,   1.], device='cuda:0')\n",
            "current_pred:   tensor([ 269.3088,  131.0109,   94.1227, -110.9632,   43.5745,  287.6401,\n",
            "         131.9660,  134.6366,  177.5351,   48.9647], device='cuda:0',\n",
            "       grad_fn=<SelectBackward0>)\n",
            "current_label:  tensor([276.0000, 142.5000,  18.0000,  43.0000,   1.0000], device='cuda:0')\n",
            "current_pred:   tensor([ 210.8582,  171.1607,  142.7625,  183.3316,  109.1498,  231.0371,\n",
            "         173.0701, -203.0512,  232.8658,   -1.6661], device='cuda:0',\n",
            "       grad_fn=<SelectBackward0>)\n",
            "current_label:  tensor([207., 154., 130., 174.,   1.], device='cuda:0')\n",
            "current_pred:   tensor([ 223.6251,  237.4951,  161.8298,  224.4459,   97.3478,  221.0687,\n",
            "         216.2227, -214.7723,  244.0851,   -1.9899], device='cuda:0',\n",
            "       grad_fn=<SelectBackward0>)\n",
            "current_label:  tensor([227.5000, 246.5000, 101.0000, 123.0000,   1.0000], device='cuda:0')\n",
            "current_pred:   tensor([ 399.8570,   39.4465,   39.3552,   52.2979,   64.3066,  219.2104,\n",
            "         164.3971, -128.8459, -140.3541,   -1.2671], device='cuda:0',\n",
            "       grad_fn=<SelectBackward0>)\n",
            "current_label:  tensor([384.0000,  30.5000,  56.0000,  59.0000,   1.0000], device='cuda:0')\n",
            "current_pred:   tensor([ 224.7872,  207.5847,  162.6210,  225.3015,  103.3402,  219.5091,\n",
            "         207.3220, -216.0267,  253.2799,   -0.9028], device='cuda:0',\n",
            "       grad_fn=<SelectBackward0>)\n",
            "current_label:  tensor([245.0000, 212.5000, 246.0000, 303.0000,   1.0000], device='cuda:0')\n",
            "current_pred:   tensor([ 264.8376,  171.8042,  118.4187, -143.7854,   41.6264,  288.2480,\n",
            "         140.9283,  144.5426,  175.8817,   48.0007], device='cuda:0',\n",
            "       grad_fn=<SelectBackward0>)\n",
            "current_label:  tensor([264., 179.,  76.,  98.,   1.], device='cuda:0')\n",
            "current_pred:   tensor([ 337.5195,  154.8417,  -69.4697, -121.3183,   88.3252,   -7.7193,\n",
            "         -44.0219,  116.5935,  -32.5765,   -0.7009], device='cuda:0',\n",
            "       grad_fn=<SelectBackward0>)\n",
            "current_label:  tensor([332.5000, 168.5000,  25.0000,  49.0000,   1.0000], device='cuda:0')\n",
            "current_pred:   tensor([ 209.6167,  126.6025, -227.1638,  171.8114,    0.6618,  234.6118,\n",
            "          83.8704,   78.5914,   90.2580,  109.4153], device='cuda:0',\n",
            "       grad_fn=<SelectBackward0>)\n",
            "current_label:  tensor([222.0000,  92.5000,  48.0000,  43.0000,   1.0000], device='cuda:0')\n",
            "current_pred:   tensor([ 4.0182e+02,  1.0167e+02, -5.3717e+01,  8.6468e+01, -1.1640e+00,\n",
            "         4.0853e+02,  8.7634e+01,  2.3780e+01,  5.6195e+01, -7.5884e-03],\n",
            "       device='cuda:0', grad_fn=<SelectBackward0>)\n",
            "current_label:  tensor([406.0000,  93.5000,  66.0000, 111.0000,   1.0000], device='cuda:0')\n",
            "current_pred:   tensor([ 3.4672e+02,  1.4203e+02, -3.1518e+01, -7.2960e+01,  2.0117e+00,\n",
            "        -2.7197e+01, -5.0456e+01,  1.1377e+02, -1.9856e+01, -3.1936e-01],\n",
            "       device='cuda:0', grad_fn=<SelectBackward0>)\n",
            "current_label:  tensor([330.5000, 151.0000,   5.0000,  12.0000,   1.0000], device='cuda:0')\n",
            "current_pred:   tensor([417.2385, 163.7371,  10.2736,  61.6000,   4.8860, 397.9383, 170.1799,\n",
            "        -71.6607, 103.0471,   2.0882], device='cuda:0',\n",
            "       grad_fn=<SelectBackward0>)\n",
            "current_label:  tensor([438.5000, 187.0000,  11.0000,  22.0000,   1.0000], device='cuda:0')\n",
            "current_pred:   tensor([ 226.6628,  179.2780,   97.6995,  139.3420,   24.6913,  240.1848,\n",
            "         159.3964, -189.0090,  219.6609,   -0.2402], device='cuda:0',\n",
            "       grad_fn=<SelectBackward0>)\n",
            "current_label:  tensor([213.0000, 182.5000, 150.0000, 289.0000,   1.0000], device='cuda:0')\n",
            "current_pred:   tensor([ 229.2860,  175.2862,  137.2324,  179.5608,  106.9061,  232.0745,\n",
            "         177.1150, -195.5415,  232.8354,   -1.3286], device='cuda:0',\n",
            "       grad_fn=<SelectBackward0>)\n",
            "current_label:  tensor([227.0000, 182.5000,  70.0000, 139.0000,   1.0000], device='cuda:0')\n",
            "current_pred:   tensor([287.2239, 221.8520, 129.6189, 185.3006,  97.3572, 296.8387, 203.4101,\n",
            "         15.5564,   1.8638,   6.4587], device='cuda:0',\n",
            "       grad_fn=<SelectBackward0>)\n",
            "current_label:  tensor([286.5000, 233.5000, 131.0000, 199.0000,   1.0000], device='cuda:0')\n",
            "current_pred:   tensor([ 232.8980,  174.6247,  152.9936,  195.8506,  110.9078,  234.1414,\n",
            "         176.7147, -200.6763,  236.6688,   -0.8002], device='cuda:0',\n",
            "       grad_fn=<SelectBackward0>)\n",
            "current_label:  tensor([233.5000, 176.5000, 183.0000, 227.0000,   1.0000], device='cuda:0')\n",
            "current_pred:   tensor([ 171.0051,  266.1929, -143.3593,  227.5702,    0.9889,  141.0226,\n",
            "         283.4973,  104.4853,  136.4920,   17.8702], device='cuda:0',\n",
            "       grad_fn=<SelectBackward0>)\n",
            "current_label:  tensor([130.0000, 270.5000, 182.0000, 281.0000,   1.0000], device='cuda:0')\n",
            "current_pred:   tensor([ 262.5180,  128.9187,  107.2827, -123.5958,   44.0949,  282.3201,\n",
            "         126.4337,  141.6506,  173.9991,   46.5718], device='cuda:0',\n",
            "       grad_fn=<SelectBackward0>)\n",
            "current_label:  tensor([268.0000, 136.5000,  76.0000,  79.0000,   1.0000], device='cuda:0')\n",
            "current_pred:   tensor([ 2.4795e+02,  1.7136e+02,  1.5116e+02,  1.8927e+02,  1.0507e+02,\n",
            "         2.3763e+02,  1.7568e+02, -1.9329e+02,  2.3373e+02, -1.4666e-01],\n",
            "       device='cuda:0', grad_fn=<SelectBackward0>)\n",
            "current_label:  tensor([246., 166., 226., 164.,   1.], device='cuda:0')\n",
            "current_pred:   tensor([ 240.8943,  222.1113,  158.5516,  221.0654,   99.7905,  225.3229,\n",
            "         213.4964, -212.8413,  249.3622,   -1.2988], device='cuda:0',\n",
            "       grad_fn=<SelectBackward0>)\n",
            "current_label:  tensor([241.5000, 246.5000, 165.0000, 279.0000,   1.0000], device='cuda:0')\n",
            "current_pred:   tensor([ 216.0364,  184.6893,  150.7691,  197.5063,  101.6732,  230.2139,\n",
            "         174.5107, -205.3471,  234.4730,   -1.3605], device='cuda:0',\n",
            "       grad_fn=<SelectBackward0>)\n",
            "current_label:  tensor([216.5000, 188.5000, 149.0000, 193.0000,   1.0000], device='cuda:0')\n",
            "current_pred:   tensor([ 319.8405,   79.8130,   64.5816,  -77.3414,   -0.9497,  146.4369,\n",
            "          96.3026, -109.3943,  -87.0512,    0.3364], device='cuda:0',\n",
            "       grad_fn=<SelectBackward0>)\n",
            "current_label:  tensor([330.,  84.,  42.,  64.,   1.], device='cuda:0')\n",
            "current_pred:   tensor([ 214.9163,  130.8299, -202.5603,  163.4309,    0.4529,  216.1547,\n",
            "         101.3464,   76.6409,   89.1471,   89.5087], device='cuda:0',\n",
            "       grad_fn=<SelectBackward0>)\n",
            "current_label:  tensor([207.5000,  94.0000,  63.0000,  56.0000,   1.0000], device='cuda:0')\n",
            "current_pred:   tensor([292.3084, 227.3380, 124.2154, 177.7709,  97.5011, 309.5966, 208.5429,\n",
            "         12.6822,   1.5389,   8.3632], device='cuda:0',\n",
            "       grad_fn=<SelectBackward0>)\n",
            "current_label:  tensor([289.5000, 225.0000,  13.0000,  32.0000,   1.0000], device='cuda:0')\n",
            "current_pred:   tensor([ 209.9947,  202.1636,  144.1233,  207.6742,   98.2715,  213.7509,\n",
            "         206.1030, -218.3166,  247.8342,   -2.2425], device='cuda:0',\n",
            "       grad_fn=<SelectBackward0>)\n",
            "current_label:  tensor([204.0000, 196.5000, 122.0000, 167.0000,   1.0000], device='cuda:0')\n",
            "current_pred:   tensor([ 3.0805e+02,  2.0813e+02,  1.2508e+02,  1.8098e+02,  9.6935e+01,\n",
            "         3.0863e+02,  1.9584e+02,  1.6355e+01, -2.3009e-01,  7.7460e+00],\n",
            "       device='cuda:0', grad_fn=<SelectBackward0>)\n",
            "current_label:  tensor([303.5000, 213.0000,  49.0000, 100.0000,   1.0000], device='cuda:0')\n",
            "current_pred:   tensor([ 2.0995e+02,  1.2706e+02, -2.3049e+02,  1.7662e+02,  8.7367e-02,\n",
            "         2.3400e+02,  9.2493e+01,  8.5793e+01,  1.0153e+02,  1.1172e+02],\n",
            "       device='cuda:0', grad_fn=<SelectBackward0>)\n",
            "current_label:  tensor([239.5000,  95.0000,  49.0000,  42.0000,   1.0000], device='cuda:0')\n",
            "current_pred:   tensor([ 180.0260,  211.5378, -134.6373,  179.1128,   -1.1144,  166.7344,\n",
            "         196.7075,   82.2034,  126.5957,   20.2463], device='cuda:0',\n",
            "       grad_fn=<SelectBackward0>)\n",
            "current_label:  tensor([168.0000, 200.5000,  26.0000,  43.0000,   1.0000], device='cuda:0')\n",
            "current_pred:   tensor([338.7363, 202.4591,  57.3406, -94.9021,  74.1285, -32.0438, -13.6243,\n",
            "         13.4498,  30.7739,  -0.5410], device='cuda:0',\n",
            "       grad_fn=<SelectBackward0>)\n",
            "current_label:  tensor([346.0000, 212.5000,  46.0000,  99.0000,   1.0000], device='cuda:0')\n",
            "current_pred:   tensor([ 210.0581,  124.9480, -228.6908,  174.2740,    1.1211,  213.4277,\n",
            "          76.0142,   70.7837,   79.4803,   72.1179], device='cuda:0',\n",
            "       grad_fn=<SelectBackward0>)\n",
            "current_label:  tensor([200.,  84.,  62.,  64.,   1.], device='cuda:0')\n",
            "current_pred:   tensor([ 264.3040,  171.8158,  123.1172, -149.9772,   40.6617,  289.2201,\n",
            "         140.8537,  142.9255,  173.8445,   49.7637], device='cuda:0',\n",
            "       grad_fn=<SelectBackward0>)\n",
            "current_label:  tensor([276.5000, 171.5000, 167.0000, 217.0000,   1.0000], device='cuda:0')\n",
            "current_pred:   tensor([ 3.5314e+02,  1.1365e+02,  5.9926e+01, -6.9821e+01,  5.8179e+00,\n",
            "         1.1028e+02,  9.9557e+01, -1.0447e+02, -7.8023e+01,  3.4287e-01],\n",
            "       device='cuda:0', grad_fn=<SelectBackward0>)\n",
            "current_label:  tensor([360.0000,  75.5000,  22.0000,  45.0000,   1.0000], device='cuda:0')\n",
            "current_pred:   tensor([ 301.1224,  124.7657,   97.0971, -106.0429,   49.7075,  294.0417,\n",
            "         128.4721,  129.8922,  167.1745,   48.3399], device='cuda:0',\n",
            "       grad_fn=<SelectBackward0>)\n",
            "current_label:  tensor([314., 134.,  40., 102.,   1.], device='cuda:0')\n",
            "current_pred:   tensor([ 207.4997,  190.6552,  193.4435,  242.2800,   -4.1696,  203.4922,\n",
            "         199.0415, -231.2812,  241.5599,   -1.5713], device='cuda:0',\n",
            "       grad_fn=<SelectBackward0>)\n",
            "current_label:  tensor([202.0000, 198.5000, 208.0000, 261.0000,   1.0000], device='cuda:0')\n",
            "current_pred:   tensor([ 212.1318,  169.4534,  154.4542,  194.0990,  116.8291,  229.9827,\n",
            "         173.1745, -205.7028,  234.7925,   -1.1894], device='cuda:0',\n",
            "       grad_fn=<SelectBackward0>)\n",
            "current_label:  tensor([218., 141., 194., 174.,   1.], device='cuda:0')\n",
            "current_pred:   tensor([301.6599, 217.6031, 135.7832, 195.7880,  98.6635, 308.5195, 204.1385,\n",
            "         20.4976,   1.8208,   6.5693], device='cuda:0',\n",
            "       grad_fn=<SelectBackward0>)\n",
            "current_label:  tensor([276.0000, 221.5000, 108.0000, 201.0000,   1.0000], device='cuda:0')\n",
            "current_pred:   tensor([ 325.6261,  168.3899,  -65.8969, -107.7561,    9.7474,  -24.1320,\n",
            "         -48.9920,  119.1563,  -33.8388,    1.9168], device='cuda:0',\n",
            "       grad_fn=<SelectBackward0>)\n",
            "current_label:  tensor([327.5000, 190.0000,  71.0000, 166.0000,   1.0000], device='cuda:0')\n",
            "current_pred:   tensor([250.8795, 137.4122,  79.1629, -88.1948,  -8.7707, 286.3418, 132.5386,\n",
            "        153.2468, 167.1688,   0.4478], device='cuda:0',\n",
            "       grad_fn=<SelectBackward0>)\n",
            "current_label:  tensor([272.5000, 167.0000,  37.0000,  72.0000,   1.0000], device='cuda:0')\n",
            "current_pred:   tensor([267.4377, 344.2814,  49.3517, -99.6810,   8.4662,  53.9678,  63.3828,\n",
            "         29.1023, -28.5018,  -0.7591], device='cuda:0',\n",
            "       grad_fn=<SelectBackward0>)\n",
            "current_label:  tensor([307.5000, 343.5000,  59.0000,  71.0000,   1.0000], device='cuda:0')\n",
            "current_pred:   tensor([ 202.8461,  162.7049,  142.1224,  178.9873,  112.1973,  231.3741,\n",
            "         170.5442, -202.0693,  230.2184,   -1.2837], device='cuda:0',\n",
            "       grad_fn=<SelectBackward0>)\n",
            "current_label:  tensor([192.0000, 152.5000, 108.0000, 207.0000,   1.0000], device='cuda:0')\n",
            "current_pred:   tensor([ 1.4807e+02,  1.7523e+02, -2.1634e+02,  2.1971e+02, -1.3316e-01,\n",
            "         8.9063e+01,  1.5030e+02, -9.2058e+01, -1.2379e+02,  4.1367e+00],\n",
            "       device='cuda:0', grad_fn=<SelectBackward0>)\n",
            "current_label:  tensor([120.0000, 173.5000, 210.0000, 331.0000,   1.0000], device='cuda:0')\n",
            "current_pred:   tensor([ 241.1848,  219.1444,  138.5780,  202.0537,    8.0167,  212.5505,\n",
            "         190.5016, -206.9664,  240.6059,   -2.2870], device='cuda:0',\n",
            "       grad_fn=<SelectBackward0>)\n",
            "current_label:  tensor([255., 218., 150., 148.,   1.], device='cuda:0')\n",
            "current_pred:   tensor([283.1201, 137.7247,  62.0558, -57.3615, -11.1026, 282.4324, 145.3442,\n",
            "        148.8279, 171.1864,   2.0958], device='cuda:0',\n",
            "       grad_fn=<SelectBackward0>)\n",
            "current_label:  tensor([290.5000, 172.5000, 165.0000, 215.0000,   1.0000], device='cuda:0')\n",
            "current_pred:   tensor([ 303.4189,  281.0130,   93.7698,  127.5729,   73.0394,  248.8329,\n",
            "         276.0925, -128.4068,  168.8380,    4.9778], device='cuda:0',\n",
            "       grad_fn=<SelectBackward0>)\n",
            "current_label:  tensor([277.5000, 260.5000, 173.0000, 241.0000,   1.0000], device='cuda:0')\n",
            "current_pred:   tensor([ 157.2446,  174.1200,  117.3841,  141.9404,  107.4460,  171.7070,\n",
            "         162.4966, -163.1090,  208.0242,    1.8111], device='cuda:0',\n",
            "       grad_fn=<SelectBackward0>)\n",
            "current_label:  tensor([161.5000, 176.5000,  73.0000, 141.0000,   1.0000], device='cuda:0')\n",
            "current_pred:   tensor([357.4545, 311.4448,  58.3689, -85.6294,  83.6507, 321.3086, 272.1943,\n",
            "        129.0278, 184.1202,  16.6711], device='cuda:0',\n",
            "       grad_fn=<SelectBackward0>)\n",
            "current_label:  tensor([345.5000, 310.5000,  79.0000, 121.0000,   1.0000], device='cuda:0')\n",
            "current_pred:   tensor([ 221.7946,  183.0129,  175.4168,  220.5549,   23.6335,  229.5813,\n",
            "         175.6830, -188.8133,  218.6146,    0.2698], device='cuda:0',\n",
            "       grad_fn=<SelectBackward0>)\n",
            "current_label:  tensor([219.5000, 182.0000, 215.0000, 286.0000,   1.0000], device='cuda:0')\n",
            "current_pred:   tensor([ 243.6846,  222.0271,  167.9485,  228.4734,  102.0556,  227.1900,\n",
            "         213.1922, -212.1627,  249.9263,   -0.7057], device='cuda:0',\n",
            "       grad_fn=<SelectBackward0>)\n",
            "current_label:  tensor([248., 244., 190., 290.,   1.], device='cuda:0')\n",
            "current_pred:   tensor([ 262.9612,  148.0435,  126.7509,  162.4249,   22.2826,  235.2863,\n",
            "         172.6245, -169.8789,  204.8209,    2.7449], device='cuda:0',\n",
            "       grad_fn=<SelectBackward0>)\n",
            "current_label:  tensor([242.0000, 136.5000,  58.0000,  59.0000,   1.0000], device='cuda:0')\n",
            "current_pred:   tensor([ 3.6086e+02,  2.0669e+02,  6.3585e+01, -8.5460e+01, -2.4584e+00,\n",
            "        -4.6410e+01,  5.7240e+00,  2.4036e+01,  2.0490e+01, -9.4672e-02],\n",
            "       device='cuda:0', grad_fn=<SelectBackward0>)\n",
            "current_label:  tensor([369.0000, 238.5000,  10.0000,  23.0000,   1.0000], device='cuda:0')\n",
            "current_pred:   tensor([ 144.2470,  119.4251,  115.1209,  131.5205,    2.8584,  177.7642,\n",
            "         152.3188, -175.1041,  172.4242,    0.5252], device='cuda:0',\n",
            "       grad_fn=<SelectBackward0>)\n",
            "current_label:  tensor([151.0000, 132.5000, 234.0000, 263.0000,   1.0000], device='cuda:0')\n",
            "current_pred:   tensor([ 155.3013,  170.4884, -228.2061,  249.6043,   -1.5871,   81.6491,\n",
            "         166.4308,  -91.8862, -141.9161,  109.9690], device='cuda:0',\n",
            "       grad_fn=<SelectBackward0>)\n",
            "current_label:  tensor([ 78., 177.,  84., 198.,   1.], device='cuda:0')\n",
            "current_pred:   tensor([ 237.0376,  171.2338,  133.7169,  175.3362,  105.2122,  238.7147,\n",
            "         175.0693, -196.1458,  231.4859,   -1.3444], device='cuda:0',\n",
            "       grad_fn=<SelectBackward0>)\n",
            "current_label:  tensor([233.0000, 163.5000, 118.0000, 263.0000,   1.0000], device='cuda:0')\n",
            "current_pred:   tensor([ 2.0290e+02,  3.2039e+02, -2.1200e+02,  2.3945e+02,  1.6386e-01,\n",
            "         2.0694e+02,  2.7395e+02,  7.6838e+01, -1.5909e+02,  4.2052e+01],\n",
            "       device='cuda:0', grad_fn=<SelectBackward0>)\n",
            "current_label:  tensor([236.0000, 269.5000, 250.0000, 263.0000,   1.0000], device='cuda:0')\n",
            "current_pred:   tensor([ 170.2974,  134.9797,  115.2612,  141.5689,  109.7868,  180.4974,\n",
            "         151.1325, -166.4142,  206.2513,    1.3965], device='cuda:0',\n",
            "       grad_fn=<SelectBackward0>)\n",
            "current_label:  tensor([176.5000, 139.5000,  75.0000, 153.0000,   1.0000], device='cuda:0')\n",
            "current_pred:   tensor([ 224.7470,  169.7512,  141.1494,  181.3598,  110.9998,  234.0020,\n",
            "         174.0783, -198.1181,  231.5992,   -0.9150], device='cuda:0',\n",
            "       grad_fn=<SelectBackward0>)\n",
            "current_label:  tensor([229.0000, 161.5000, 140.0000, 247.0000,   1.0000], device='cuda:0')\n",
            "current_pred:   tensor([ 169.3542,  229.8905, -135.4442,  202.5991,    2.4517,  186.9665,\n",
            "         211.2504,  108.0187,  174.1388,  109.3871], device='cuda:0',\n",
            "       grad_fn=<SelectBackward0>)\n",
            "current_label:  tensor([168.0000, 226.5000,  82.0000, 199.0000,   1.0000], device='cuda:0')\n",
            "current_pred:   tensor([ 239.7126,  144.3008,  145.2848,  176.6861,  109.0147,  235.3583,\n",
            "         174.0128, -189.0668,  231.2785,   -0.9979], device='cuda:0',\n",
            "       grad_fn=<SelectBackward0>)\n",
            "current_label:  tensor([238.5000, 141.0000, 137.0000, 168.0000,   1.0000], device='cuda:0')\n",
            "current_pred:   tensor([ 185.6319,  145.9267,  124.4756,  149.4790,  112.5658,  188.0275,\n",
            "         154.9272, -167.3533,  210.8210,    1.4016], device='cuda:0',\n",
            "       grad_fn=<SelectBackward0>)\n",
            "current_label:  tensor([190.5000, 141.0000,  57.0000, 126.0000,   1.0000], device='cuda:0')\n",
            "current_pred:   tensor([ 241.5709,  252.2269,  177.9516,  239.1158,   45.4745,  220.1387,\n",
            "         210.6191, -210.8225,  238.5841,    0.6214], device='cuda:0',\n",
            "       grad_fn=<SelectBackward0>)\n",
            "current_label:  tensor([251., 229., 284., 312.,   1.], device='cuda:0')\n",
            "current_pred:   tensor([ 179.6842,  112.2086,   77.3806, -106.6828,  112.3021,  -65.1488,\n",
            "          20.1145,  -12.0841,   25.3068,   -0.5970], device='cuda:0',\n",
            "       grad_fn=<SelectBackward0>)\n",
            "current_label:  tensor([146.5000, 102.5000, 121.0000,  75.0000,   1.0000], device='cuda:0')\n",
            "current_pred:   tensor([ 166.1528,  219.3131, -135.9055,  201.7088,    1.5206,  188.0239,\n",
            "         196.9612,  112.7662,  177.4379,  105.7120], device='cuda:0',\n",
            "       grad_fn=<SelectBackward0>)\n",
            "current_label:  tensor([189., 207., 100., 128.,   1.], device='cuda:0')\n",
            "current_pred:   tensor([417.1149, 375.6998, 132.4500, -56.9025,  -8.2700,  12.2467,   7.0892,\n",
            "        -20.3925, -43.4513,   0.4716], device='cuda:0',\n",
            "       grad_fn=<SelectBackward0>)\n",
            "current_label:  tensor([395., 359.,  58., 104.,   1.], device='cuda:0')\n",
            "current_pred:   tensor([ 236.9561,  140.8152,  135.7801,  163.8861,  109.1352,  235.5664,\n",
            "         171.1347, -187.7053,  230.4364,   -0.9728], device='cuda:0',\n",
            "       grad_fn=<SelectBackward0>)\n",
            "current_label:  tensor([226.0000, 130.5000, 106.0000, 141.0000,   1.0000], device='cuda:0')\n",
            "current_pred:   tensor([291.1220, 131.6290,  93.3688, -99.3939,  36.7583, 286.4442, 131.1808,\n",
            "        135.1630, 168.3419,  41.9541], device='cuda:0',\n",
            "       grad_fn=<SelectBackward0>)\n",
            "current_label:  tensor([307.0000, 141.5000,  34.0000,  81.0000,   1.0000], device='cuda:0')\n",
            "current_pred:   tensor([ 227.9458,  223.2946,  151.5288,  214.0768,  102.7029,  221.5734,\n",
            "         212.6576, -216.3688,  247.9959,   -2.4436], device='cuda:0',\n",
            "       grad_fn=<SelectBackward0>)\n",
            "current_label:  tensor([220.5000, 220.0000, 125.0000, 188.0000,   1.0000], device='cuda:0')\n",
            "current_pred:   tensor([ 210.4841,  125.0784, -228.1480,  178.6140,    0.5413,  220.6994,\n",
            "         115.3989,   94.6111,  115.4933,  106.4054], device='cuda:0',\n",
            "       grad_fn=<SelectBackward0>)\n",
            "current_label:  tensor([211.0000, 109.5000, 114.0000, 103.0000,   1.0000], device='cuda:0')\n",
            "current_pred:   tensor([ 199.2715,  312.2867, -216.8661,  236.6449,   -0.8796,  216.2099,\n",
            "         275.8688,  121.7361, -186.3991,   66.2962], device='cuda:0',\n",
            "       grad_fn=<SelectBackward0>)\n",
            "current_label:  tensor([227.0000, 270.5000, 218.0000, 327.0000,   1.0000], device='cuda:0')\n",
            "current_pred:   tensor([ 210.4483,  126.8144, -229.8364,  177.5557,    0.8622,  237.6820,\n",
            "         105.5679,   91.1201,  109.9642,  108.6924], device='cuda:0',\n",
            "       grad_fn=<SelectBackward0>)\n",
            "current_label:  tensor([236.5000, 111.5000,  71.0000, 143.0000,   1.0000], device='cuda:0')\n",
            "current_pred:   tensor([ 267.4249,  170.2841,  119.6445, -145.5209,   40.7523,  290.5977,\n",
            "         142.2515,  143.5594,  174.2110,   49.3501], device='cuda:0',\n",
            "       grad_fn=<SelectBackward0>)\n",
            "current_label:  tensor([274.5000, 165.0000, 131.0000, 168.0000,   1.0000], device='cuda:0')\n",
            "current_pred:   tensor([ 207.1050,  126.6635, -225.1914,  171.7311,    0.8452,  225.2726,\n",
            "          85.0283,   83.5975,   91.1214,  105.9594], device='cuda:0',\n",
            "       grad_fn=<SelectBackward0>)\n",
            "current_label:  tensor([219.0000,  85.5000,  64.0000,  73.0000,   1.0000], device='cuda:0')\n",
            "current_pred:   tensor([ 182.2135,  206.5800, -122.3408,  169.6785,   -1.6870,  166.8549,\n",
            "         209.5087,   81.1945,  117.0549,    2.6085], device='cuda:0',\n",
            "       grad_fn=<SelectBackward0>)\n",
            "current_label:  tensor([183.0000, 212.5000, 168.0000, 329.0000,   1.0000], device='cuda:0')\n",
            "current_pred:   tensor([-12.2668, -12.2842,   6.4253,  -6.4973,   2.7571,  34.0765,  30.3290,\n",
            "        -89.3346,  89.3447,  -0.7864], device='cuda:0',\n",
            "       grad_fn=<SelectBackward0>)\n",
            "current_label:  tensor([1., 1., 0., 0., 1.], device='cuda:0')\n",
            "current_pred:   tensor([ 4.4257e+02,  3.8137e+02,  1.4504e+02, -4.4467e+01,  8.8478e+00,\n",
            "         1.5223e+01, -4.4933e+00, -2.1453e+01, -4.7158e+01, -3.3003e-01],\n",
            "       device='cuda:0', grad_fn=<SelectBackward0>)\n",
            "current_label:  tensor([408.5000, 332.0000,  33.0000,  64.0000,   1.0000], device='cuda:0')\n",
            "current_pred:   tensor([ 224.7165,  233.4786,  153.4971,  217.0623,   99.6434,  222.2276,\n",
            "         216.1825, -215.3151,  243.5432,   -1.9960], device='cuda:0',\n",
            "       grad_fn=<SelectBackward0>)\n",
            "current_label:  tensor([223.5000, 231.5000, 117.0000, 225.0000,   1.0000], device='cuda:0')\n",
            "current_pred:   tensor([ 253.1753,  177.5865,  134.1164,  179.1342,   59.2005,  239.7738,\n",
            "         180.7465, -185.1386,  222.2192,    1.5502], device='cuda:0',\n",
            "       grad_fn=<SelectBackward0>)\n",
            "current_label:  tensor([253.5000, 191.5000, 179.0000, 233.0000,   1.0000], device='cuda:0')\n",
            "current_pred:   tensor([ 317.7411,  106.3419, -131.8558,   98.5969,    5.0725,  311.6752,\n",
            "         105.6258,   39.5311,   76.8003,   28.6579], device='cuda:0',\n",
            "       grad_fn=<SelectBackward0>)\n",
            "current_label:  tensor([312.5000, 111.5000, 103.0000,  77.0000,   1.0000], device='cuda:0')\n",
            "current_pred:   tensor([ 230.4557,  138.4637,  131.4490,  158.7357,  110.1666,  235.3396,\n",
            "         169.3379, -189.9601,  229.5387,   -1.0979], device='cuda:0',\n",
            "       grad_fn=<SelectBackward0>)\n",
            "current_label:  tensor([220., 130.,  80., 120.,   1.], device='cuda:0')\n",
            "current_pred:   tensor([ 208.0551,  130.8346, -224.7262,  170.2635,    0.5574,  237.9891,\n",
            "         103.3958,   90.7151,  108.4333,  102.0867], device='cuda:0',\n",
            "       grad_fn=<SelectBackward0>)\n",
            "current_label:  tensor([224.5000,  99.5000,  57.0000,  79.0000,   1.0000], device='cuda:0')\n",
            "current_pred:   tensor([279.0374, 212.1232, 149.6555, 210.3174,  97.9516, 295.9237, 198.6513,\n",
            "         17.1171,   0.3932,   4.3888], device='cuda:0',\n",
            "       grad_fn=<SelectBackward0>)\n",
            "current_label:  tensor([269.5000, 216.5000, 131.0000, 241.0000,   1.0000], device='cuda:0')\n",
            "current_pred:   tensor([ 260.2685,  127.9202,   97.5784, -105.2980,   12.4319,  262.7346,\n",
            "         130.2906,  140.9404,  155.3270,    8.9313], device='cuda:0',\n",
            "       grad_fn=<SelectBackward0>)\n",
            "current_label:  tensor([286.5000, 128.0000,  51.0000, 122.0000,   1.0000], device='cuda:0')\n",
            "current_pred:   tensor([ 198.5263,  148.9197,  138.5576,  167.8955,   88.1685,  229.5214,\n",
            "         164.5311, -195.5291,  219.1294,   -0.6189], device='cuda:0',\n",
            "       grad_fn=<SelectBackward0>)\n",
            "current_label:  tensor([198., 135., 158., 222.,   1.], device='cuda:0')\n",
            "current_pred:   tensor([ 245.1311,  160.3716,  101.6120,  119.3021,   14.2965,  232.1499,\n",
            "         168.3022, -172.0853,  194.1819,   -2.2554], device='cuda:0',\n",
            "       grad_fn=<SelectBackward0>)\n",
            "current_label:  tensor([241.0000, 165.5000, 102.0000, 175.0000,   1.0000], device='cuda:0')\n",
            "current_pred:   tensor([ 170.1058,  161.1933,  121.5491,  149.5006,  112.4228,  181.8994,\n",
            "         159.3424, -169.9849,  211.7566,    1.4863], device='cuda:0',\n",
            "       grad_fn=<SelectBackward0>)\n",
            "current_label:  tensor([175., 173., 170., 226.,   1.], device='cuda:0')\n",
            "current_pred:   tensor([ 219.8568,  182.1177,  149.7989,  189.8195,    9.4447,  221.2103,\n",
            "         160.1599, -182.0809,  205.2847,   -1.4807], device='cuda:0',\n",
            "       grad_fn=<SelectBackward0>)\n",
            "current_label:  tensor([197.5000, 191.0000, 207.0000, 278.0000,   1.0000], device='cuda:0')\n",
            "current_pred:   tensor([ 254.3168,  166.2012,  128.0446, -155.9038,   -5.9236,  279.8103,\n",
            "         142.8085,  147.9685,  171.0516,   15.1689], device='cuda:0',\n",
            "       grad_fn=<SelectBackward0>)\n",
            "current_label:  tensor([263., 179., 150., 206.,   1.], device='cuda:0')\n",
            "current_pred:   tensor([428.9673, 296.5754, -71.6818,  71.4439,  -0.9872, 401.1225, 287.0941,\n",
            "         20.1737, -15.5126,  -4.0623], device='cuda:0',\n",
            "       grad_fn=<SelectBackward0>)\n",
            "current_label:  tensor([416.5000, 318.5000,  13.0000,  13.0000,   1.0000], device='cuda:0')\n",
            "current_pred:   tensor([ 270.9280,  160.7574,  114.9051, -137.2521,   42.9094,  292.4000,\n",
            "         137.4298,  144.3853,  175.1326,   46.7931], device='cuda:0',\n",
            "       grad_fn=<SelectBackward0>)\n",
            "current_label:  tensor([278.5000, 181.5000,  43.0000, 125.0000,   1.0000], device='cuda:0')\n",
            "current_pred:   tensor([ 207.9666,  123.0081, -227.0711,  172.8784,    0.4187,  219.8536,\n",
            "          79.7941,   76.8900,   89.6939,  110.4011], device='cuda:0',\n",
            "       grad_fn=<SelectBackward0>)\n",
            "current_label:  tensor([216.0000,  78.5000,  52.0000,  65.0000,   1.0000], device='cuda:0')\n",
            "current_pred:   tensor([ 209.6913,  127.5544, -229.9460,  175.2358,    0.6303,  244.7133,\n",
            "          89.6318,   86.4357,   99.3354,  111.0463], device='cuda:0',\n",
            "       grad_fn=<SelectBackward0>)\n",
            "current_label:  tensor([245.0000,  99.5000, 130.0000, 159.0000,   1.0000], device='cuda:0')\n",
            "current_pred:   tensor([ 210.2588,  172.9358,  142.7604,  189.6513,   98.5352,  228.0989,\n",
            "         173.9035, -197.9746,  233.9175,   -1.1991], device='cuda:0',\n",
            "       grad_fn=<SelectBackward0>)\n",
            "current_label:  tensor([208.5000, 165.5000, 233.0000, 323.0000,   1.0000], device='cuda:0')\n",
            "current_pred:   tensor([ 195.6580,  197.2360,  191.2448,  241.0239,   -3.2580,  197.7996,\n",
            "         199.5757, -231.3961,  241.4098,   -1.1069], device='cuda:0',\n",
            "       grad_fn=<SelectBackward0>)\n",
            "current_label:  tensor([203.0000, 194.5000, 262.0000, 213.0000,   1.0000], device='cuda:0')\n",
            "current_pred:   tensor([ 335.6335,  242.5545,   76.1924, -136.2624,   88.1325,  -41.8328,\n",
            "           5.0359,   17.8563,   26.0930,   -0.4531], device='cuda:0',\n",
            "       grad_fn=<SelectBackward0>)\n",
            "current_label:  tensor([331.0000, 252.5000, 130.0000, 231.0000,   1.0000], device='cuda:0')\n",
            "current_pred:   tensor([333.6553, 282.4865,  45.4701, -75.6275,  20.0492, 294.2982, 265.2175,\n",
            "        140.5644, 170.5085,   4.6446], device='cuda:0',\n",
            "       grad_fn=<SelectBackward0>)\n",
            "current_label:  tensor([325.0000, 298.5000,  72.0000, 167.0000,   1.0000], device='cuda:0')\n",
            "current_pred:   tensor([ 208.6336,  127.7279, -228.2813,  174.0305,    1.1333,  234.6886,\n",
            "          86.9315,   82.0692,   94.2067,  106.3258], device='cuda:0',\n",
            "       grad_fn=<SelectBackward0>)\n",
            "current_label:  tensor([223.,  91.,  32.,  74.,   1.], device='cuda:0')\n",
            "current_pred:   tensor([ 2.0799e+02,  1.2944e+02, -2.2577e+02,  1.7990e+02,  8.3303e-02,\n",
            "         2.4140e+02,  1.1717e+02,  9.3725e+01,  1.2820e+02,  2.4740e+01],\n",
            "       device='cuda:0', grad_fn=<SelectBackward0>)\n",
            "current_label:  tensor([236., 127.,  82.,  72.,   1.], device='cuda:0')\n",
            "current_pred:   tensor([ 215.4795,  181.4237,  146.7053,  192.4004,  103.4868,  233.8086,\n",
            "         175.2686, -203.0917,  233.7069,   -1.5956], device='cuda:0',\n",
            "       grad_fn=<SelectBackward0>)\n",
            "current_label:  tensor([220.5000, 175.0000, 201.0000, 220.0000,   1.0000], device='cuda:0')\n",
            "current_pred:   tensor([292.8329, 205.0451, 133.1575, 186.3777,  82.3788, 296.3586, 199.8754,\n",
            "         28.8188,  10.3777,   4.9577], device='cuda:0',\n",
            "       grad_fn=<SelectBackward0>)\n",
            "current_label:  tensor([270., 195., 152., 200.,   1.], device='cuda:0')\n",
            "current_pred:   tensor([ 173.3705,  227.3557, -127.4736,  187.7051,    0.4923,  169.0481,\n",
            "         238.6252,   92.1970,  140.2899,    8.0663], device='cuda:0',\n",
            "       grad_fn=<SelectBackward0>)\n",
            "current_label:  tensor([191.5000, 232.0000, 133.0000, 136.0000,   1.0000], device='cuda:0')\n",
            "current_pred:   tensor([425.4908, 360.6969, 138.8255, -49.0313,   7.2011,  16.1482,  10.2163,\n",
            "        -10.7247, -54.0516,   1.1772], device='cuda:0',\n",
            "       grad_fn=<SelectBackward0>)\n",
            "current_label:  tensor([393., 381.,  56.,  92.,   1.], device='cuda:0')\n",
            "current_pred:   tensor([ 241.7699,  177.2225,  154.2772,  198.7217,  106.0263,  235.0675,\n",
            "         177.7598, -196.9166,  233.9194,   -0.5288], device='cuda:0',\n",
            "       grad_fn=<SelectBackward0>)\n",
            "current_label:  tensor([247., 164., 130., 172.,   1.], device='cuda:0')\n",
            "current_pred:   tensor([ 233.0784,  177.6078,  154.3314,  197.1996,  107.0957,  234.2095,\n",
            "         175.6146, -199.0486,  233.8776,   -0.7103], device='cuda:0',\n",
            "       grad_fn=<SelectBackward0>)\n",
            "current_label:  tensor([236.5000, 167.5000, 165.0000, 229.0000,   1.0000], device='cuda:0')\n",
            "current_pred:   tensor([ 228.8398,  203.0040,  159.0558,  219.3459,  100.4090,  219.5077,\n",
            "         206.7985, -217.4715,  251.7742,   -2.0073], device='cuda:0',\n",
            "       grad_fn=<SelectBackward0>)\n",
            "current_label:  tensor([221.0000, 209.5000, 206.0000, 273.0000,   1.0000], device='cuda:0')\n",
            "current_pred:   tensor([ 211.7829,  126.2728, -212.0108,  166.0562,    0.5340,  227.1609,\n",
            "          72.6760,   71.1908,   72.4913,   81.8858], device='cuda:0',\n",
            "       grad_fn=<SelectBackward0>)\n",
            "current_label:  tensor([216.0000,  90.5000, 184.0000, 179.0000,   1.0000], device='cuda:0')\n",
            "current_pred:   tensor([ 207.0381,  126.8183, -231.9464,  178.6880,    0.4827,  243.4160,\n",
            "         115.4359,  102.1248,  127.1843,   92.2321], device='cuda:0',\n",
            "       grad_fn=<SelectBackward0>)\n",
            "current_label:  tensor([245.0000, 121.5000, 118.0000, 143.0000,   1.0000], device='cuda:0')\n",
            "current_pred:   tensor([ 234.9489,  203.8032,  157.9245,  219.0383,  103.0250,  221.3527,\n",
            "         205.7530, -213.6827,  251.6590,   -1.4047], device='cuda:0',\n",
            "       grad_fn=<SelectBackward0>)\n",
            "current_label:  tensor([234.0000, 209.5000, 196.0000, 229.0000,   1.0000], device='cuda:0')\n",
            "current_pred:   tensor([ 3.3760e+02,  1.6743e+02, -6.9686e+01, -1.1988e+02,  8.6219e+01,\n",
            "        -1.2113e+01, -3.8634e+01,  1.0874e+02, -2.5462e+01,  1.3773e-01],\n",
            "       device='cuda:0', grad_fn=<SelectBackward0>)\n",
            "current_label:  tensor([343.5000, 168.5000,  45.0000,  73.0000,   1.0000], device='cuda:0')\n",
            "current_pred:   tensor([ 268.0492,  113.3175, -121.0125,  129.3780,   -0.7192,  269.0996,\n",
            "         118.8853,   53.3041,  106.3555,  110.1730], device='cuda:0',\n",
            "       grad_fn=<SelectBackward0>)\n",
            "current_label:  tensor([266.5000, 121.5000,  69.0000, 129.0000,   1.0000], device='cuda:0')\n",
            "current_pred:   tensor([ 217.9814,  169.9911,  146.9794,  186.8518,  110.0857,  232.4261,\n",
            "         173.6147, -202.0417,  233.3225,   -1.3749], device='cuda:0',\n",
            "       grad_fn=<SelectBackward0>)\n",
            "current_label:  tensor([224.5000, 169.0000, 123.0000, 134.0000,   1.0000], device='cuda:0')\n"
          ]
        }
      ]
    },
    {
      "cell_type": "markdown",
      "metadata": {
        "id": "uqPAJ24EsG2B"
      },
      "source": [
        "we can see the model trained for 60 epochs has average training error of almost 10000 and average evaluation error of 11269. Therefore, this model didnt endure overfitting."
      ]
    },
    {
      "cell_type": "code",
      "metadata": {
        "colab": {
          "base_uri": "https://localhost:8080/"
        },
        "id": "O1-NQpL4rPwH",
        "outputId": "459ac0ec-63e5-49c7-d656-ac2ba9800589"
      },
      "source": [
        "loss.sum()/dataset.__len__()"
      ],
      "execution_count": 30,
      "outputs": [
        {
          "output_type": "execute_result",
          "data": {
            "text/plain": [
              "13595.505199517143"
            ]
          },
          "metadata": {},
          "execution_count": 30
        }
      ]
    },
    {
      "cell_type": "markdown",
      "metadata": {
        "id": "m8YY_Crfywda"
      },
      "source": [
        "# Prediction\n",
        "{'with_mask': 1, 'without_mask': 2, 'mask_weared_incorrect': 3, }\n"
      ]
    },
    {
      "cell_type": "code",
      "metadata": {
        "colab": {
          "base_uri": "https://localhost:8080/"
        },
        "id": "1a2L7jHFy_2r",
        "outputId": "55ceff2b-ef9f-47d7-cc1c-a106bd20d38c"
      },
      "source": [
        "import cv2\n",
        "def bounding_box_show(box, image):\n",
        "  left_top_x = int(box[0]-box[2]/2)\n",
        "  left_top_y = int(box[1]+box[3]/2)\n",
        "  right_bottom_x = int(box[0]+box[2]/2)\n",
        "  right_bottom_y = int(box[1]-box[3]/2)\n",
        "  left = [left_top_x, left_top_y]\n",
        "  right = [right_bottom_x, right_bottom_y]\n",
        "  color = (255, 0, 0) \n",
        "  thickness = 2\n",
        "  img = cv2.rectangle(image, (right[0],right[1]), (left[0],left[1]), color, thickness)\n",
        "  return img\n",
        "\n",
        "def max_index(t):\n",
        "  for index, i in enumerate(t):\n",
        "    if i == max(t):\n",
        "      return index\n",
        "  return -1\n",
        "\n",
        "def classification(pred):\n",
        "  mask = []\n",
        "  face = []\n",
        "  incorrect = []\n",
        "  for i in range(7):\n",
        "    for j in range(7):\n",
        "      onehot = pred[i,j,10:13]\n",
        "      pred_class = max_index(onehot)\n",
        "      if pred_class == 0:\n",
        "        mask.append(pred[i,j])\n",
        "      elif pred_class == 1:\n",
        "        face.append(pred[i,j])\n",
        "      else:\n",
        "        incorrect.append(pred[i,j])\n",
        "  mask = move_the_bad(mask)\n",
        "  face = move_the_bad(face)\n",
        "  incorrect = move_the_bad(incorrect)\n",
        "  return mask, face, incorrect\n",
        "\n",
        "def move_the_bad(boxes):\n",
        "  for index, box in enumerate(boxes):\n",
        "    if box[4]>=box[9]:\n",
        "      box = torch.cat((box[0:5],box[10:13]),dim=0)\n",
        "    else:\n",
        "      box = torch.cat((box[5:10],box[10:13]),dim=0)\n",
        "    boxes[index] = box\n",
        "  return boxes\n",
        "\n",
        "def NMS(boxes):\n",
        "  maximum = 0\n",
        "  best_box = None\n",
        "  for index,box in enumerate(boxes):\n",
        "    if box[4]>maximum:\n",
        "      maximum = box[4]\n",
        "      best_box = box\n",
        "  return boxes\n",
        "\n",
        "\n",
        "def predict(img):\n",
        "  pred = model(img)\n",
        "  pred = pred.squeeze(dim=0)\n",
        "  pred = pred.permute((1,2,0))\n",
        "  mask, face, incorrect = classification(pred)\n",
        "  mask = NMS(mask)\n",
        "  face = NMS(face)\n",
        "  incorrect = NMS(incorrect)\n",
        "  return mask, face, incorrect\n",
        "\n",
        "img3, label3 = dataset.__getitem__(3)\n",
        "img3 = img3.resize(1,img3.shape[0],img3.shape[1],img3.shape[2]).float().cuda()\n",
        "mask, face, incorrect = predict(img3)"
      ],
      "execution_count": 31,
      "outputs": [
        {
          "output_type": "stream",
          "name": "stderr",
          "text": [
            "/usr/local/lib/python3.7/dist-packages/torch/_tensor.py:493: UserWarning: non-inplace resize is deprecated\n",
            "  warnings.warn(\"non-inplace resize is deprecated\")\n"
          ]
        }
      ]
    },
    {
      "cell_type": "markdown",
      "metadata": {
        "id": "K-9fzjGnGTYP"
      },
      "source": [
        "only face"
      ]
    },
    {
      "cell_type": "code",
      "metadata": {
        "colab": {
          "base_uri": "https://localhost:8080/"
        },
        "id": "5knSs15oGR6x",
        "outputId": "0ae44082-5b6a-4959-c198-404d74bf9d19"
      },
      "source": [
        "import cv2\n",
        "def bounding_box_show(box, image):\n",
        "  left_top_x = int(box[0]-box[2]/2)\n",
        "  left_top_y = int(box[1]+box[3]/2)\n",
        "  right_bottom_x = int(box[0]+box[2]/2)\n",
        "  right_bottom_y = int(box[1]-box[3]/2)\n",
        "  left = [left_top_x, left_top_y]\n",
        "  right = [right_bottom_x, right_bottom_y]\n",
        "  color = (255, 0, 0) \n",
        "  thickness = 2\n",
        "  img = cv2.rectangle(image, (right[0],right[1]), (left[0],left[1]), color, thickness)\n",
        "  return img\n",
        "\n",
        "def processing(pred):\n",
        "  face = []\n",
        "  for i in range(7):\n",
        "    for j in range(7):\n",
        "      face.append(pred[i,j])\n",
        "  face = NMS(move_the_bad(face))\n",
        "  return face\n",
        "\n",
        "def move_the_bad(boxes):\n",
        "  for index, box in enumerate(boxes):\n",
        "    if box[4]>box[9]:\n",
        "      box = box[0:5]\n",
        "    else:\n",
        "      box = box[5:10]\n",
        "    boxes[index] = box\n",
        "  return boxes\n",
        "\n",
        "def NMS(boxes):\n",
        "  maximum = 0\n",
        "  best_box = None\n",
        "  for index,box in enumerate(boxes):\n",
        "    if box[4]>maximum:\n",
        "      maximum = box[4]\n",
        "      best_box = box\n",
        "  return best_box\n",
        "\n",
        "\n",
        "def predict(img):\n",
        "  pred = model(img)\n",
        "  pred = pred.squeeze(dim=0)\n",
        "  pred = pred.permute((1,2,0))\n",
        "  face = processing(pred)\n",
        "  return face\n",
        "\n",
        "img3, label3 = dataset.__getitem__(9)\n",
        "img3 = img3.resize(1,img3.shape[0],img3.shape[1],img3.shape[2]).float().cuda()\n",
        "result = predict(img3)"
      ],
      "execution_count": 35,
      "outputs": [
        {
          "output_type": "stream",
          "name": "stderr",
          "text": [
            "/usr/local/lib/python3.7/dist-packages/torch/_tensor.py:493: UserWarning: non-inplace resize is deprecated\n",
            "  warnings.warn(\"non-inplace resize is deprecated\")\n"
          ]
        }
      ]
    },
    {
      "cell_type": "code",
      "metadata": {
        "id": "kyn2rM23KIiN",
        "colab": {
          "base_uri": "https://localhost:8080/"
        },
        "outputId": "0fe97e57-892e-4eef-eaad-7733eb977e88"
      },
      "source": [
        "result"
      ],
      "execution_count": 60,
      "outputs": [
        {
          "output_type": "execute_result",
          "data": {
            "text/plain": [
              "tensor([ 71.8343, -33.4635, -18.1172,  30.1056,   3.6405], device='cuda:0',\n",
              "       grad_fn=<SliceBackward0>)"
            ]
          },
          "metadata": {},
          "execution_count": 60
        }
      ]
    },
    {
      "cell_type": "code",
      "metadata": {
        "id": "ucPC0E8mzyIu"
      },
      "source": [
        "def bounding_box_show(box, image):\n",
        "  left_top_x = int(box[0]-box[2]/2)\n",
        "  left_top_y = int(box[1]+box[3]/2)\n",
        "  right_bottom_x = int(box[0]+box[2]/2)\n",
        "  right_bottom_y = int(box[1]-box[3]/2)\n",
        "  left = [left_top_x, left_top_y]\n",
        "  right = [right_bottom_x, right_bottom_y]\n",
        "  color = (255, 0, 0) \n",
        "  thickness = 2\n",
        "  img = cv2.rectangle(image, (right[0],right[1]), (left[0],left[1]), color, thickness)\n",
        "  img = cv2.putText(img,'face',(right[0],right[1]),cv2.FONT_HERSHEY_SIMPLEX,0.5,(0,0,255))\n",
        "  return img"
      ],
      "execution_count": 71,
      "outputs": []
    },
    {
      "cell_type": "code",
      "metadata": {
        "id": "z-7HBAbY4_GS",
        "colab": {
          "base_uri": "https://localhost:8080/"
        },
        "outputId": "26c7dfe3-9d75-49e9-f291-e77ad8fe0fc1"
      },
      "source": [
        "im1 = plt.imread('/content/WIN_20211128_07_41_53_Pro.jpg')\n",
        "im1 = cv2.resize(im1, (448,448))\n",
        "tensor_im1 =torchvision.transforms.ToTensor()(im1)\n",
        "tensor_im1 = tensor_im1.resize(1,tensor_im1.shape[0],tensor_im1.shape[1],tensor_im1.shape[2]).float().cuda()\n",
        "result = predict(tensor_im1)"
      ],
      "execution_count": 78,
      "outputs": [
        {
          "output_type": "stream",
          "name": "stderr",
          "text": [
            "/usr/local/lib/python3.7/dist-packages/torch/_tensor.py:493: UserWarning: non-inplace resize is deprecated\n",
            "  warnings.warn(\"non-inplace resize is deprecated\")\n"
          ]
        }
      ]
    },
    {
      "cell_type": "code",
      "metadata": {
        "id": "jB6k9WSfGxu9"
      },
      "source": [
        "new_img = bounding_box_show(result, im1)"
      ],
      "execution_count": 79,
      "outputs": []
    },
    {
      "cell_type": "code",
      "metadata": {
        "colab": {
          "base_uri": "https://localhost:8080/",
          "height": 287
        },
        "id": "IJZanK0B0IOq",
        "outputId": "f5164002-16eb-40ac-fb21-4c02508a7bee"
      },
      "source": [
        "plt.imshow(im1)"
      ],
      "execution_count": 80,
      "outputs": [
        {
          "output_type": "execute_result",
          "data": {
            "text/plain": [
              "<matplotlib.image.AxesImage at 0x7fac93b139d0>"
            ]
          },
          "metadata": {},
          "execution_count": 80
        },
        {
          "output_type": "display_data",
          "data": {
            "image/png": "[encoded data removed]",
            "text/plain": [
              "<Figure size 432x288 with 1 Axes>"
            ]
          },
          "metadata": {
            "needs_background": "light"
          }
        }
      ]
    },
    {
      "cell_type": "markdown",
      "metadata": {
        "id": "--D_-d48l21w"
      },
      "source": [
        ""
      ]
    }
  ]
}